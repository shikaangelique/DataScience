{
 "cells": [
  {
   "cell_type": "markdown",
   "metadata": {
    "collapsed": true
   },
   "source": [
    "# Employee Exit Survey Analysis\n",
    "## Data Cleaning and Analysis\n",
    "\n",
    "In this project, exit surveys from employees of the Department of Education, Training and Employment (DETE) and the Technical and Further Education (TAFE) institute in Queensland, Australia are combined, cleaned and analysed to find out the following: \n",
    "\n",
    "- Are employees who only worked for the institutes for a short period of time resigning due to some kind of dissatisfaction? What about employees who have been there longer?\n",
    "- Are younger employees resigning due to some kind of dissatisfaction? What about older employees?\n",
    "\n",
    "The main columns in the DETE dataset are described as follows:\n",
    "- **ID**: An ID used to identify the participant of the survey\n",
    "- **SeparationType**: The reason why the person's employment ended\n",
    "- **Cease Date**: The year or month the person's employment ended\n",
    "- **DETE Start Date**: The year the person began employment with the DETE\n",
    "\n",
    "The main columns in the TAFE dataset are described as follows:\n",
    "- **Record ID**: An ID used to identify the participant of the survey\n",
    "- **Reason for ceasing employment**: The reason why the person's employment ended\n",
    "- **LengthofServiceOverall**: Overall Length of Service at Institute (in years): The length of the person's employment (in years)\n",
    "\n",
    "Although both organizations used the same survey template, TAFE customized some of the answers."
   ]
  },
  {
   "cell_type": "code",
   "execution_count": 1,
   "metadata": {
    "scrolled": true
   },
   "outputs": [],
   "source": [
    "# Importing relevant libraries\n",
    "import pandas as pd\n",
    "import numpy as np\n",
    "import matplotlib.pyplot as plt\n",
    "import seaborn as sns\n",
    "# import plotly.express as px\n",
    "# import plotly.graph_objects as go\n",
    "# from plotly.subplots import make_subplots\n",
    "\n",
    "# Reading in survey datasets\n",
    "dete_survey = pd.read_csv('dete_survey.csv')\n",
    "tafe_survey = pd.read_csv('tafe_survey.csv')"
   ]
  },
  {
   "cell_type": "markdown",
   "metadata": {},
   "source": [
    "### Data Exploration"
   ]
  },
  {
   "cell_type": "code",
   "execution_count": 2,
   "metadata": {},
   "outputs": [
    {
     "data": {
      "text/plain": "      Record ID                              Institute  \\\n0  6.341330e+17  Southern Queensland Institute of TAFE   \n1  6.341337e+17            Mount Isa Institute of TAFE   \n2  6.341388e+17            Mount Isa Institute of TAFE   \n3  6.341399e+17            Mount Isa Institute of TAFE   \n4  6.341466e+17  Southern Queensland Institute of TAFE   \n\n                   WorkArea  CESSATION YEAR Reason for ceasing employment  \\\n0  Non-Delivery (corporate)          2010.0              Contract Expired   \n1  Non-Delivery (corporate)          2010.0                    Retirement   \n2       Delivery (teaching)          2010.0                    Retirement   \n3  Non-Delivery (corporate)          2010.0                   Resignation   \n4       Delivery (teaching)          2010.0                   Resignation   \n\n  Contributing Factors. Career Move - Public Sector   \\\n0                                                NaN   \n1                                                  -   \n2                                                  -   \n3                                                  -   \n4                                                  -   \n\n  Contributing Factors. Career Move - Private Sector   \\\n0                                                NaN    \n1                                                  -    \n2                                                  -    \n3                                                  -    \n4                       Career Move - Private Sector    \n\n  Contributing Factors. Career Move - Self-employment  \\\n0                                                NaN    \n1                                                  -    \n2                                                  -    \n3                                                  -    \n4                                                  -    \n\n  Contributing Factors. Ill Health Contributing Factors. Maternity/Family  \\\n0                              NaN                                    NaN   \n1                                -                                      -   \n2                                -                                      -   \n3                                -                                      -   \n4                                -                                      -   \n\n   ...  \\\n0  ...   \n1  ...   \n2  ...   \n3  ...   \n4  ...   \n\n  Workplace. Topic:Does your workplace promote a work culture free from all forms of unlawful discrimination?  \\\n0                                                Yes                                                            \n1                                                Yes                                                            \n2                                                Yes                                                            \n3                                                Yes                                                            \n4                                                Yes                                                            \n\n  Workplace. Topic:Does your workplace promote and practice the principles of employment equity?  \\\n0                                                Yes                                               \n1                                                Yes                                               \n2                                                Yes                                               \n3                                                Yes                                               \n4                                                Yes                                               \n\n  Workplace. Topic:Does your workplace value the diversity of its employees?  \\\n0                                                Yes                           \n1                                                Yes                           \n2                                                Yes                           \n3                                                Yes                           \n4                                                Yes                           \n\n  Workplace. Topic:Would you recommend the Institute as an employer to others?  \\\n0                                                Yes                             \n1                                                Yes                             \n2                                                Yes                             \n3                                                Yes                             \n4                                                Yes                             \n\n  Gender. What is your Gender? CurrentAge. Current Age  \\\n0                       Female                  26  30   \n1                          NaN                     NaN   \n2                          NaN                     NaN   \n3                          NaN                     NaN   \n4                         Male                  41  45   \n\n  Employment Type. Employment Type Classification. Classification  \\\n0              Temporary Full-time            Administration (AO)   \n1                              NaN                            NaN   \n2                              NaN                            NaN   \n3                              NaN                            NaN   \n4              Permanent Full-time        Teacher (including LVT)   \n\n  LengthofServiceOverall. Overall Length of Service at Institute (in years)  \\\n0                                                1-2                          \n1                                                NaN                          \n2                                                NaN                          \n3                                                NaN                          \n4                                                3-4                          \n\n  LengthofServiceCurrent. Length of Service at current workplace (in years)  \n0                                                1-2                         \n1                                                NaN                         \n2                                                NaN                         \n3                                                NaN                         \n4                                                3-4                         \n\n[5 rows x 72 columns]",
      "text/html": "<div>\n<style scoped>\n    .dataframe tbody tr th:only-of-type {\n        vertical-align: middle;\n    }\n\n    .dataframe tbody tr th {\n        vertical-align: top;\n    }\n\n    .dataframe thead th {\n        text-align: right;\n    }\n</style>\n<table border=\"1\" class=\"dataframe\">\n  <thead>\n    <tr style=\"text-align: right;\">\n      <th></th>\n      <th>Record ID</th>\n      <th>Institute</th>\n      <th>WorkArea</th>\n      <th>CESSATION YEAR</th>\n      <th>Reason for ceasing employment</th>\n      <th>Contributing Factors. Career Move - Public Sector</th>\n      <th>Contributing Factors. Career Move - Private Sector</th>\n      <th>Contributing Factors. Career Move - Self-employment</th>\n      <th>Contributing Factors. Ill Health</th>\n      <th>Contributing Factors. Maternity/Family</th>\n      <th>...</th>\n      <th>Workplace. Topic:Does your workplace promote a work culture free from all forms of unlawful discrimination?</th>\n      <th>Workplace. Topic:Does your workplace promote and practice the principles of employment equity?</th>\n      <th>Workplace. Topic:Does your workplace value the diversity of its employees?</th>\n      <th>Workplace. Topic:Would you recommend the Institute as an employer to others?</th>\n      <th>Gender. What is your Gender?</th>\n      <th>CurrentAge. Current Age</th>\n      <th>Employment Type. Employment Type</th>\n      <th>Classification. Classification</th>\n      <th>LengthofServiceOverall. Overall Length of Service at Institute (in years)</th>\n      <th>LengthofServiceCurrent. Length of Service at current workplace (in years)</th>\n    </tr>\n  </thead>\n  <tbody>\n    <tr>\n      <th>0</th>\n      <td>6.341330e+17</td>\n      <td>Southern Queensland Institute of TAFE</td>\n      <td>Non-Delivery (corporate)</td>\n      <td>2010.0</td>\n      <td>Contract Expired</td>\n      <td>NaN</td>\n      <td>NaN</td>\n      <td>NaN</td>\n      <td>NaN</td>\n      <td>NaN</td>\n      <td>...</td>\n      <td>Yes</td>\n      <td>Yes</td>\n      <td>Yes</td>\n      <td>Yes</td>\n      <td>Female</td>\n      <td>26  30</td>\n      <td>Temporary Full-time</td>\n      <td>Administration (AO)</td>\n      <td>1-2</td>\n      <td>1-2</td>\n    </tr>\n    <tr>\n      <th>1</th>\n      <td>6.341337e+17</td>\n      <td>Mount Isa Institute of TAFE</td>\n      <td>Non-Delivery (corporate)</td>\n      <td>2010.0</td>\n      <td>Retirement</td>\n      <td>-</td>\n      <td>-</td>\n      <td>-</td>\n      <td>-</td>\n      <td>-</td>\n      <td>...</td>\n      <td>Yes</td>\n      <td>Yes</td>\n      <td>Yes</td>\n      <td>Yes</td>\n      <td>NaN</td>\n      <td>NaN</td>\n      <td>NaN</td>\n      <td>NaN</td>\n      <td>NaN</td>\n      <td>NaN</td>\n    </tr>\n    <tr>\n      <th>2</th>\n      <td>6.341388e+17</td>\n      <td>Mount Isa Institute of TAFE</td>\n      <td>Delivery (teaching)</td>\n      <td>2010.0</td>\n      <td>Retirement</td>\n      <td>-</td>\n      <td>-</td>\n      <td>-</td>\n      <td>-</td>\n      <td>-</td>\n      <td>...</td>\n      <td>Yes</td>\n      <td>Yes</td>\n      <td>Yes</td>\n      <td>Yes</td>\n      <td>NaN</td>\n      <td>NaN</td>\n      <td>NaN</td>\n      <td>NaN</td>\n      <td>NaN</td>\n      <td>NaN</td>\n    </tr>\n    <tr>\n      <th>3</th>\n      <td>6.341399e+17</td>\n      <td>Mount Isa Institute of TAFE</td>\n      <td>Non-Delivery (corporate)</td>\n      <td>2010.0</td>\n      <td>Resignation</td>\n      <td>-</td>\n      <td>-</td>\n      <td>-</td>\n      <td>-</td>\n      <td>-</td>\n      <td>...</td>\n      <td>Yes</td>\n      <td>Yes</td>\n      <td>Yes</td>\n      <td>Yes</td>\n      <td>NaN</td>\n      <td>NaN</td>\n      <td>NaN</td>\n      <td>NaN</td>\n      <td>NaN</td>\n      <td>NaN</td>\n    </tr>\n    <tr>\n      <th>4</th>\n      <td>6.341466e+17</td>\n      <td>Southern Queensland Institute of TAFE</td>\n      <td>Delivery (teaching)</td>\n      <td>2010.0</td>\n      <td>Resignation</td>\n      <td>-</td>\n      <td>Career Move - Private Sector</td>\n      <td>-</td>\n      <td>-</td>\n      <td>-</td>\n      <td>...</td>\n      <td>Yes</td>\n      <td>Yes</td>\n      <td>Yes</td>\n      <td>Yes</td>\n      <td>Male</td>\n      <td>41  45</td>\n      <td>Permanent Full-time</td>\n      <td>Teacher (including LVT)</td>\n      <td>3-4</td>\n      <td>3-4</td>\n    </tr>\n  </tbody>\n</table>\n<p>5 rows × 72 columns</p>\n</div>"
     },
     "execution_count": 2,
     "metadata": {},
     "output_type": "execute_result"
    }
   ],
   "source": [
    "dete_survey.head(5)\n",
    "tafe_survey.head(5)"
   ]
  },
  {
   "cell_type": "code",
   "execution_count": 3,
   "metadata": {},
   "outputs": [
    {
     "name": "stdout",
     "output_type": "stream",
     "text": [
      "<class 'pandas.core.frame.DataFrame'>\n",
      "RangeIndex: 822 entries, 0 to 821\n",
      "Data columns (total 56 columns):\n",
      " #   Column                               Non-Null Count  Dtype \n",
      "---  ------                               --------------  ----- \n",
      " 0   ID                                   822 non-null    int64 \n",
      " 1   SeparationType                       822 non-null    object\n",
      " 2   Cease Date                           822 non-null    object\n",
      " 3   DETE Start Date                      822 non-null    object\n",
      " 4   Role Start Date                      822 non-null    object\n",
      " 5   Position                             817 non-null    object\n",
      " 6   Classification                       455 non-null    object\n",
      " 7   Region                               822 non-null    object\n",
      " 8   Business Unit                        126 non-null    object\n",
      " 9   Employment Status                    817 non-null    object\n",
      " 10  Career move to public sector         822 non-null    bool  \n",
      " 11  Career move to private sector        822 non-null    bool  \n",
      " 12  Interpersonal conflicts              822 non-null    bool  \n",
      " 13  Job dissatisfaction                  822 non-null    bool  \n",
      " 14  Dissatisfaction with the department  822 non-null    bool  \n",
      " 15  Physical work environment            822 non-null    bool  \n",
      " 16  Lack of recognition                  822 non-null    bool  \n",
      " 17  Lack of job security                 822 non-null    bool  \n",
      " 18  Work location                        822 non-null    bool  \n",
      " 19  Employment conditions                822 non-null    bool  \n",
      " 20  Maternity/family                     822 non-null    bool  \n",
      " 21  Relocation                           822 non-null    bool  \n",
      " 22  Study/Travel                         822 non-null    bool  \n",
      " 23  Ill Health                           822 non-null    bool  \n",
      " 24  Traumatic incident                   822 non-null    bool  \n",
      " 25  Work life balance                    822 non-null    bool  \n",
      " 26  Workload                             822 non-null    bool  \n",
      " 27  None of the above                    822 non-null    bool  \n",
      " 28  Professional Development             808 non-null    object\n",
      " 29  Opportunities for promotion          735 non-null    object\n",
      " 30  Staff morale                         816 non-null    object\n",
      " 31  Workplace issue                      788 non-null    object\n",
      " 32  Physical environment                 817 non-null    object\n",
      " 33  Worklife balance                     815 non-null    object\n",
      " 34  Stress and pressure support          810 non-null    object\n",
      " 35  Performance of supervisor            813 non-null    object\n",
      " 36  Peer support                         812 non-null    object\n",
      " 37  Initiative                           813 non-null    object\n",
      " 38  Skills                               811 non-null    object\n",
      " 39  Coach                                767 non-null    object\n",
      " 40  Career Aspirations                   746 non-null    object\n",
      " 41  Feedback                             792 non-null    object\n",
      " 42  Further PD                           768 non-null    object\n",
      " 43  Communication                        814 non-null    object\n",
      " 44  My say                               812 non-null    object\n",
      " 45  Information                          816 non-null    object\n",
      " 46  Kept informed                        813 non-null    object\n",
      " 47  Wellness programs                    766 non-null    object\n",
      " 48  Health & Safety                      793 non-null    object\n",
      " 49  Gender                               798 non-null    object\n",
      " 50  Age                                  811 non-null    object\n",
      " 51  Aboriginal                           16 non-null     object\n",
      " 52  Torres Strait                        3 non-null      object\n",
      " 53  South Sea                            7 non-null      object\n",
      " 54  Disability                           23 non-null     object\n",
      " 55  NESB                                 32 non-null     object\n",
      "dtypes: bool(18), int64(1), object(37)\n",
      "memory usage: 258.6+ KB\n"
     ]
    },
    {
     "data": {
      "text/plain": "                ID  SeparationType Cease Date DETE Start Date Role Start Date  \\\ncount   822.000000             822        822             822             822   \nunique         NaN               9         25              51              46   \ntop            NaN  Age Retirement       2012      Not Stated      Not Stated   \nfreq           NaN             285        344              73              98   \nmean    411.693431             NaN        NaN             NaN             NaN   \nstd     237.705820             NaN        NaN             NaN             NaN   \nmin       1.000000             NaN        NaN             NaN             NaN   \n25%     206.250000             NaN        NaN             NaN             NaN   \n50%     411.500000             NaN        NaN             NaN             NaN   \n75%     616.750000             NaN        NaN             NaN             NaN   \nmax     823.000000             NaN        NaN             NaN             NaN   \n\n       Position Classification        Region         Business Unit  \\\ncount       817            455           822                   126   \nunique       15              8             9                    14   \ntop     Teacher        Primary  Metropolitan  Education Queensland   \nfreq        324            161           135                    54   \nmean        NaN            NaN           NaN                   NaN   \nstd         NaN            NaN           NaN                   NaN   \nmin         NaN            NaN           NaN                   NaN   \n25%         NaN            NaN           NaN                   NaN   \n50%         NaN            NaN           NaN                   NaN   \n75%         NaN            NaN           NaN                   NaN   \nmax         NaN            NaN           NaN                   NaN   \n\n          Employment Status  ... Kept informed Wellness programs  \\\ncount                   817  ...           813               766   \nunique                    5  ...             6                 6   \ntop     Permanent Full-time  ...             A                 A   \nfreq                    434  ...           401               253   \nmean                    NaN  ...           NaN               NaN   \nstd                     NaN  ...           NaN               NaN   \nmin                     NaN  ...           NaN               NaN   \n25%                     NaN  ...           NaN               NaN   \n50%                     NaN  ...           NaN               NaN   \n75%                     NaN  ...           NaN               NaN   \nmax                     NaN  ...           NaN               NaN   \n\n       Health & Safety  Gender          Age Aboriginal Torres Strait  \\\ncount              793     798          811         16             3   \nunique               6       2           10          1             1   \ntop                  A  Female  61 or older        Yes           Yes   \nfreq               386     573          222         16             3   \nmean               NaN     NaN          NaN        NaN           NaN   \nstd                NaN     NaN          NaN        NaN           NaN   \nmin                NaN     NaN          NaN        NaN           NaN   \n25%                NaN     NaN          NaN        NaN           NaN   \n50%                NaN     NaN          NaN        NaN           NaN   \n75%                NaN     NaN          NaN        NaN           NaN   \nmax                NaN     NaN          NaN        NaN           NaN   \n\n       South Sea Disability NESB  \ncount          7         23   32  \nunique         1          1    1  \ntop          Yes        Yes  Yes  \nfreq           7         23   32  \nmean         NaN        NaN  NaN  \nstd          NaN        NaN  NaN  \nmin          NaN        NaN  NaN  \n25%          NaN        NaN  NaN  \n50%          NaN        NaN  NaN  \n75%          NaN        NaN  NaN  \nmax          NaN        NaN  NaN  \n\n[11 rows x 56 columns]",
      "text/html": "<div>\n<style scoped>\n    .dataframe tbody tr th:only-of-type {\n        vertical-align: middle;\n    }\n\n    .dataframe tbody tr th {\n        vertical-align: top;\n    }\n\n    .dataframe thead th {\n        text-align: right;\n    }\n</style>\n<table border=\"1\" class=\"dataframe\">\n  <thead>\n    <tr style=\"text-align: right;\">\n      <th></th>\n      <th>ID</th>\n      <th>SeparationType</th>\n      <th>Cease Date</th>\n      <th>DETE Start Date</th>\n      <th>Role Start Date</th>\n      <th>Position</th>\n      <th>Classification</th>\n      <th>Region</th>\n      <th>Business Unit</th>\n      <th>Employment Status</th>\n      <th>...</th>\n      <th>Kept informed</th>\n      <th>Wellness programs</th>\n      <th>Health &amp; Safety</th>\n      <th>Gender</th>\n      <th>Age</th>\n      <th>Aboriginal</th>\n      <th>Torres Strait</th>\n      <th>South Sea</th>\n      <th>Disability</th>\n      <th>NESB</th>\n    </tr>\n  </thead>\n  <tbody>\n    <tr>\n      <th>count</th>\n      <td>822.000000</td>\n      <td>822</td>\n      <td>822</td>\n      <td>822</td>\n      <td>822</td>\n      <td>817</td>\n      <td>455</td>\n      <td>822</td>\n      <td>126</td>\n      <td>817</td>\n      <td>...</td>\n      <td>813</td>\n      <td>766</td>\n      <td>793</td>\n      <td>798</td>\n      <td>811</td>\n      <td>16</td>\n      <td>3</td>\n      <td>7</td>\n      <td>23</td>\n      <td>32</td>\n    </tr>\n    <tr>\n      <th>unique</th>\n      <td>NaN</td>\n      <td>9</td>\n      <td>25</td>\n      <td>51</td>\n      <td>46</td>\n      <td>15</td>\n      <td>8</td>\n      <td>9</td>\n      <td>14</td>\n      <td>5</td>\n      <td>...</td>\n      <td>6</td>\n      <td>6</td>\n      <td>6</td>\n      <td>2</td>\n      <td>10</td>\n      <td>1</td>\n      <td>1</td>\n      <td>1</td>\n      <td>1</td>\n      <td>1</td>\n    </tr>\n    <tr>\n      <th>top</th>\n      <td>NaN</td>\n      <td>Age Retirement</td>\n      <td>2012</td>\n      <td>Not Stated</td>\n      <td>Not Stated</td>\n      <td>Teacher</td>\n      <td>Primary</td>\n      <td>Metropolitan</td>\n      <td>Education Queensland</td>\n      <td>Permanent Full-time</td>\n      <td>...</td>\n      <td>A</td>\n      <td>A</td>\n      <td>A</td>\n      <td>Female</td>\n      <td>61 or older</td>\n      <td>Yes</td>\n      <td>Yes</td>\n      <td>Yes</td>\n      <td>Yes</td>\n      <td>Yes</td>\n    </tr>\n    <tr>\n      <th>freq</th>\n      <td>NaN</td>\n      <td>285</td>\n      <td>344</td>\n      <td>73</td>\n      <td>98</td>\n      <td>324</td>\n      <td>161</td>\n      <td>135</td>\n      <td>54</td>\n      <td>434</td>\n      <td>...</td>\n      <td>401</td>\n      <td>253</td>\n      <td>386</td>\n      <td>573</td>\n      <td>222</td>\n      <td>16</td>\n      <td>3</td>\n      <td>7</td>\n      <td>23</td>\n      <td>32</td>\n    </tr>\n    <tr>\n      <th>mean</th>\n      <td>411.693431</td>\n      <td>NaN</td>\n      <td>NaN</td>\n      <td>NaN</td>\n      <td>NaN</td>\n      <td>NaN</td>\n      <td>NaN</td>\n      <td>NaN</td>\n      <td>NaN</td>\n      <td>NaN</td>\n      <td>...</td>\n      <td>NaN</td>\n      <td>NaN</td>\n      <td>NaN</td>\n      <td>NaN</td>\n      <td>NaN</td>\n      <td>NaN</td>\n      <td>NaN</td>\n      <td>NaN</td>\n      <td>NaN</td>\n      <td>NaN</td>\n    </tr>\n    <tr>\n      <th>std</th>\n      <td>237.705820</td>\n      <td>NaN</td>\n      <td>NaN</td>\n      <td>NaN</td>\n      <td>NaN</td>\n      <td>NaN</td>\n      <td>NaN</td>\n      <td>NaN</td>\n      <td>NaN</td>\n      <td>NaN</td>\n      <td>...</td>\n      <td>NaN</td>\n      <td>NaN</td>\n      <td>NaN</td>\n      <td>NaN</td>\n      <td>NaN</td>\n      <td>NaN</td>\n      <td>NaN</td>\n      <td>NaN</td>\n      <td>NaN</td>\n      <td>NaN</td>\n    </tr>\n    <tr>\n      <th>min</th>\n      <td>1.000000</td>\n      <td>NaN</td>\n      <td>NaN</td>\n      <td>NaN</td>\n      <td>NaN</td>\n      <td>NaN</td>\n      <td>NaN</td>\n      <td>NaN</td>\n      <td>NaN</td>\n      <td>NaN</td>\n      <td>...</td>\n      <td>NaN</td>\n      <td>NaN</td>\n      <td>NaN</td>\n      <td>NaN</td>\n      <td>NaN</td>\n      <td>NaN</td>\n      <td>NaN</td>\n      <td>NaN</td>\n      <td>NaN</td>\n      <td>NaN</td>\n    </tr>\n    <tr>\n      <th>25%</th>\n      <td>206.250000</td>\n      <td>NaN</td>\n      <td>NaN</td>\n      <td>NaN</td>\n      <td>NaN</td>\n      <td>NaN</td>\n      <td>NaN</td>\n      <td>NaN</td>\n      <td>NaN</td>\n      <td>NaN</td>\n      <td>...</td>\n      <td>NaN</td>\n      <td>NaN</td>\n      <td>NaN</td>\n      <td>NaN</td>\n      <td>NaN</td>\n      <td>NaN</td>\n      <td>NaN</td>\n      <td>NaN</td>\n      <td>NaN</td>\n      <td>NaN</td>\n    </tr>\n    <tr>\n      <th>50%</th>\n      <td>411.500000</td>\n      <td>NaN</td>\n      <td>NaN</td>\n      <td>NaN</td>\n      <td>NaN</td>\n      <td>NaN</td>\n      <td>NaN</td>\n      <td>NaN</td>\n      <td>NaN</td>\n      <td>NaN</td>\n      <td>...</td>\n      <td>NaN</td>\n      <td>NaN</td>\n      <td>NaN</td>\n      <td>NaN</td>\n      <td>NaN</td>\n      <td>NaN</td>\n      <td>NaN</td>\n      <td>NaN</td>\n      <td>NaN</td>\n      <td>NaN</td>\n    </tr>\n    <tr>\n      <th>75%</th>\n      <td>616.750000</td>\n      <td>NaN</td>\n      <td>NaN</td>\n      <td>NaN</td>\n      <td>NaN</td>\n      <td>NaN</td>\n      <td>NaN</td>\n      <td>NaN</td>\n      <td>NaN</td>\n      <td>NaN</td>\n      <td>...</td>\n      <td>NaN</td>\n      <td>NaN</td>\n      <td>NaN</td>\n      <td>NaN</td>\n      <td>NaN</td>\n      <td>NaN</td>\n      <td>NaN</td>\n      <td>NaN</td>\n      <td>NaN</td>\n      <td>NaN</td>\n    </tr>\n    <tr>\n      <th>max</th>\n      <td>823.000000</td>\n      <td>NaN</td>\n      <td>NaN</td>\n      <td>NaN</td>\n      <td>NaN</td>\n      <td>NaN</td>\n      <td>NaN</td>\n      <td>NaN</td>\n      <td>NaN</td>\n      <td>NaN</td>\n      <td>...</td>\n      <td>NaN</td>\n      <td>NaN</td>\n      <td>NaN</td>\n      <td>NaN</td>\n      <td>NaN</td>\n      <td>NaN</td>\n      <td>NaN</td>\n      <td>NaN</td>\n      <td>NaN</td>\n      <td>NaN</td>\n    </tr>\n  </tbody>\n</table>\n<p>11 rows × 56 columns</p>\n</div>"
     },
     "execution_count": 3,
     "metadata": {},
     "output_type": "execute_result"
    }
   ],
   "source": [
    "dete_survey.info()\n",
    "dete_survey.isnull().sum().sort_values(ascending=False)\n",
    "dete_survey.describe(include='all')"
   ]
  },
  {
   "cell_type": "code",
   "execution_count": 4,
   "metadata": {},
   "outputs": [
    {
     "name": "stdout",
     "output_type": "stream",
     "text": [
      "<class 'pandas.core.frame.DataFrame'>\n",
      "RangeIndex: 702 entries, 0 to 701\n",
      "Data columns (total 72 columns):\n",
      " #   Column                                                                                                                                                         Non-Null Count  Dtype  \n",
      "---  ------                                                                                                                                                         --------------  -----  \n",
      " 0   Record ID                                                                                                                                                      702 non-null    float64\n",
      " 1   Institute                                                                                                                                                      702 non-null    object \n",
      " 2   WorkArea                                                                                                                                                       702 non-null    object \n",
      " 3   CESSATION YEAR                                                                                                                                                 695 non-null    float64\n",
      " 4   Reason for ceasing employment                                                                                                                                  701 non-null    object \n",
      " 5   Contributing Factors. Career Move - Public Sector                                                                                                              437 non-null    object \n",
      " 6   Contributing Factors. Career Move - Private Sector                                                                                                             437 non-null    object \n",
      " 7   Contributing Factors. Career Move - Self-employment                                                                                                            437 non-null    object \n",
      " 8   Contributing Factors. Ill Health                                                                                                                               437 non-null    object \n",
      " 9   Contributing Factors. Maternity/Family                                                                                                                         437 non-null    object \n",
      " 10  Contributing Factors. Dissatisfaction                                                                                                                          437 non-null    object \n",
      " 11  Contributing Factors. Job Dissatisfaction                                                                                                                      437 non-null    object \n",
      " 12  Contributing Factors. Interpersonal Conflict                                                                                                                   437 non-null    object \n",
      " 13  Contributing Factors. Study                                                                                                                                    437 non-null    object \n",
      " 14  Contributing Factors. Travel                                                                                                                                   437 non-null    object \n",
      " 15  Contributing Factors. Other                                                                                                                                    437 non-null    object \n",
      " 16  Contributing Factors. NONE                                                                                                                                     437 non-null    object \n",
      " 17  Main Factor. Which of these was the main factor for leaving?                                                                                                   113 non-null    object \n",
      " 18  InstituteViews. Topic:1. I feel the senior leadership had a clear vision and direction                                                                         608 non-null    object \n",
      " 19  InstituteViews. Topic:2. I was given access to skills training to help me do my job better                                                                     613 non-null    object \n",
      " 20  InstituteViews. Topic:3. I was given adequate opportunities for personal development                                                                           610 non-null    object \n",
      " 21  InstituteViews. Topic:4. I was given adequate opportunities for promotion within %Institute]Q25LBL%                                                            608 non-null    object \n",
      " 22  InstituteViews. Topic:5. I felt the salary for the job was right for the responsibilities I had                                                                615 non-null    object \n",
      " 23  InstituteViews. Topic:6. The organisation recognised when staff did good work                                                                                  607 non-null    object \n",
      " 24  InstituteViews. Topic:7. Management was generally supportive of me                                                                                             614 non-null    object \n",
      " 25  InstituteViews. Topic:8. Management was generally supportive of my team                                                                                        608 non-null    object \n",
      " 26  InstituteViews. Topic:9. I was kept informed of the changes in the organisation which would affect me                                                          610 non-null    object \n",
      " 27  InstituteViews. Topic:10. Staff morale was positive within the Institute                                                                                       602 non-null    object \n",
      " 28  InstituteViews. Topic:11. If I had a workplace issue it was dealt with quickly                                                                                 601 non-null    object \n",
      " 29  InstituteViews. Topic:12. If I had a workplace issue it was dealt with efficiently                                                                             597 non-null    object \n",
      " 30  InstituteViews. Topic:13. If I had a workplace issue it was dealt with discreetly                                                                              601 non-null    object \n",
      " 31  WorkUnitViews. Topic:14. I was satisfied with the quality of the management and supervision within my work unit                                                609 non-null    object \n",
      " 32  WorkUnitViews. Topic:15. I worked well with my colleagues                                                                                                      605 non-null    object \n",
      " 33  WorkUnitViews. Topic:16. My job was challenging and interesting                                                                                                607 non-null    object \n",
      " 34  WorkUnitViews. Topic:17. I was encouraged to use my initiative in the course of my work                                                                        610 non-null    object \n",
      " 35  WorkUnitViews. Topic:18. I had sufficient contact with other people in my job                                                                                  613 non-null    object \n",
      " 36  WorkUnitViews. Topic:19. I was given adequate support and co-operation by my peers to enable me to do my job                                                   609 non-null    object \n",
      " 37  WorkUnitViews. Topic:20. I was able to use the full range of my skills in my job                                                                               609 non-null    object \n",
      " 38  WorkUnitViews. Topic:21. I was able to use the full range of my abilities in my job. ; Category:Level of Agreement; Question:YOUR VIEWS ABOUT YOUR WORK UNIT]  608 non-null    object \n",
      " 39  WorkUnitViews. Topic:22. I was able to use the full range of my knowledge in my job                                                                            608 non-null    object \n",
      " 40  WorkUnitViews. Topic:23. My job provided sufficient variety                                                                                                    611 non-null    object \n",
      " 41  WorkUnitViews. Topic:24. I was able to cope with the level of stress and pressure in my job                                                                    610 non-null    object \n",
      " 42  WorkUnitViews. Topic:25. My job allowed me to balance the demands of work and family to my satisfaction                                                        611 non-null    object \n",
      " 43  WorkUnitViews. Topic:26. My supervisor gave me adequate personal recognition and feedback on my performance                                                    606 non-null    object \n",
      " 44  WorkUnitViews. Topic:27. My working environment was satisfactory e.g. sufficient space, good lighting, suitable seating and working area                       610 non-null    object \n",
      " 45  WorkUnitViews. Topic:28. I was given the opportunity to mentor and coach others in order for me to pass on my skills and knowledge prior to my cessation date  609 non-null    object \n",
      " 46  WorkUnitViews. Topic:29. There was adequate communication between staff in my unit                                                                             603 non-null    object \n",
      " 47  WorkUnitViews. Topic:30. Staff morale was positive within my work unit                                                                                         606 non-null    object \n",
      " 48  Induction. Did you undertake Workplace Induction?                                                                                                              619 non-null    object \n",
      " 49  InductionInfo. Topic:Did you undertake a Corporate Induction?                                                                                                  432 non-null    object \n",
      " 50  InductionInfo. Topic:Did you undertake a Institute Induction?                                                                                                  483 non-null    object \n",
      " 51  InductionInfo. Topic: Did you undertake Team Induction?                                                                                                        440 non-null    object \n",
      " 52  InductionInfo. Face to Face Topic:Did you undertake a Corporate Induction; Category:How it was conducted?                                                      555 non-null    object \n",
      " 53  InductionInfo. On-line Topic:Did you undertake a Corporate Induction; Category:How it was conducted?                                                           555 non-null    object \n",
      " 54  InductionInfo. Induction Manual Topic:Did you undertake a Corporate Induction?                                                                                 555 non-null    object \n",
      " 55  InductionInfo. Face to Face Topic:Did you undertake a Institute Induction?                                                                                     530 non-null    object \n",
      " 56  InductionInfo. On-line Topic:Did you undertake a Institute Induction?                                                                                          555 non-null    object \n",
      " 57  InductionInfo. Induction Manual Topic:Did you undertake a Institute Induction?                                                                                 553 non-null    object \n",
      " 58  InductionInfo. Face to Face Topic: Did you undertake Team Induction; Category?                                                                                 555 non-null    object \n",
      " 59  InductionInfo. On-line Topic: Did you undertake Team Induction?process you undertook and how it was conducted.]                                                555 non-null    object \n",
      " 60  InductionInfo. Induction Manual Topic: Did you undertake Team Induction?                                                                                       555 non-null    object \n",
      " 61  Workplace. Topic:Did you and your Manager develop a Performance and Professional Development Plan (PPDP)?                                                      608 non-null    object \n",
      " 62  Workplace. Topic:Does your workplace promote a work culture free from all forms of unlawful discrimination?                                                    594 non-null    object \n",
      " 63  Workplace. Topic:Does your workplace promote and practice the principles of employment equity?                                                                 587 non-null    object \n",
      " 64  Workplace. Topic:Does your workplace value the diversity of its employees?                                                                                     586 non-null    object \n",
      " 65  Workplace. Topic:Would you recommend the Institute as an employer to others?                                                                                   581 non-null    object \n",
      " 66  Gender. What is your Gender?                                                                                                                                   596 non-null    object \n",
      " 67  CurrentAge. Current Age                                                                                                                                        596 non-null    object \n",
      " 68  Employment Type. Employment Type                                                                                                                               596 non-null    object \n",
      " 69  Classification. Classification                                                                                                                                 596 non-null    object \n",
      " 70  LengthofServiceOverall. Overall Length of Service at Institute (in years)                                                                                      596 non-null    object \n",
      " 71  LengthofServiceCurrent. Length of Service at current workplace (in years)                                                                                      596 non-null    object \n",
      "dtypes: float64(2), object(70)\n",
      "memory usage: 395.0+ KB\n"
     ]
    },
    {
     "data": {
      "text/plain": "           Record ID                         Institute  \\\ncount   7.020000e+02                               702   \nunique           NaN                                12   \ntop              NaN  Brisbane North Institute of TAFE   \nfreq             NaN                               161   \nmean    6.346026e+17                               NaN   \nstd     2.515071e+14                               NaN   \nmin     6.341330e+17                               NaN   \n25%     6.343954e+17                               NaN   \n50%     6.345835e+17                               NaN   \n75%     6.348005e+17                               NaN   \nmax     6.350730e+17                               NaN   \n\n                        WorkArea  CESSATION YEAR  \\\ncount                        702      695.000000   \nunique                         2             NaN   \ntop     Non-Delivery (corporate)             NaN   \nfreq                         432             NaN   \nmean                         NaN     2011.423022   \nstd                          NaN        0.905977   \nmin                          NaN     2009.000000   \n25%                          NaN     2011.000000   \n50%                          NaN     2011.000000   \n75%                          NaN     2012.000000   \nmax                          NaN     2013.000000   \n\n       Reason for ceasing employment  \\\ncount                            701   \nunique                             6   \ntop                      Resignation   \nfreq                             340   \nmean                             NaN   \nstd                              NaN   \nmin                              NaN   \n25%                              NaN   \n50%                              NaN   \n75%                              NaN   \nmax                              NaN   \n\n       Contributing Factors. Career Move - Public Sector   \\\ncount                                                 437   \nunique                                                  2   \ntop                                                     -   \nfreq                                                  375   \nmean                                                  NaN   \nstd                                                   NaN   \nmin                                                   NaN   \n25%                                                   NaN   \n50%                                                   NaN   \n75%                                                   NaN   \nmax                                                   NaN   \n\n       Contributing Factors. Career Move - Private Sector   \\\ncount                                                 437    \nunique                                                  2    \ntop                                                     -    \nfreq                                                  336    \nmean                                                  NaN    \nstd                                                   NaN    \nmin                                                   NaN    \n25%                                                   NaN    \n50%                                                   NaN    \n75%                                                   NaN    \nmax                                                   NaN    \n\n       Contributing Factors. Career Move - Self-employment  \\\ncount                                                 437    \nunique                                                  2    \ntop                                                     -    \nfreq                                                  420    \nmean                                                  NaN    \nstd                                                   NaN    \nmin                                                   NaN    \n25%                                                   NaN    \n50%                                                   NaN    \n75%                                                   NaN    \nmax                                                   NaN    \n\n       Contributing Factors. Ill Health  \\\ncount                               437   \nunique                                2   \ntop                                   -   \nfreq                                403   \nmean                                NaN   \nstd                                 NaN   \nmin                                 NaN   \n25%                                 NaN   \n50%                                 NaN   \n75%                                 NaN   \nmax                                 NaN   \n\n       Contributing Factors. Maternity/Family  ...  \\\ncount                                     437  ...   \nunique                                      2  ...   \ntop                                         -  ...   \nfreq                                      411  ...   \nmean                                      NaN  ...   \nstd                                       NaN  ...   \nmin                                       NaN  ...   \n25%                                       NaN  ...   \n50%                                       NaN  ...   \n75%                                       NaN  ...   \nmax                                       NaN  ...   \n\n       Workplace. Topic:Does your workplace promote a work culture free from all forms of unlawful discrimination?  \\\ncount                                                 594                                                            \nunique                                                  2                                                            \ntop                                                   Yes                                                            \nfreq                                                  536                                                            \nmean                                                  NaN                                                            \nstd                                                   NaN                                                            \nmin                                                   NaN                                                            \n25%                                                   NaN                                                            \n50%                                                   NaN                                                            \n75%                                                   NaN                                                            \nmax                                                   NaN                                                            \n\n       Workplace. Topic:Does your workplace promote and practice the principles of employment equity?  \\\ncount                                                 587                                               \nunique                                                  2                                               \ntop                                                   Yes                                               \nfreq                                                  512                                               \nmean                                                  NaN                                               \nstd                                                   NaN                                               \nmin                                                   NaN                                               \n25%                                                   NaN                                               \n50%                                                   NaN                                               \n75%                                                   NaN                                               \nmax                                                   NaN                                               \n\n       Workplace. Topic:Does your workplace value the diversity of its employees?  \\\ncount                                                 586                           \nunique                                                  2                           \ntop                                                   Yes                           \nfreq                                                  488                           \nmean                                                  NaN                           \nstd                                                   NaN                           \nmin                                                   NaN                           \n25%                                                   NaN                           \n50%                                                   NaN                           \n75%                                                   NaN                           \nmax                                                   NaN                           \n\n       Workplace. Topic:Would you recommend the Institute as an employer to others?  \\\ncount                                                 581                             \nunique                                                  2                             \ntop                                                   Yes                             \nfreq                                                  416                             \nmean                                                  NaN                             \nstd                                                   NaN                             \nmin                                                   NaN                             \n25%                                                   NaN                             \n50%                                                   NaN                             \n75%                                                   NaN                             \nmax                                                   NaN                             \n\n       Gender. What is your Gender? CurrentAge. Current Age  \\\ncount                           596                     596   \nunique                            2                       9   \ntop                          Female             56 or older   \nfreq                            389                     162   \nmean                            NaN                     NaN   \nstd                             NaN                     NaN   \nmin                             NaN                     NaN   \n25%                             NaN                     NaN   \n50%                             NaN                     NaN   \n75%                             NaN                     NaN   \nmax                             NaN                     NaN   \n\n       Employment Type. Employment Type Classification. Classification  \\\ncount                               596                            596   \nunique                                5                              9   \ntop                 Permanent Full-time            Administration (AO)   \nfreq                                237                            293   \nmean                                NaN                            NaN   \nstd                                 NaN                            NaN   \nmin                                 NaN                            NaN   \n25%                                 NaN                            NaN   \n50%                                 NaN                            NaN   \n75%                                 NaN                            NaN   \nmax                                 NaN                            NaN   \n\n       LengthofServiceOverall. Overall Length of Service at Institute (in years)  \\\ncount                                                 596                          \nunique                                                  7                          \ntop                                      Less than 1 year                          \nfreq                                                  147                          \nmean                                                  NaN                          \nstd                                                   NaN                          \nmin                                                   NaN                          \n25%                                                   NaN                          \n50%                                                   NaN                          \n75%                                                   NaN                          \nmax                                                   NaN                          \n\n       LengthofServiceCurrent. Length of Service at current workplace (in years)  \ncount                                                 596                         \nunique                                                  7                         \ntop                                      Less than 1 year                         \nfreq                                                  177                         \nmean                                                  NaN                         \nstd                                                   NaN                         \nmin                                                   NaN                         \n25%                                                   NaN                         \n50%                                                   NaN                         \n75%                                                   NaN                         \nmax                                                   NaN                         \n\n[11 rows x 72 columns]",
      "text/html": "<div>\n<style scoped>\n    .dataframe tbody tr th:only-of-type {\n        vertical-align: middle;\n    }\n\n    .dataframe tbody tr th {\n        vertical-align: top;\n    }\n\n    .dataframe thead th {\n        text-align: right;\n    }\n</style>\n<table border=\"1\" class=\"dataframe\">\n  <thead>\n    <tr style=\"text-align: right;\">\n      <th></th>\n      <th>Record ID</th>\n      <th>Institute</th>\n      <th>WorkArea</th>\n      <th>CESSATION YEAR</th>\n      <th>Reason for ceasing employment</th>\n      <th>Contributing Factors. Career Move - Public Sector</th>\n      <th>Contributing Factors. Career Move - Private Sector</th>\n      <th>Contributing Factors. Career Move - Self-employment</th>\n      <th>Contributing Factors. Ill Health</th>\n      <th>Contributing Factors. Maternity/Family</th>\n      <th>...</th>\n      <th>Workplace. Topic:Does your workplace promote a work culture free from all forms of unlawful discrimination?</th>\n      <th>Workplace. Topic:Does your workplace promote and practice the principles of employment equity?</th>\n      <th>Workplace. Topic:Does your workplace value the diversity of its employees?</th>\n      <th>Workplace. Topic:Would you recommend the Institute as an employer to others?</th>\n      <th>Gender. What is your Gender?</th>\n      <th>CurrentAge. Current Age</th>\n      <th>Employment Type. Employment Type</th>\n      <th>Classification. Classification</th>\n      <th>LengthofServiceOverall. Overall Length of Service at Institute (in years)</th>\n      <th>LengthofServiceCurrent. Length of Service at current workplace (in years)</th>\n    </tr>\n  </thead>\n  <tbody>\n    <tr>\n      <th>count</th>\n      <td>7.020000e+02</td>\n      <td>702</td>\n      <td>702</td>\n      <td>695.000000</td>\n      <td>701</td>\n      <td>437</td>\n      <td>437</td>\n      <td>437</td>\n      <td>437</td>\n      <td>437</td>\n      <td>...</td>\n      <td>594</td>\n      <td>587</td>\n      <td>586</td>\n      <td>581</td>\n      <td>596</td>\n      <td>596</td>\n      <td>596</td>\n      <td>596</td>\n      <td>596</td>\n      <td>596</td>\n    </tr>\n    <tr>\n      <th>unique</th>\n      <td>NaN</td>\n      <td>12</td>\n      <td>2</td>\n      <td>NaN</td>\n      <td>6</td>\n      <td>2</td>\n      <td>2</td>\n      <td>2</td>\n      <td>2</td>\n      <td>2</td>\n      <td>...</td>\n      <td>2</td>\n      <td>2</td>\n      <td>2</td>\n      <td>2</td>\n      <td>2</td>\n      <td>9</td>\n      <td>5</td>\n      <td>9</td>\n      <td>7</td>\n      <td>7</td>\n    </tr>\n    <tr>\n      <th>top</th>\n      <td>NaN</td>\n      <td>Brisbane North Institute of TAFE</td>\n      <td>Non-Delivery (corporate)</td>\n      <td>NaN</td>\n      <td>Resignation</td>\n      <td>-</td>\n      <td>-</td>\n      <td>-</td>\n      <td>-</td>\n      <td>-</td>\n      <td>...</td>\n      <td>Yes</td>\n      <td>Yes</td>\n      <td>Yes</td>\n      <td>Yes</td>\n      <td>Female</td>\n      <td>56 or older</td>\n      <td>Permanent Full-time</td>\n      <td>Administration (AO)</td>\n      <td>Less than 1 year</td>\n      <td>Less than 1 year</td>\n    </tr>\n    <tr>\n      <th>freq</th>\n      <td>NaN</td>\n      <td>161</td>\n      <td>432</td>\n      <td>NaN</td>\n      <td>340</td>\n      <td>375</td>\n      <td>336</td>\n      <td>420</td>\n      <td>403</td>\n      <td>411</td>\n      <td>...</td>\n      <td>536</td>\n      <td>512</td>\n      <td>488</td>\n      <td>416</td>\n      <td>389</td>\n      <td>162</td>\n      <td>237</td>\n      <td>293</td>\n      <td>147</td>\n      <td>177</td>\n    </tr>\n    <tr>\n      <th>mean</th>\n      <td>6.346026e+17</td>\n      <td>NaN</td>\n      <td>NaN</td>\n      <td>2011.423022</td>\n      <td>NaN</td>\n      <td>NaN</td>\n      <td>NaN</td>\n      <td>NaN</td>\n      <td>NaN</td>\n      <td>NaN</td>\n      <td>...</td>\n      <td>NaN</td>\n      <td>NaN</td>\n      <td>NaN</td>\n      <td>NaN</td>\n      <td>NaN</td>\n      <td>NaN</td>\n      <td>NaN</td>\n      <td>NaN</td>\n      <td>NaN</td>\n      <td>NaN</td>\n    </tr>\n    <tr>\n      <th>std</th>\n      <td>2.515071e+14</td>\n      <td>NaN</td>\n      <td>NaN</td>\n      <td>0.905977</td>\n      <td>NaN</td>\n      <td>NaN</td>\n      <td>NaN</td>\n      <td>NaN</td>\n      <td>NaN</td>\n      <td>NaN</td>\n      <td>...</td>\n      <td>NaN</td>\n      <td>NaN</td>\n      <td>NaN</td>\n      <td>NaN</td>\n      <td>NaN</td>\n      <td>NaN</td>\n      <td>NaN</td>\n      <td>NaN</td>\n      <td>NaN</td>\n      <td>NaN</td>\n    </tr>\n    <tr>\n      <th>min</th>\n      <td>6.341330e+17</td>\n      <td>NaN</td>\n      <td>NaN</td>\n      <td>2009.000000</td>\n      <td>NaN</td>\n      <td>NaN</td>\n      <td>NaN</td>\n      <td>NaN</td>\n      <td>NaN</td>\n      <td>NaN</td>\n      <td>...</td>\n      <td>NaN</td>\n      <td>NaN</td>\n      <td>NaN</td>\n      <td>NaN</td>\n      <td>NaN</td>\n      <td>NaN</td>\n      <td>NaN</td>\n      <td>NaN</td>\n      <td>NaN</td>\n      <td>NaN</td>\n    </tr>\n    <tr>\n      <th>25%</th>\n      <td>6.343954e+17</td>\n      <td>NaN</td>\n      <td>NaN</td>\n      <td>2011.000000</td>\n      <td>NaN</td>\n      <td>NaN</td>\n      <td>NaN</td>\n      <td>NaN</td>\n      <td>NaN</td>\n      <td>NaN</td>\n      <td>...</td>\n      <td>NaN</td>\n      <td>NaN</td>\n      <td>NaN</td>\n      <td>NaN</td>\n      <td>NaN</td>\n      <td>NaN</td>\n      <td>NaN</td>\n      <td>NaN</td>\n      <td>NaN</td>\n      <td>NaN</td>\n    </tr>\n    <tr>\n      <th>50%</th>\n      <td>6.345835e+17</td>\n      <td>NaN</td>\n      <td>NaN</td>\n      <td>2011.000000</td>\n      <td>NaN</td>\n      <td>NaN</td>\n      <td>NaN</td>\n      <td>NaN</td>\n      <td>NaN</td>\n      <td>NaN</td>\n      <td>...</td>\n      <td>NaN</td>\n      <td>NaN</td>\n      <td>NaN</td>\n      <td>NaN</td>\n      <td>NaN</td>\n      <td>NaN</td>\n      <td>NaN</td>\n      <td>NaN</td>\n      <td>NaN</td>\n      <td>NaN</td>\n    </tr>\n    <tr>\n      <th>75%</th>\n      <td>6.348005e+17</td>\n      <td>NaN</td>\n      <td>NaN</td>\n      <td>2012.000000</td>\n      <td>NaN</td>\n      <td>NaN</td>\n      <td>NaN</td>\n      <td>NaN</td>\n      <td>NaN</td>\n      <td>NaN</td>\n      <td>...</td>\n      <td>NaN</td>\n      <td>NaN</td>\n      <td>NaN</td>\n      <td>NaN</td>\n      <td>NaN</td>\n      <td>NaN</td>\n      <td>NaN</td>\n      <td>NaN</td>\n      <td>NaN</td>\n      <td>NaN</td>\n    </tr>\n    <tr>\n      <th>max</th>\n      <td>6.350730e+17</td>\n      <td>NaN</td>\n      <td>NaN</td>\n      <td>2013.000000</td>\n      <td>NaN</td>\n      <td>NaN</td>\n      <td>NaN</td>\n      <td>NaN</td>\n      <td>NaN</td>\n      <td>NaN</td>\n      <td>...</td>\n      <td>NaN</td>\n      <td>NaN</td>\n      <td>NaN</td>\n      <td>NaN</td>\n      <td>NaN</td>\n      <td>NaN</td>\n      <td>NaN</td>\n      <td>NaN</td>\n      <td>NaN</td>\n      <td>NaN</td>\n    </tr>\n  </tbody>\n</table>\n<p>11 rows × 72 columns</p>\n</div>"
     },
     "execution_count": 4,
     "metadata": {},
     "output_type": "execute_result"
    }
   ],
   "source": [
    "tafe_survey.info()\n",
    "tafe_survey.isnull().sum().sort_values(ascending=False)\n",
    "tafe_survey.describe(include='all')"
   ]
  },
  {
   "cell_type": "code",
   "execution_count": 5,
   "metadata": {},
   "outputs": [
    {
     "name": "stdout",
     "output_type": "stream",
     "text": [
      "Yes    3\n",
      "Name: Torres Strait, dtype: int64\n",
      "Yes    7\n",
      "Name: South Sea, dtype: int64\n",
      "Yes    16\n",
      "Name: Aboriginal, dtype: int64\n",
      "Yes    23\n",
      "Name: Disability, dtype: int64\n"
     ]
    }
   ],
   "source": [
    "print(dete_survey['Torres Strait'].value_counts())\n",
    "print(dete_survey['South Sea'].value_counts())\n",
    "print(dete_survey['Aboriginal'].value_counts())\n",
    "print(dete_survey['Disability'].value_counts())"
   ]
  },
  {
   "cell_type": "markdown",
   "metadata": {},
   "source": [
    "#### Observations\n",
    "\n",
    "In both dataframes, other than the ID columns, all columns are made up of bool values or object type values. \n",
    "\n",
    "About 4 columns in the DETE dataframe are almost nearly null (**Torres Strait, South Sea, Aboriginal, Disability**).\n",
    "\n",
    "The non-null values in these columns all have the value 'yes' implying True for that column. They can be transformed to boolean values or removed if deemed of little essence in answering the analysis questions. These columns provide information on the nativity of the respondents and therefore may provide little insight on the reason for leaving or age demographic of the respondents. These columns can therefore be removed.\n",
    "\n",
    "Both the dataframes contain many other columns that are not needed to complete our analysis. In addition, each dataframe contains many of the same columns, but the column names are different. There are also multiple columns/answers that all indicate an employee resigned because they were dissatisfied. The extra columns can be removed.\n",
    "\n",
    "The DETE dataframe contains 'Not Stated' values that indicate values are missing, but they aren't represented as NaN. This can be rectified by specification in the read_csv function.\n",
    "\n"
   ]
  },
  {
   "cell_type": "markdown",
   "metadata": {},
   "source": [
    "### Dropping Unwanted Columns\n",
    "\n",
    "For the DETE survey, the objecttype columns from Professional Development (28) to Health & Safety (48) are to be dropped. These are the columns with the values such as Agree, Neutral, Strongly Agree, Disagree, Strongly Disagree and Not Applicable.\n",
    "\n",
    "For the TAFE  survey, the same process is repeated, dropping columns containing similar \"Agree/Disagree\" data from Main Factor (17) to Workplace Topic (65)."
   ]
  },
  {
   "cell_type": "code",
   "execution_count": 6,
   "metadata": {},
   "outputs": [
    {
     "name": "stdout",
     "output_type": "stream",
     "text": [
      "Remaining number of columns:\n",
      "DETE DATAFRAME: 35\n",
      "TAFE DATAFRAME: 23\n"
     ]
    }
   ],
   "source": [
    "# Reading the 'Not Stated' values in as NaN\n",
    "dete_survey = pd.read_csv('dete_survey.csv', na_values='Not Stated')\n",
    "\n",
    "# Dropping columns according to the criteria stated above\n",
    "dete_survey_updated = dete_survey.drop(dete_survey.columns[28:49], axis=1) \n",
    "tafe_survey_updated = tafe_survey.drop(tafe_survey.columns[17:66], axis=1)\n",
    "\n",
    "print('Remaining number of columns:')\n",
    "print('DETE DATAFRAME:', len(dete_survey_updated.columns))\n",
    "print('TAFE DATAFRAME:', len(tafe_survey_updated.columns))"
   ]
  },
  {
   "cell_type": "markdown",
   "metadata": {},
   "source": [
    "### Renaming Columns\n",
    "Each dataframe contains many of the same columns, but the column names are different. Below are some of the columns to be used for the  analysis:\n",
    "\n",
    "\n",
    "| dete_survey     | tafe_survey\t                                                             | Definition                                              |\n",
    "|:----------------|:-------------------------------------------------------------------------|:--------------------------------------------------------|\n",
    "| ID              | \tRecord ID                                                               | \tAn id used to identify the participant of the survey   |\n",
    "| SeparationType  | \tReason for ceasing employment                                           | \tThe reason why the participant's employment ended      |\n",
    "| Cease Date      | \tCESSATION YEAR                                                          | The year or month the participant's employment ended    |\n",
    "| DETE Start Date |                                                                          | The year the participant began employment with the DETE |\n",
    "|                 | LengthofServiceOverall.Overall Length of Service at Institute (in years) | \tThe length of the person's employment (in years)       |\n",
    "| Age             | \tCurrentAge. Current Age                                                 | The age of the participant                              |\n",
    "| Gender          | \tGender. What is your Gender?                                            | \tThe gender of the participant                          |\n",
    "\n",
    "Because the dataframes will be combined the column names must be standardize across both dataframes. \n"
   ]
  },
  {
   "cell_type": "code",
   "execution_count": 7,
   "metadata": {},
   "outputs": [
    {
     "name": "stdout",
     "output_type": "stream",
     "text": [
      "DETE columns:\n",
      "Index(['id', 'separationtype', 'cease_date', 'dete_start_date',\n",
      "       'role_start_date', 'position', 'classification', 'region',\n",
      "       'business_unit', 'employment_status', 'career_move_to_public_sector',\n",
      "       'career_move_to_private_sector', 'interpersonal_conflicts',\n",
      "       'job_dissatisfaction', 'dissatisfaction_with_the_department',\n",
      "       'physical_work_environment', 'lack_of_recognition',\n",
      "       'lack_of_job_security', 'work_location', 'employment_conditions',\n",
      "       'maternity/family', 'relocation', 'study/travel', 'ill_health',\n",
      "       'traumatic_incident', 'work_life_balance', 'workload',\n",
      "       'none_of_the_above', 'gender', 'age', 'aboriginal', 'torres_strait',\n",
      "       'south_sea', 'disability', 'nesb'],\n",
      "      dtype='object')\n",
      "\n",
      "\n",
      "TAFE columns:\n",
      "Index(['id', 'Institute', 'WorkArea', 'cease_date', 'separationtype',\n",
      "       'Contributing Factors. Career Move - Public Sector ',\n",
      "       'Contributing Factors. Career Move - Private Sector ',\n",
      "       'Contributing Factors. Career Move - Self-employment',\n",
      "       'Contributing Factors. Ill Health',\n",
      "       'Contributing Factors. Maternity/Family',\n",
      "       'Contributing Factors. Dissatisfaction',\n",
      "       'Contributing Factors. Job Dissatisfaction',\n",
      "       'Contributing Factors. Interpersonal Conflict',\n",
      "       'Contributing Factors. Study', 'Contributing Factors. Travel',\n",
      "       'Contributing Factors. Other', 'Contributing Factors. NONE', 'gender',\n",
      "       'age', 'employment_status', 'position', 'institute_service',\n",
      "       'role_service'],\n",
      "      dtype='object')\n"
     ]
    },
    {
     "name": "stderr",
     "output_type": "stream",
     "text": [
      "/var/folders/x7/jzsq9_p147140fb1mm83f8_c0000gn/T/ipykernel_5145/326380231.py:2: FutureWarning: The default value of regex will change from True to False in a future version.\n",
      "  dete_survey_updated.columns = dete_survey_updated.columns.str.replace('\\s+', ' ').str.replace(' ','_').str.lower()\n"
     ]
    }
   ],
   "source": [
    "# Formatting DETE column names\n",
    "dete_survey_updated.columns = dete_survey_updated.columns.str.replace('\\s+', ' ').str.replace(' ','_').str.lower()\n",
    "\n",
    "# Matching columns in the TAFE DF\n",
    "tafe_cols_rename = {'Record ID':'id', 'CESSATION YEAR':'cease_date',\n",
    "       'Reason for ceasing employment':'separationtype',\n",
    "       'Gender. What is your Gender?':'gender', 'CurrentAge. Current Age':'age',\n",
    "       'Employment Type. Employment Type':'employment_status', 'Classification. Classification':'position',\n",
    "       'LengthofServiceOverall. Overall Length of Service at Institute (in years)':'institute_service',\n",
    "       'LengthofServiceCurrent. Length of Service at current workplace (in years)':'role_service'}\n",
    "\n",
    "tafe_survey_updated.rename(columns=tafe_cols_rename, inplace=True)\n",
    "\n",
    "print('DETE columns:')\n",
    "print(dete_survey_updated.columns)\n",
    "print('\\n')\n",
    "print('TAFE columns:')\n",
    "print(tafe_survey_updated.columns)"
   ]
  },
  {
   "cell_type": "markdown",
   "metadata": {},
   "source": [
    "### Data Filtering\n",
    "\n",
    "Given that one of the end goals is to answer the question **Are employees who have only worked for the institutes for a short period of time resigning due to some kind of dissatisfaction? What about employees who have been at the job longer?**, the seperation type column is very relevant. \n",
    "\n",
    "Specifically, further analysis to answer this question is narrowed down to participants who resigned."
   ]
  },
  {
   "cell_type": "code",
   "execution_count": 8,
   "metadata": {},
   "outputs": [
    {
     "name": "stdout",
     "output_type": "stream",
     "text": [
      "DETE DF separation type values:\n",
      "Age Retirement                          285\n",
      "Resignation-Other reasons               150\n",
      "Resignation-Other employer               91\n",
      "Resignation-Move overseas/interstate     70\n",
      "Voluntary Early Retirement (VER)         67\n",
      "Ill Health Retirement                    61\n",
      "Other                                    49\n",
      "Contract Expired                         34\n",
      "Termination                              15\n",
      "Name: separationtype, dtype: int64\n",
      "\n",
      "\n",
      "TAFE DF separation type values:\n",
      "Resignation                 340\n",
      "Contract Expired            127\n",
      "Retrenchment/ Redundancy    104\n",
      "Retirement                   82\n",
      "Transfer                     25\n",
      "Termination                  23\n",
      "Name: separationtype, dtype: int64\n"
     ]
    }
   ],
   "source": [
    "print('DETE DF separation type values:')\n",
    "print(dete_survey_updated['separationtype'].value_counts())\n",
    "print('\\n')\n",
    "print('TAFE DF separation type values:')\n",
    "print(tafe_survey_updated['separationtype'].value_counts())"
   ]
  },
  {
   "cell_type": "markdown",
   "metadata": {},
   "source": [
    "The DETE dataframe is seen to contain multiple separation types referring to those who resigned and all those entries preceed with the string 'Resignation':\n",
    "\n",
    "- Resignation-Other reasons\n",
    "- Resignation-Other employer\n",
    "- Resignation-Move overseas/interstate\n",
    "\n",
    "Each of these variations have will have to be accounted for to avoid data loss."
   ]
  },
  {
   "cell_type": "code",
   "metadata": {
    "scrolled": false,
    "pycharm": {
     "name": "#%%\n"
    }
   },
   "source": [
    "# Creating dataframe subsets for only those who resigned\n",
    "dete_resignations = dete_survey_updated[dete_survey_updated['separationtype'].str.startswith('Resignation')].copy()\n",
    "tafe_resignations = tafe_survey_updated[tafe_survey_updated['separationtype'].str.startswith('Resignation', na=False)].copy()\n",
    "\n",
    "print('DETE DF Resignation values:')\n",
    "print(dete_resignations['separationtype'].value_counts())\n",
    "print('\\n')\n",
    "print('TAFE DF Resignation values:')\n",
    "print(tafe_resignations['separationtype'].value_counts())"
   ],
   "execution_count": 9,
   "outputs": [
    {
     "name": "stdout",
     "output_type": "stream",
     "text": [
      "DETE DF Resignation values:\n",
      "Resignation-Other reasons               150\n",
      "Resignation-Other employer               91\n",
      "Resignation-Move overseas/interstate     70\n",
      "Name: separationtype, dtype: int64\n",
      "\n",
      "\n",
      "TAFE DF Resignation values:\n",
      "Resignation    340\n",
      "Name: separationtype, dtype: int64\n"
     ]
    }
   ]
  },
  {
   "cell_type": "markdown",
   "metadata": {},
   "source": [
    "### Data Dates Verification\n",
    "\n",
    "In this stage, double-checking is done to verify that the dates in the cease date, dete_start_date, and role_start_date columns are valid.\n",
    "\n",
    "- Since the cease_date is the last year of the person's employment and the dete_start_date is the person's first year of employment, it wouldn't make sense to have years after the current date.\n",
    "- Given that most people in this field start working in their 20s, it's also unlikely that the dete_start_date was before the year 1940.\n",
    "\n",
    "If there are many years higher than the current date or lower than 1940, the analysis cannot continue because it could mean there's something very wrong with the data. If there are a small amount of values that are unrealistically high or low, they can be removed.\n",
    "\n",
    "#### 1. Cease dates verification"
   ]
  },
  {
   "cell_type": "code",
   "execution_count": 10,
   "metadata": {},
   "outputs": [
    {
     "name": "stdout",
     "output_type": "stream",
     "text": [
      "DETE DF cease date values:\n",
      "01/2014     22\n",
      "05/2012      2\n",
      "05/2013      2\n",
      "06/2013     14\n",
      "07/2006      1\n",
      "07/2012      1\n",
      "07/2013      9\n",
      "08/2013      4\n",
      "09/2010      1\n",
      "09/2013     11\n",
      "10/2013      6\n",
      "11/2013      9\n",
      "12/2013     17\n",
      "2010         1\n",
      "2012       126\n",
      "2013        74\n",
      "Name: cease_date, dtype: int64\n",
      "\n",
      "\n",
      "TAFE DF cease date values:\n",
      "2009.0      2\n",
      "2010.0     68\n",
      "2011.0    116\n",
      "2012.0     94\n",
      "2013.0     55\n",
      "Name: cease_date, dtype: int64\n"
     ]
    }
   ],
   "source": [
    "print('DETE DF cease date values:')\n",
    "print(dete_resignations['cease_date'].value_counts().sort_index())\n",
    "print('\\n')\n",
    "print('TAFE DF cease date values:')\n",
    "print(tafe_resignations['cease_date'].value_counts().sort_index())"
   ]
  },
  {
   "cell_type": "markdown",
   "metadata": {},
   "source": [
    "#### Observations\n",
    "\n",
    "- The cease_dates in the DETE dataframe do not conform to a uniform pattern. The year range of 2006 to 2014 is acceptable.\n",
    "This column would be cleaned to uniformly show only the year values. The datatype will also be converted to float to make it easier to work with NaN entries.\n",
    "\n",
    "- The cease_dates in the TAFE database uniformly show year values within a sensible range from 2009 to 2013. No cleaning is required."
   ]
  },
  {
   "cell_type": "code",
   "execution_count": 11,
   "metadata": {},
   "outputs": [
    {
     "name": "stdout",
     "output_type": "stream",
     "text": [
      "DETE DF cease date values:\n",
      "2013.0    146\n",
      "2012.0    129\n",
      "2014.0     22\n",
      "2010.0      2\n",
      "2006.0      1\n",
      "Name: cease_date, dtype: int64\n"
     ]
    }
   ],
   "source": [
    "# Defining a regex to extract the year\n",
    "year_pattern = r\"([0-9]{4})\"\n",
    "\n",
    "# Extracting year values from the cease date column\n",
    "dete_resignations['cease_date'] = dete_resignations['cease_date'].str.extract(year_pattern)\n",
    "dete_resignations['cease_date'] = dete_resignations['cease_date'].astype(float)\n",
    "\n",
    "print('DETE DF cease date values:')\n",
    "print(dete_resignations['cease_date'].value_counts())"
   ]
  },
  {
   "cell_type": "markdown",
   "metadata": {},
   "source": [
    "#### 2. Start dates verification\n",
    "\n",
    "Only the DETE dataframe has start date values in the following columns: dete_start_date and role_start_date."
   ]
  },
  {
   "cell_type": "code",
   "execution_count": 12,
   "metadata": {},
   "outputs": [
    {
     "name": "stdout",
     "output_type": "stream",
     "text": [
      "DETE DF start date values:\n",
      "1963.0     1\n",
      "1971.0     1\n",
      "1972.0     1\n",
      "1973.0     1\n",
      "1974.0     2\n",
      "1975.0     1\n",
      "1976.0     2\n",
      "1977.0     1\n",
      "1980.0     5\n",
      "1982.0     1\n",
      "1983.0     2\n",
      "1984.0     1\n",
      "1985.0     3\n",
      "1986.0     3\n",
      "1987.0     1\n",
      "1988.0     4\n",
      "1989.0     4\n",
      "1990.0     5\n",
      "1991.0     4\n",
      "1992.0     6\n",
      "1993.0     5\n",
      "1994.0     6\n",
      "1995.0     4\n",
      "1996.0     6\n",
      "1997.0     5\n",
      "1998.0     6\n",
      "1999.0     8\n",
      "2000.0     9\n",
      "2001.0     3\n",
      "2002.0     6\n",
      "2003.0     6\n",
      "2004.0    14\n",
      "2005.0    15\n",
      "2006.0    13\n",
      "2007.0    21\n",
      "2008.0    22\n",
      "2009.0    13\n",
      "2010.0    17\n",
      "2011.0    24\n",
      "2012.0    21\n",
      "2013.0    10\n",
      "Name: dete_start_date, dtype: int64\n",
      "\n",
      "\n",
      "DETE DF role start date values:\n",
      "200.0      1\n",
      "1976.0     2\n",
      "1980.0     1\n",
      "1982.0     1\n",
      "1986.0     1\n",
      "1987.0     2\n",
      "1988.0     3\n",
      "1989.0     5\n",
      "1990.0     1\n",
      "1991.0     1\n",
      "1992.0     4\n",
      "1993.0     3\n",
      "1994.0     2\n",
      "1996.0     3\n",
      "1997.0     5\n",
      "1998.0     4\n",
      "1999.0     6\n",
      "2000.0     1\n",
      "2001.0     2\n",
      "2002.0     7\n",
      "2003.0     6\n",
      "2004.0    10\n",
      "2005.0     9\n",
      "2006.0     7\n",
      "2007.0    24\n",
      "2008.0    21\n",
      "2009.0    18\n",
      "2010.0    27\n",
      "2011.0    33\n",
      "2012.0    37\n",
      "2013.0    24\n",
      "Name: role_start_date, dtype: int64\n"
     ]
    }
   ],
   "source": [
    "print('DETE DF start date values:')\n",
    "print(dete_resignations['dete_start_date'].value_counts().sort_index())\n",
    "print('\\n')\n",
    "print('DETE DF role start date values:')\n",
    "print(dete_resignations['role_start_date'].value_counts().sort_index())"
   ]
  },
  {
   "cell_type": "markdown",
   "metadata": {},
   "source": [
    "#### Observations\n",
    "\n",
    "- The range of dete start date years lies from 1963 to 2013 which is acceptable. The values are uniform as well. \n",
    "\n",
    "- For the DETE role start dates, there is a highly unsual date of 200. This is probably due to a data entry error. The entry can be deleted. "
   ]
  },
  {
   "cell_type": "code",
   "execution_count": 13,
   "metadata": {
    "scrolled": true
   },
   "outputs": [
    {
     "name": "stdout",
     "output_type": "stream",
     "text": [
      "DETE DF role start date values:\n",
      "1976.0     2\n",
      "1980.0     1\n",
      "1982.0     1\n",
      "1986.0     1\n",
      "1987.0     2\n",
      "1988.0     3\n",
      "1989.0     5\n",
      "1990.0     1\n",
      "1991.0     1\n",
      "1992.0     4\n",
      "1993.0     3\n",
      "1994.0     2\n",
      "1996.0     3\n",
      "1997.0     5\n",
      "1998.0     4\n",
      "1999.0     6\n",
      "2000.0     1\n",
      "2001.0     2\n",
      "2002.0     7\n",
      "2003.0     6\n",
      "2004.0    10\n",
      "2005.0     9\n",
      "2006.0     7\n",
      "2007.0    24\n",
      "2008.0    21\n",
      "2009.0    18\n",
      "2010.0    27\n",
      "2011.0    33\n",
      "2012.0    37\n",
      "2013.0    24\n",
      "Name: role_start_date, dtype: int64\n"
     ]
    }
   ],
   "source": [
    "# Removing outlier entry in DETE role start date\n",
    "dete_resignations = dete_resignations.query('role_start_date != 200')\n",
    "\n",
    "print('DETE DF role start date values:')\n",
    "print(dete_resignations['role_start_date'].value_counts().sort_index())"
   ]
  },
  {
   "cell_type": "markdown",
   "metadata": {},
   "source": [
    "### Dates Visualisation\n",
    "\n",
    "Box plots are used next to confirm the date ranges make sense for all date values."
   ]
  },
  {
   "cell_type": "code",
   "execution_count": 14,
   "metadata": {
    "scrolled": true
   },
   "outputs": [
    {
     "data": {
      "text/plain": "<Figure size 540x252 with 1 Axes>",
      "image/png": "[encoded data removed]"
     },
     "metadata": {
      "needs_background": "light"
     },
     "output_type": "display_data"
    }
   ],
   "source": [
    "%matplotlib inline\n",
    "\n",
    "plt.rcParams[\"figure.figsize\"] = [7.50, 3.50]\n",
    "# plt.rcParams[\"figure.autolayout\"] = True\n",
    "dete_dates = dete_resignations[['dete_start_date', 'role_start_date', 'cease_date']]\n",
    "\n",
    "dete_dates.plot(kind='box', title='Resigned DETE Employees (Dates)')\n",
    "plt.show()"
   ]
  },
  {
   "cell_type": "code",
   "execution_count": 15,
   "metadata": {},
   "outputs": [
    {
     "data": {
      "text/plain": "<Figure size 540x252 with 1 Axes>",
      "image/png": "[encoded data removed]"
     },
     "metadata": {
      "needs_background": "light"
     },
     "output_type": "display_data"
    }
   ],
   "source": [
    "ax = tafe_resignations['cease_date'].plot(kind='box', title='Resigned TAFE Employees (Cease Dates)')\n",
    "plt.show()"
   ]
  },
  {
   "cell_type": "markdown",
   "metadata": {},
   "source": [
    "#### Observations\n",
    "- For the DETE cease dates there are 2 outlier entries in 2006 and 2010. Since these are not significantly different from the minimum year of 2012, there's no reason to drop them. \n",
    "\n",
    "- It can be concluded that majority of the employees who resigned had joined DETE between 1997 and 2010. Most of the resigned employees did so between year 2010 and 2014.\n",
    "\n",
    "- For the TAFE cease dates, there is an outlier entry for 2009. Again, this entry can be kept in. "
   ]
  },
  {
   "cell_type": "markdown",
   "metadata": {},
   "source": [
    "### Number of Years of Service\n",
    "\n",
    "Given that the end goal is to find the reason for resignation in relation to the employees period of stay i.e., short or long, the years of service of each employee must be computed.\n",
    "\n",
    "The tafe_resignations dataframe already contains an institute_service column representing the number of years of stay of the employee. In order to analyze both surveys together, a corresponding institute_service column in dete_resignations is needed. This can be obtained by subtracting the dete_start_date from the cease_date."
   ]
  },
  {
   "cell_type": "code",
   "execution_count": 16,
   "metadata": {},
   "outputs": [
    {
     "data": {
      "text/plain": "Less than 1 year      73\n1-2                   64\n3-4                   63\n5-6                   33\n11-20                 26\n7-10                  21\nMore than 20 years    10\nName: institute_service, dtype: int64"
     },
     "execution_count": 16,
     "metadata": {},
     "output_type": "execute_result"
    }
   ],
   "source": [
    "tafe_resignations['institute_service'].value_counts()"
   ]
  },
  {
   "cell_type": "code",
   "execution_count": 17,
   "metadata": {},
   "outputs": [
    {
     "data": {
      "text/plain": "0.0     20\n1.0     22\n2.0     14\n3.0     20\n4.0     16\n5.0     23\n6.0     17\n7.0     13\n8.0      8\n9.0     14\n10.0     6\n11.0     4\n12.0     6\n13.0     7\n14.0     6\n15.0     7\n16.0     5\n17.0     6\n18.0     5\n19.0     3\n20.0     7\n21.0     3\n22.0     6\n23.0     4\n24.0     4\n25.0     2\n26.0     2\n27.0     1\n28.0     2\n29.0     1\n30.0     2\n31.0     1\n32.0     3\n33.0     1\n34.0     1\n35.0     1\n36.0     2\n38.0     1\n39.0     3\n41.0     1\n42.0     1\n49.0     1\nName: institute_service, dtype: int64"
     },
     "execution_count": 17,
     "metadata": {},
     "output_type": "execute_result"
    }
   ],
   "source": [
    "dete_resignations['institute_service'] = dete_resignations['cease_date'] - dete_resignations['dete_start_date']\n",
    "dete_resignations['institute_service'].value_counts().sort_index()"
   ]
  },
  {
   "cell_type": "markdown",
   "metadata": {},
   "source": [
    "### Resignation due to dissatisfaction\n",
    "\n",
    "Next, any employees who resigned because they were dissatisfied will be identified.\n",
    "\n",
    "Below are the columns to be used to categorize employees as \"dissatisfied\" from each dataframe. If the employee indicated any of the factors above caused them to resign, they will be marked as dissatisfied in a new column.\n",
    "\n",
    "#### tafe_survey_updated:\n",
    "- Contributing Factors. Dissatisfaction\n",
    "- Contributing Factors. Job Dissatisfaction\n",
    "\n",
    "#### dete_survey_updated:\n",
    "- job_dissatisfaction\n",
    "- dissatisfaction_with_the_department\n",
    "- physical_work_environment\n",
    "- lack_of_recognition\n",
    "- lack_of_job_security\n",
    "- work_location\n",
    "- employment_conditions\n",
    "- work_life_balance\n",
    "- workload\n",
    "\n",
    "To compute the **dissatisfied** column for both dataframes, each of the columns that indicate dissatisfaction will be checked and if the employee indicated that **ANY** of the factors above caused them to resign, we'll mark them as dissatisfied in a new column. \n",
    "\n",
    "For values in the dissatisfied:\n",
    "- True: indicates a person resigned because they were dissatisfied with the job\n",
    "\n",
    "- False: indicates a person resigned because of a reason other than dissatisfaction with the job\n",
    "\n",
    "- NaN: indicates the value is missing"
   ]
  },
  {
   "cell_type": "code",
   "execution_count": 18,
   "metadata": {},
   "outputs": [
    {
     "name": "stdout",
     "output_type": "stream",
     "text": [
      "False    269\n",
      "True      41\n",
      "Name: job_dissatisfaction, dtype: int64\n",
      "\n",
      "\n",
      "False    281\n",
      "True      29\n",
      "Name: dissatisfaction_with_the_department, dtype: int64\n",
      "\n",
      "\n",
      "False    304\n",
      "True       6\n",
      "Name: physical_work_environment, dtype: int64\n",
      "\n",
      "\n",
      "False    277\n",
      "True      33\n",
      "Name: lack_of_recognition, dtype: int64\n",
      "\n",
      "\n",
      "False    296\n",
      "True      14\n",
      "Name: lack_of_job_security, dtype: int64\n",
      "\n",
      "\n",
      "False    292\n",
      "True      18\n",
      "Name: work_location, dtype: int64\n",
      "\n",
      "\n",
      "False    287\n",
      "True      23\n",
      "Name: employment_conditions, dtype: int64\n",
      "\n",
      "\n",
      "False    242\n",
      "True      68\n",
      "Name: work_life_balance, dtype: int64\n",
      "\n",
      "\n",
      "False    283\n",
      "True      27\n",
      "Name: workload, dtype: int64\n",
      "\n",
      "\n"
     ]
    }
   ],
   "source": [
    "dissatisfied_dete = ['job_dissatisfaction','dissatisfaction_with_the_department',\n",
    "                     'physical_work_environment', 'lack_of_recognition', 'lack_of_job_security',\n",
    "                     'work_location', 'employment_conditions', 'work_life_balance', 'workload']\n",
    "\n",
    "\n",
    "for column in dissatisfied_dete:\n",
    "    print(dete_resignations[column].value_counts(dropna=False))\n",
    "    print('\\n')"
   ]
  },
  {
   "cell_type": "code",
   "execution_count": 19,
   "metadata": {},
   "outputs": [
    {
     "name": "stdout",
     "output_type": "stream",
     "text": [
      "-                                         277\n",
      "Contributing Factors. Dissatisfaction      55\n",
      "Name: Contributing Factors. Dissatisfaction, dtype: int64\n",
      "\n",
      "\n",
      "-                      270\n",
      "Job Dissatisfaction     62\n",
      "Name: Contributing Factors. Job Dissatisfaction, dtype: int64\n",
      "\n",
      "\n"
     ]
    }
   ],
   "source": [
    "# TAFE columns related to dissatisfaction\n",
    "dissatisfied_tafe = ['Contributing Factors. Dissatisfaction', 'Contributing Factors. Job Dissatisfaction']\n",
    "\n",
    "for column in dissatisfied_tafe:\n",
    "    print(tafe_resignations[column].value_counts())\n",
    "    print('\\n')"
   ]
  },
  {
   "cell_type": "markdown",
   "metadata": {},
   "source": [
    "The dissatisfied_dete columns are already in the right format to compute the dissatisfied column with no NaN empty v.\n",
    "\n",
    "The dissatisfied_tafe columns (Contributing Factors. Dissatisfaction and Contributing Factors. Job Dissatisfaction) will need to be converted to boolean True, False, or NaN values. The entries with values of \"-\"  are \"False\" to the condition, while any other string value will equate to \"True\"."
   ]
  },
  {
   "cell_type": "code",
   "execution_count": 20,
   "metadata": {
    "scrolled": true
   },
   "outputs": [
    {
     "name": "stdout",
     "output_type": "stream",
     "text": [
      "False    277\n",
      "True      55\n",
      "NaN        8\n",
      "Name: Contributing Factors. Dissatisfaction, dtype: int64\n",
      "\n",
      "\n",
      "False    270\n",
      "True      62\n",
      "NaN        8\n",
      "Name: Contributing Factors. Job Dissatisfaction, dtype: int64\n"
     ]
    }
   ],
   "source": [
    "def update_vals(val):\n",
    "    if pd.isnull(val):\n",
    "        return np.nan\n",
    "    if val == '-':\n",
    "        return False\n",
    "    else:\n",
    "        return True\n",
    "\n",
    "# updating dissatisfied_tafe values to show true or false \n",
    "for column in dissatisfied_tafe:\n",
    "    tafe_resignations[column] = tafe_resignations[column].map(update_vals)\n",
    "\n",
    "print(tafe_resignations['Contributing Factors. Dissatisfaction'].value_counts(dropna=False))\n",
    "print('\\n')\n",
    "print(tafe_resignations['Contributing Factors. Job Dissatisfaction'].value_counts(dropna=False))"
   ]
  },
  {
   "cell_type": "code",
   "execution_count": 21,
   "metadata": {
    "scrolled": false
   },
   "outputs": [
    {
     "name": "stdout",
     "output_type": "stream",
     "text": [
      "False    161\n",
      "True     149\n",
      "Name: dissatisfied, dtype: int64\n",
      "\n",
      "\n",
      "False    241\n",
      "True      99\n",
      "Name: dissatisfied, dtype: int64\n"
     ]
    }
   ],
   "source": [
    "#creating dissatisfied column in both databases\n",
    "dete_resignations['dissatisfied'] = dete_resignations[dissatisfied_dete].any(axis=1, skipna=False).astype('bool')\n",
    "tafe_resignations['dissatisfied'] = tafe_resignations[dissatisfied_tafe].any(axis=1, skipna=False).astype('bool')\n",
    "\n",
    "print(dete_resignations['dissatisfied'].value_counts(dropna=False))\n",
    "print('\\n')\n",
    "print(tafe_resignations['dissatisfied'].value_counts(dropna=False))"
   ]
  },
  {
   "cell_type": "markdown",
   "metadata": {},
   "source": [
    "###  Combining Dataframes\n",
    "\n",
    "Before that, a new column - **institute** is added to identify the origin institution of the employee in the combined data.\n",
    "\n",
    "The values in the institute_service column for tha TAFE dataframe are grouped unlike those in the DETE dataframe. They are amde uniform by extracting the years and then regrouping in a new **service_cat** column for both dataframes according to new categories defined as follows:\n",
    "\n",
    "- New: Less than 3 years at a company\n",
    "- Experienced: 3-6 years at a company\n",
    "- Established: 7-10 years at a company\n",
    "- Veteran: 11 or more years at a company\n",
    "\n",
    "Combining the DFs as is will result in a lot of null values due to unshared columns. Therefore a threshold is set to drop columns with less than 500 non-null values. \n",
    "\n"
   ]
  },
  {
   "cell_type": "code",
   "execution_count": 22,
   "metadata": {},
   "outputs": [
    {
     "name": "stdout",
     "output_type": "stream",
     "text": [
      "NaN     38\n",
      "5.0     23\n",
      "1.0     22\n",
      "3.0     20\n",
      "0.0     20\n",
      "6.0     17\n",
      "4.0     16\n",
      "9.0     14\n",
      "2.0     14\n",
      "7.0     13\n",
      "8.0      8\n",
      "20.0     7\n",
      "13.0     7\n",
      "15.0     7\n",
      "17.0     6\n",
      "10.0     6\n",
      "22.0     6\n",
      "14.0     6\n",
      "12.0     6\n",
      "18.0     5\n",
      "16.0     5\n",
      "11.0     4\n",
      "23.0     4\n",
      "24.0     4\n",
      "21.0     3\n",
      "19.0     3\n",
      "39.0     3\n",
      "32.0     3\n",
      "30.0     2\n",
      "25.0     2\n",
      "28.0     2\n",
      "26.0     2\n",
      "36.0     2\n",
      "29.0     1\n",
      "27.0     1\n",
      "34.0     1\n",
      "42.0     1\n",
      "33.0     1\n",
      "41.0     1\n",
      "49.0     1\n",
      "35.0     1\n",
      "38.0     1\n",
      "31.0     1\n",
      "Name: institute_service, dtype: int64\n",
      "\n",
      "\n",
      "Less than 1 year      73\n",
      "1-2                   64\n",
      "3-4                   63\n",
      "NaN                   50\n",
      "5-6                   33\n",
      "11-20                 26\n",
      "7-10                  21\n",
      "More than 20 years    10\n",
      "Name: institute_service, dtype: int64\n"
     ]
    }
   ],
   "source": [
    "# adding an institute column\n",
    "dete_resignations['institute'] = 'DETE'\n",
    "tafe_resignations['institute'] = 'TAFE'\n",
    "\n",
    "# identifying values in the institute colummns for both sets\n",
    "print(dete_resignations['institute_service'].value_counts(dropna=False))\n",
    "print('\\n')\n",
    "print(tafe_resignations['institute_service'].value_counts(dropna=False))"
   ]
  },
  {
   "cell_type": "code",
   "execution_count": 23,
   "metadata": {
    "scrolled": true
   },
   "outputs": [],
   "source": [
    "# extracting number of years from the string in the institue service col\n",
    "pattern = r\"(\\d+)\" # matches one or more repetitions of numbers between the range [0-9]\n",
    "tafe_resignations['institute_service'] = (tafe_resignations['institute_service'].astype('str')\n",
    "                                                                                .str.extract(pattern)\n",
    "                                                                                .astype('float'))\n"
   ]
  },
  {
   "cell_type": "code",
   "execution_count": 24,
   "metadata": {},
   "outputs": [
    {
     "name": "stdout",
     "output_type": "stream",
     "text": [
      "New            137\n",
      "Experienced     96\n",
      "NaN             50\n",
      "Veteran         36\n",
      "Established     21\n",
      "Name: service_cat, dtype: int64\n",
      "\n",
      "\n",
      "Veteran        99\n",
      "Experienced    76\n",
      "New            56\n",
      "Established    41\n",
      "NaN            38\n",
      "Name: service_cat, dtype: int64\n"
     ]
    }
   ],
   "source": [
    "# Function to map years to corresponding categories\n",
    "def year_cat(year):\n",
    "    if pd.isnull(year):\n",
    "        return np.nan\n",
    "    elif year < 3:\n",
    "        return 'New'\n",
    "    elif 3 <= year <= 6:\n",
    "        return 'Experienced'\n",
    "    elif 7 <= year <= 10:\n",
    "        return 'Established'\n",
    "    else:\n",
    "        return 'Veteran'\n",
    "\n",
    "# mapping institute service years to categories for both DFs\n",
    "tafe_resignations['service_cat'] = tafe_resignations['institute_service'].apply(year_cat)\n",
    "print(tafe_resignations['service_cat'].value_counts(dropna=False))\n",
    "\n",
    "print('\\n')\n",
    "dete_resignations['service_cat'] = dete_resignations['institute_service'].apply(year_cat)\n",
    "print(dete_resignations['service_cat'].value_counts(dropna=False))"
   ]
  },
  {
   "cell_type": "code",
   "execution_count": 25,
   "metadata": {},
   "outputs": [
    {
     "name": "stdout",
     "output_type": "stream",
     "text": [
      "['age' 'cease_date' 'dissatisfied' 'employment_status' 'gender' 'id'\n",
      " 'institute' 'institute_service' 'position' 'separationtype' 'service_cat']\n"
     ]
    }
   ],
   "source": [
    "# print(tafe_resignations.columns)\n",
    "# print(dete_resignations.columns)\n",
    "\n",
    "#ensuring that all relevant columns are properly named\n",
    "print(np.intersect1d(dete_resignations.columns, tafe_resignations.columns))"
   ]
  },
  {
   "cell_type": "code",
   "execution_count": 26,
   "metadata": {
    "scrolled": true
   },
   "outputs": [
    {
     "data": {
      "text/plain": "      id                        separationtype  cease_date          position  \\\n3    4.0             Resignation-Other reasons      2012.0           Teacher   \n5    6.0             Resignation-Other reasons      2012.0  Guidance Officer   \n8    9.0             Resignation-Other reasons      2012.0           Teacher   \n9   10.0            Resignation-Other employer      2012.0      Teacher Aide   \n11  12.0  Resignation-Move overseas/interstate      2012.0           Teacher   \n12  13.0             Resignation-Other reasons      2012.0           Teacher   \n14  15.0            Resignation-Other employer      2012.0           Teacher   \n16  17.0             Resignation-Other reasons      2012.0      Teacher Aide   \n20  21.0            Resignation-Other employer      2012.0           Teacher   \n21  22.0             Resignation-Other reasons      2012.0           Cleaner   \n\n      employment_status  gender          age  institute_service  dissatisfied  \\\n3   Permanent Full-time  Female        36-40                7.0         False   \n5   Permanent Full-time  Female        41-45               18.0          True   \n8   Permanent Full-time  Female        31-35                3.0         False   \n9   Permanent Part-time  Female        46-50               15.0          True   \n11  Permanent Full-time    Male        31-35                3.0         False   \n12  Permanent Full-time  Female        36-40               14.0         False   \n14  Permanent Full-time    Male        31-35                5.0          True   \n16  Permanent Part-time    Male  61 or older                NaN          True   \n20  Permanent Full-time    Male        56-60               30.0         False   \n21  Permanent Part-time  Female        51-55               32.0         False   \n\n   institute  service_cat  \n3       DETE  Established  \n5       DETE      Veteran  \n8       DETE  Experienced  \n9       DETE      Veteran  \n11      DETE  Experienced  \n12      DETE      Veteran  \n14      DETE  Experienced  \n16      DETE          NaN  \n20      DETE      Veteran  \n21      DETE      Veteran  ",
      "text/html": "<div>\n<style scoped>\n    .dataframe tbody tr th:only-of-type {\n        vertical-align: middle;\n    }\n\n    .dataframe tbody tr th {\n        vertical-align: top;\n    }\n\n    .dataframe thead th {\n        text-align: right;\n    }\n</style>\n<table border=\"1\" class=\"dataframe\">\n  <thead>\n    <tr style=\"text-align: right;\">\n      <th></th>\n      <th>id</th>\n      <th>separationtype</th>\n      <th>cease_date</th>\n      <th>position</th>\n      <th>employment_status</th>\n      <th>gender</th>\n      <th>age</th>\n      <th>institute_service</th>\n      <th>dissatisfied</th>\n      <th>institute</th>\n      <th>service_cat</th>\n    </tr>\n  </thead>\n  <tbody>\n    <tr>\n      <th>3</th>\n      <td>4.0</td>\n      <td>Resignation-Other reasons</td>\n      <td>2012.0</td>\n      <td>Teacher</td>\n      <td>Permanent Full-time</td>\n      <td>Female</td>\n      <td>36-40</td>\n      <td>7.0</td>\n      <td>False</td>\n      <td>DETE</td>\n      <td>Established</td>\n    </tr>\n    <tr>\n      <th>5</th>\n      <td>6.0</td>\n      <td>Resignation-Other reasons</td>\n      <td>2012.0</td>\n      <td>Guidance Officer</td>\n      <td>Permanent Full-time</td>\n      <td>Female</td>\n      <td>41-45</td>\n      <td>18.0</td>\n      <td>True</td>\n      <td>DETE</td>\n      <td>Veteran</td>\n    </tr>\n    <tr>\n      <th>8</th>\n      <td>9.0</td>\n      <td>Resignation-Other reasons</td>\n      <td>2012.0</td>\n      <td>Teacher</td>\n      <td>Permanent Full-time</td>\n      <td>Female</td>\n      <td>31-35</td>\n      <td>3.0</td>\n      <td>False</td>\n      <td>DETE</td>\n      <td>Experienced</td>\n    </tr>\n    <tr>\n      <th>9</th>\n      <td>10.0</td>\n      <td>Resignation-Other employer</td>\n      <td>2012.0</td>\n      <td>Teacher Aide</td>\n      <td>Permanent Part-time</td>\n      <td>Female</td>\n      <td>46-50</td>\n      <td>15.0</td>\n      <td>True</td>\n      <td>DETE</td>\n      <td>Veteran</td>\n    </tr>\n    <tr>\n      <th>11</th>\n      <td>12.0</td>\n      <td>Resignation-Move overseas/interstate</td>\n      <td>2012.0</td>\n      <td>Teacher</td>\n      <td>Permanent Full-time</td>\n      <td>Male</td>\n      <td>31-35</td>\n      <td>3.0</td>\n      <td>False</td>\n      <td>DETE</td>\n      <td>Experienced</td>\n    </tr>\n    <tr>\n      <th>12</th>\n      <td>13.0</td>\n      <td>Resignation-Other reasons</td>\n      <td>2012.0</td>\n      <td>Teacher</td>\n      <td>Permanent Full-time</td>\n      <td>Female</td>\n      <td>36-40</td>\n      <td>14.0</td>\n      <td>False</td>\n      <td>DETE</td>\n      <td>Veteran</td>\n    </tr>\n    <tr>\n      <th>14</th>\n      <td>15.0</td>\n      <td>Resignation-Other employer</td>\n      <td>2012.0</td>\n      <td>Teacher</td>\n      <td>Permanent Full-time</td>\n      <td>Male</td>\n      <td>31-35</td>\n      <td>5.0</td>\n      <td>True</td>\n      <td>DETE</td>\n      <td>Experienced</td>\n    </tr>\n    <tr>\n      <th>16</th>\n      <td>17.0</td>\n      <td>Resignation-Other reasons</td>\n      <td>2012.0</td>\n      <td>Teacher Aide</td>\n      <td>Permanent Part-time</td>\n      <td>Male</td>\n      <td>61 or older</td>\n      <td>NaN</td>\n      <td>True</td>\n      <td>DETE</td>\n      <td>NaN</td>\n    </tr>\n    <tr>\n      <th>20</th>\n      <td>21.0</td>\n      <td>Resignation-Other employer</td>\n      <td>2012.0</td>\n      <td>Teacher</td>\n      <td>Permanent Full-time</td>\n      <td>Male</td>\n      <td>56-60</td>\n      <td>30.0</td>\n      <td>False</td>\n      <td>DETE</td>\n      <td>Veteran</td>\n    </tr>\n    <tr>\n      <th>21</th>\n      <td>22.0</td>\n      <td>Resignation-Other reasons</td>\n      <td>2012.0</td>\n      <td>Cleaner</td>\n      <td>Permanent Part-time</td>\n      <td>Female</td>\n      <td>51-55</td>\n      <td>32.0</td>\n      <td>False</td>\n      <td>DETE</td>\n      <td>Veteran</td>\n    </tr>\n  </tbody>\n</table>\n</div>"
     },
     "execution_count": 26,
     "metadata": {},
     "output_type": "execute_result"
    }
   ],
   "source": [
    "# combining the two dataframes\n",
    "combined = pd.concat([dete_resignations, tafe_resignations]).dropna(thresh=500, axis=1)\n",
    "combined.head(10)"
   ]
  },
  {
   "cell_type": "markdown",
   "metadata": {},
   "source": [
    "The id column is irrelevant and can be deleted."
   ]
  },
  {
   "cell_type": "code",
   "execution_count": 27,
   "metadata": {},
   "outputs": [
    {
     "data": {
      "text/plain": "                          separationtype  cease_date          position  \\\n3              Resignation-Other reasons      2012.0           Teacher   \n5              Resignation-Other reasons      2012.0  Guidance Officer   \n8              Resignation-Other reasons      2012.0           Teacher   \n9             Resignation-Other employer      2012.0      Teacher Aide   \n11  Resignation-Move overseas/interstate      2012.0           Teacher   \n12             Resignation-Other reasons      2012.0           Teacher   \n14            Resignation-Other employer      2012.0           Teacher   \n16             Resignation-Other reasons      2012.0      Teacher Aide   \n20            Resignation-Other employer      2012.0           Teacher   \n21             Resignation-Other reasons      2012.0           Cleaner   \n\n      employment_status  gender          age  institute_service  dissatisfied  \\\n3   Permanent Full-time  Female        36-40                7.0         False   \n5   Permanent Full-time  Female        41-45               18.0          True   \n8   Permanent Full-time  Female        31-35                3.0         False   \n9   Permanent Part-time  Female        46-50               15.0          True   \n11  Permanent Full-time    Male        31-35                3.0         False   \n12  Permanent Full-time  Female        36-40               14.0         False   \n14  Permanent Full-time    Male        31-35                5.0          True   \n16  Permanent Part-time    Male  61 or older                NaN          True   \n20  Permanent Full-time    Male        56-60               30.0         False   \n21  Permanent Part-time  Female        51-55               32.0         False   \n\n   institute  service_cat  \n3       DETE  Established  \n5       DETE      Veteran  \n8       DETE  Experienced  \n9       DETE      Veteran  \n11      DETE  Experienced  \n12      DETE      Veteran  \n14      DETE  Experienced  \n16      DETE          NaN  \n20      DETE      Veteran  \n21      DETE      Veteran  ",
      "text/html": "<div>\n<style scoped>\n    .dataframe tbody tr th:only-of-type {\n        vertical-align: middle;\n    }\n\n    .dataframe tbody tr th {\n        vertical-align: top;\n    }\n\n    .dataframe thead th {\n        text-align: right;\n    }\n</style>\n<table border=\"1\" class=\"dataframe\">\n  <thead>\n    <tr style=\"text-align: right;\">\n      <th></th>\n      <th>separationtype</th>\n      <th>cease_date</th>\n      <th>position</th>\n      <th>employment_status</th>\n      <th>gender</th>\n      <th>age</th>\n      <th>institute_service</th>\n      <th>dissatisfied</th>\n      <th>institute</th>\n      <th>service_cat</th>\n    </tr>\n  </thead>\n  <tbody>\n    <tr>\n      <th>3</th>\n      <td>Resignation-Other reasons</td>\n      <td>2012.0</td>\n      <td>Teacher</td>\n      <td>Permanent Full-time</td>\n      <td>Female</td>\n      <td>36-40</td>\n      <td>7.0</td>\n      <td>False</td>\n      <td>DETE</td>\n      <td>Established</td>\n    </tr>\n    <tr>\n      <th>5</th>\n      <td>Resignation-Other reasons</td>\n      <td>2012.0</td>\n      <td>Guidance Officer</td>\n      <td>Permanent Full-time</td>\n      <td>Female</td>\n      <td>41-45</td>\n      <td>18.0</td>\n      <td>True</td>\n      <td>DETE</td>\n      <td>Veteran</td>\n    </tr>\n    <tr>\n      <th>8</th>\n      <td>Resignation-Other reasons</td>\n      <td>2012.0</td>\n      <td>Teacher</td>\n      <td>Permanent Full-time</td>\n      <td>Female</td>\n      <td>31-35</td>\n      <td>3.0</td>\n      <td>False</td>\n      <td>DETE</td>\n      <td>Experienced</td>\n    </tr>\n    <tr>\n      <th>9</th>\n      <td>Resignation-Other employer</td>\n      <td>2012.0</td>\n      <td>Teacher Aide</td>\n      <td>Permanent Part-time</td>\n      <td>Female</td>\n      <td>46-50</td>\n      <td>15.0</td>\n      <td>True</td>\n      <td>DETE</td>\n      <td>Veteran</td>\n    </tr>\n    <tr>\n      <th>11</th>\n      <td>Resignation-Move overseas/interstate</td>\n      <td>2012.0</td>\n      <td>Teacher</td>\n      <td>Permanent Full-time</td>\n      <td>Male</td>\n      <td>31-35</td>\n      <td>3.0</td>\n      <td>False</td>\n      <td>DETE</td>\n      <td>Experienced</td>\n    </tr>\n    <tr>\n      <th>12</th>\n      <td>Resignation-Other reasons</td>\n      <td>2012.0</td>\n      <td>Teacher</td>\n      <td>Permanent Full-time</td>\n      <td>Female</td>\n      <td>36-40</td>\n      <td>14.0</td>\n      <td>False</td>\n      <td>DETE</td>\n      <td>Veteran</td>\n    </tr>\n    <tr>\n      <th>14</th>\n      <td>Resignation-Other employer</td>\n      <td>2012.0</td>\n      <td>Teacher</td>\n      <td>Permanent Full-time</td>\n      <td>Male</td>\n      <td>31-35</td>\n      <td>5.0</td>\n      <td>True</td>\n      <td>DETE</td>\n      <td>Experienced</td>\n    </tr>\n    <tr>\n      <th>16</th>\n      <td>Resignation-Other reasons</td>\n      <td>2012.0</td>\n      <td>Teacher Aide</td>\n      <td>Permanent Part-time</td>\n      <td>Male</td>\n      <td>61 or older</td>\n      <td>NaN</td>\n      <td>True</td>\n      <td>DETE</td>\n      <td>NaN</td>\n    </tr>\n    <tr>\n      <th>20</th>\n      <td>Resignation-Other employer</td>\n      <td>2012.0</td>\n      <td>Teacher</td>\n      <td>Permanent Full-time</td>\n      <td>Male</td>\n      <td>56-60</td>\n      <td>30.0</td>\n      <td>False</td>\n      <td>DETE</td>\n      <td>Veteran</td>\n    </tr>\n    <tr>\n      <th>21</th>\n      <td>Resignation-Other reasons</td>\n      <td>2012.0</td>\n      <td>Cleaner</td>\n      <td>Permanent Part-time</td>\n      <td>Female</td>\n      <td>51-55</td>\n      <td>32.0</td>\n      <td>False</td>\n      <td>DETE</td>\n      <td>Veteran</td>\n    </tr>\n  </tbody>\n</table>\n</div>"
     },
     "execution_count": 27,
     "metadata": {},
     "output_type": "execute_result"
    }
   ],
   "source": [
    "combined.drop('id', axis=1, inplace=True)\n",
    "combined.head(10)"
   ]
  },
  {
   "cell_type": "markdown",
   "metadata": {},
   "source": [
    "### Assessing null values"
   ]
  },
  {
   "cell_type": "code",
   "execution_count": 28,
   "metadata": {},
   "outputs": [
    {
     "data": {
      "text/plain": "separationtype        0\ncease_date           16\nposition             53\nemployment_status    54\ngender               59\nage                  55\ninstitute_service    88\ndissatisfied          0\ninstitute             0\nservice_cat          88\ndtype: int64"
     },
     "execution_count": 28,
     "metadata": {},
     "output_type": "execute_result"
    }
   ],
   "source": [
    "combined.isnull().sum()"
   ]
  },
  {
   "cell_type": "code",
   "execution_count": 29,
   "metadata": {
    "scrolled": true
   },
   "outputs": [
    {
     "data": {
      "text/plain": "<Figure size 540x252 with 1 Axes>",
      "image/png": "[encoded data removed]"
     },
     "metadata": {
      "needs_background": "light"
     },
     "output_type": "display_data"
    }
   ],
   "source": [
    "# visualising null values across all columns\n",
    "sns.heatmap(combined.isnull(), cbar=False)\n",
    "plt.show()"
   ]
  },
  {
   "cell_type": "markdown",
   "metadata": {},
   "source": [
    "#### Observations\n",
    "\n",
    "- The dissatisfied column is the most important and having any null values is unwanted therefore it will be filled with the value that appear most in the entries.\n",
    "\n",
    "- The institute service and service cat columns are the main  indicators of how long an employee has worked at an institute. From the heatmap, it is clear that entries whose institute service records are missing also have missing data from several other columns. It is clear that they won't be useful for our analysis, so they  will drop them all from the dataframe."
   ]
  },
  {
   "cell_type": "code",
   "execution_count": 30,
   "metadata": {
    "scrolled": false
   },
   "outputs": [
    {
     "data": {
      "text/plain": "False    402\nTrue     248\nName: dissatisfied, dtype: int64"
     },
     "execution_count": 30,
     "metadata": {},
     "output_type": "execute_result"
    }
   ],
   "source": [
    "# Finding value with higher occurence in the dissatisfied column\n",
    "combined['dissatisfied'].value_counts(dropna=False)"
   ]
  },
  {
   "cell_type": "code",
   "execution_count": 31,
   "metadata": {},
   "outputs": [
    {
     "data": {
      "text/plain": "False    402\nTrue     248\nName: dissatisfied, dtype: int64"
     },
     "execution_count": 31,
     "metadata": {},
     "output_type": "execute_result"
    }
   ],
   "source": [
    "# Filling empty rows with False\n",
    "combined['dissatisfied'].fillna(False)\n",
    "combined['dissatisfied'].value_counts(dropna=False)"
   ]
  },
  {
   "cell_type": "code",
   "execution_count": 32,
   "metadata": {},
   "outputs": [
    {
     "name": "stdout",
     "output_type": "stream",
     "text": [
      "missing data across: 8 %\n",
      "missing data institute service: 14 %\n"
     ]
    }
   ],
   "source": [
    "#Investigating columns with missing institute service data\n",
    "md = combined[(combined['institute_service'].isnull() &\n",
    "          combined['age'].isnull())].shape[0]     \n",
    "\n",
    "print('missing data across:', round(md/combined.shape[0]*100), '%')\n",
    "print('missing data institute service:', round(combined[combined['institute_service'].isnull()].shape[0]/combined.shape[0]*100), '%')"
   ]
  },
  {
   "cell_type": "markdown",
   "metadata": {},
   "source": [
    "Although the missing institute service data makes up about 14% of our data, more than half of that has a lot of other data missing as well and these gaps are relevant. The analysis is highly dependent on how long the employee stayed at the institution so the rest of the rows with missing institute service as well as missing age data data will also be dropped since age data could have given an indication of the career stage or age demographic of the employee, a lens we are looking to analyse our data with."
   ]
  },
  {
   "cell_type": "code",
   "execution_count": 33,
   "metadata": {},
   "outputs": [
    {
     "data": {
      "text/plain": "separationtype       0\ncease_date           2\nposition             3\nemployment_status    0\ngender               5\nage                  0\ninstitute_service    0\ndissatisfied         0\ninstitute            0\nservice_cat          0\ndtype: int64"
     },
     "execution_count": 33,
     "metadata": {},
     "output_type": "execute_result"
    }
   ],
   "source": [
    "combined_updated = combined.copy()[(combined['age'].notnull() & combined['institute_service'].notnull())]\n",
    "\n",
    "combined_updated.isnull().sum()"
   ]
  },
  {
   "cell_type": "markdown",
   "metadata": {},
   "source": [
    "The null values are significanlty reduced. The gender and position columns could be relevant to characterising the resigned employees. Since the null values are so few, they will be filled with the most common value for that row."
   ]
  },
  {
   "cell_type": "code",
   "execution_count": 34,
   "metadata": {
    "scrolled": true
   },
   "outputs": [
    {
     "name": "stdout",
     "output_type": "stream",
     "text": [
      "Permanent Full-time    243\n",
      "Permanent Part-time    129\n",
      "Temporary Full-time    120\n",
      "Temporary Part-time     35\n",
      "Contract/casual         29\n",
      "Casual                   4\n",
      "Name: employment_status, dtype: int64\n"
     ]
    }
   ],
   "source": [
    "combined_updated.head(20)\n",
    "# print(combined_updated['position'].value_counts())\n",
    "print(combined_updated['employment_status'].value_counts())"
   ]
  },
  {
   "cell_type": "markdown",
   "metadata": {},
   "source": [
    "Further cleaning:\n",
    "\n",
    "- Age Column unionization\n",
    "- position group maybe teaching and non-teaching (admin) and non-teaching (support)"
   ]
  },
  {
   "cell_type": "markdown",
   "source": [
    "In order to efficiently use the age column to carry out the analysis the values must also be cleaned and unionised accross the combine dataframe. In order to have uniform categories, these factions are defined according to standard structures used by indexmundi.com for classifying age in relation to demographics:\n",
    "\n",
    "- 25 years or less: Early working age\n",
    "- 26-55 years: Prime working age\n",
    "- 56 years or older: Elderly working age\n",
    "\n",
    "Before that, the values must be cleaned to remove the entries which have white spaces between the number ranges."
   ],
   "metadata": {
    "collapsed": false,
    "pycharm": {
     "name": "#%% md\n"
    }
   }
  },
  {
   "cell_type": "code",
   "execution_count": 35,
   "outputs": [
    {
     "data": {
      "text/plain": "41-45            89\n46-50            72\n51-55            69\n36-40            68\n26-30            63\n31-35            61\n21-25            59\n56 or older      29\n56-60            22\n61 or older      18\n20 or younger    10\nName: age, dtype: int64"
     },
     "execution_count": 35,
     "metadata": {},
     "output_type": "execute_result"
    }
   ],
   "source": [
    "# replacing multiple whitespaces with dashes\n",
    "combined_updated['age'] = combined_updated['age'].str.replace(\"  \", \"-\")\n",
    "combined_updated['age'].value_counts()"
   ],
   "metadata": {
    "collapsed": false,
    "pycharm": {
     "name": "#%%\n"
    }
   }
  },
  {
   "cell_type": "code",
   "execution_count": 36,
   "outputs": [
    {
     "data": {
      "text/plain": "Prime working age      422\nElderly working age     69\nEarly working age       69\nName: age_structure, dtype: int64"
     },
     "execution_count": 36,
     "metadata": {},
     "output_type": "execute_result"
    }
   ],
   "source": [
    "# mapping unique column values to defined age categories\n",
    "age_structure = {\n",
    "    '20 or younger': 'Early working age',\n",
    "    '21-25': 'Early working age',\n",
    "    '26-30': 'Prime working age',\n",
    "    '31-35': 'Prime working age',\n",
    "    '36-40': 'Prime working age',\n",
    "    '41-45': 'Prime working age',\n",
    "    '46-50': 'Prime working age',\n",
    "    '51-55': 'Prime working age',\n",
    "    '56-60': 'Elderly working age',\n",
    "    '56 or older': 'Elderly working age',\n",
    "    '61 or older': 'Elderly working age'\n",
    "}\n",
    "\n",
    "combined_updated['age_structure'] = combined_updated['age'].map(age_structure)\n",
    "combined_updated['age_structure'].value_counts(dropna=False)"
   ],
   "metadata": {
    "collapsed": false,
    "pycharm": {
     "name": "#%%\n"
    }
   }
  },
  {
   "cell_type": "markdown",
   "source": [
    "Similarly, in order to efficiently use the position column to carry out the analysis, the values need to be unionised accross the combined dataframe. In order to have uniform categories, these factions are defined according :\n",
    "- teaching staff\n",
    "- non-teaching staff (admin)\n",
    "- non-teaching staff (support)\n",
    "- non-teaching staff (other)\n"
   ],
   "metadata": {
    "collapsed": false,
    "pycharm": {
     "name": "#%% md\n"
    }
   }
  },
  {
   "cell_type": "code",
   "execution_count": 37,
   "outputs": [
    {
     "data": {
      "text/plain": "Teaching staff                  273\n Non-teaching staff (admin)     148\nNon-teaching staff (support)     71\nNon-teaching staff (other)       41\nNon-teaching staff (admin)       24\nNaN                               3\nName: position_cat, dtype: int64"
     },
     "execution_count": 37,
     "metadata": {},
     "output_type": "execute_result"
    }
   ],
   "source": [
    "# mapping unique column values to defined position categories\n",
    "position_cat = {'Administration (AO)': ' Non-teaching staff (admin)',\n",
    "                'Teacher': 'Teaching staff',\n",
    "                'Teacher (including LVT)': 'Teaching staff',\n",
    "                'Teacher Aide': 'Teaching staff',\n",
    "                'Cleaner': 'Non-teaching staff (other)',\n",
    "                'Public Servant': 'Non-teaching staff (support)',\n",
    "                'Professional Officer (PO)': 'Non-teaching staff (support)',\n",
    "                'Operational (OO)': 'Non-teaching staff (admin)',\n",
    "                'Head of Curriculum/Head of Special Education': 'Teaching staff',\n",
    "                'Technical Officer': 'Non-teaching staff (support)',\n",
    "                'Workplace Training Officer': 'Non-teaching staff (support)',\n",
    "                'Schools Officer': 'Non-teaching staff (admin)',\n",
    "                'Technical Officer (TO)': 'Non-teaching staff (support)',\n",
    "                'School Administrative Staff': 'Non-teaching staff (admin)',\n",
    "                'School Based Professional Staff (Therapist, nurse, etc)': 'Non-teaching staff (other)',\n",
    "                'Executive (SES/SO)': 'Non-teaching staff (support)',\n",
    "                'Other': 'Non-teaching staff (other)',\n",
    "                'Guidance Officer': 'Non-teaching staff (support)',\n",
    "                'Tutor': 'Teaching staff',\n",
    "                'Professional Officer': 'Non-teaching staff (support)',\n",
    "                'Business Service Manager': 'Non-teaching staff (support)'\n",
    "                }\n",
    "\n",
    "combined_updated['position_cat'] = combined_updated['position'].map(position_cat)\n",
    "combined_updated['position_cat'].value_counts(dropna=False)"
   ],
   "metadata": {
    "collapsed": false,
    "pycharm": {
     "name": "#%%\n"
    }
   }
  },
  {
   "cell_type": "code",
   "execution_count": 38,
   "outputs": [
    {
     "data": {
      "text/plain": "    position position_cat\n103      NaN          NaN\n116      NaN          NaN\n678      NaN          NaN",
      "text/html": "<div>\n<style scoped>\n    .dataframe tbody tr th:only-of-type {\n        vertical-align: middle;\n    }\n\n    .dataframe tbody tr th {\n        vertical-align: top;\n    }\n\n    .dataframe thead th {\n        text-align: right;\n    }\n</style>\n<table border=\"1\" class=\"dataframe\">\n  <thead>\n    <tr style=\"text-align: right;\">\n      <th></th>\n      <th>position</th>\n      <th>position_cat</th>\n    </tr>\n  </thead>\n  <tbody>\n    <tr>\n      <th>103</th>\n      <td>NaN</td>\n      <td>NaN</td>\n    </tr>\n    <tr>\n      <th>116</th>\n      <td>NaN</td>\n      <td>NaN</td>\n    </tr>\n    <tr>\n      <th>678</th>\n      <td>NaN</td>\n      <td>NaN</td>\n    </tr>\n  </tbody>\n</table>\n</div>"
     },
     "execution_count": 38,
     "metadata": {},
     "output_type": "execute_result"
    }
   ],
   "source": [
    "# confirming that lost position_cat null values are not due to mapping errors\n",
    "combined_updated[combined_updated['position_cat'].isnull()][['position', 'position_cat']]"
   ],
   "metadata": {
    "collapsed": false,
    "pycharm": {
     "name": "#%%\n"
    }
   }
  },
  {
   "cell_type": "markdown",
   "source": [
    "## Data Analysis\n",
    "**Analysis Question 1: _Are employees who only worked for the institutes for a short period of time resigning due to some kind of dissatisfaction? What about employees who have been there longer?_**\n",
    "\n",
    "1. Service Years vs resignees\n",
    "2. Dissatisafaction vs Service Years\n",
    "\n",
    "**Analysis Question 2: _Are younger employees resigning due to some kind of dissatisfaction? What about older employees?_**\n",
    "\n",
    "3. Dissatisfaction vs Age structure\n",
    "\n",
    "**_Factors Contributing to Dissatisfaction_**\n",
    "\n",
    "4. Dissatisafaction vs Institute\n",
    "5. Dissatisfaction vs Gender vs Service Years\n",
    "6. Dissatisfaction vs Contract type vs Service Years\n",
    "7. Dissatisfaction vs Position vs Service Years\n"
   ],
   "metadata": {
    "collapsed": false
   }
  },
  {
   "cell_type": "markdown",
   "source": [
    "### 1. Service Years vs Resignees\n",
    "\n",
    "This looks at the distribution of resignees according to their number of years served at the time of their resignation. This tells which service category had the most resignations."
   ],
   "metadata": {
    "collapsed": false
   }
  },
  {
   "cell_type": "code",
   "execution_count": 63,
   "outputs": [
    {
     "data": {
      "text/plain": "<Figure size 360x216 with 1 Axes>",
      "image/png": "[encoded data removed]"
     },
     "metadata": {
      "needs_background": "light"
     },
     "output_type": "display_data"
    }
   ],
   "source": [
    "x_values = combined_updated['service_cat'].value_counts().index\n",
    "y_values = round(100*(combined_updated['service_cat'].value_counts()/combined_updated.shape[0]))\n",
    "\n",
    "plt.figure(figsize=(5,3))\n",
    "ax = plt.barh(y=x_values, width=y_values)\n",
    "plt.title('Percentage Distribution of Resignees According to Service Years')\n",
    "plt.xlabel('Percentage of Total Resignees')\n",
    "plt.ylabel('Service Years Categories')\n",
    "plt.bar_label(container=ax, labels=None, fmt='%.0f%%', fontsize=13, label_type='edge', padding=-30)\n",
    "plt.show()"
   ],
   "metadata": {
    "collapsed": false,
    "pycharm": {
     "name": "#%%\n"
    }
   }
  },
  {
   "cell_type": "markdown",
   "source": [
    "Approximately 65% of the resignees are  employees who have been at their organisations less than 6 years. This is important as  high resignation rates are expected from older staff. This suggests that there could be a major driver for resignation among employees with less than 6 years at the institution."
   ],
   "metadata": {
    "collapsed": false,
    "pycharm": {
     "name": "#%% md\n"
    }
   }
  },
  {
   "cell_type": "markdown",
   "source": [
    "### 2. Dissatisafaction vs Service Years\n",
    "This is to narrow down the distribution to the resignees who indicated dissatisfaction to identify their distribution according to their service years."
   ],
   "metadata": {
    "collapsed": false
   }
  },
  {
   "cell_type": "code",
   "execution_count": 40,
   "metadata": {
    "scrolled": true
   },
   "outputs": [
    {
     "data": {
      "text/plain": "<Figure size 360x216 with 1 Axes>",
      "image/png": "[encoded data removed]"
     },
     "metadata": {
      "needs_background": "light"
     },
     "output_type": "display_data"
    }
   ],
   "source": [
    "service_pivot = combined_updated.pivot_table(values='dissatisfied', index='service_cat')\n",
    "service_pivot['dissatisfied'] = service_pivot['dissatisfied']*100\n",
    "\n",
    "ax = service_pivot.plot(kind='barh', figsize=(5,3), legend=False, title='Percentage(%) of Dissatisfied Resignees (%)')\n",
    "for container in ax.containers:\n",
    "    ax.bar_label(container, labels=None, fmt='%.0f', fontsize=13, label_type='edge', color='black', padding=-20)\n",
    "plt.show()"
   ]
  },
  {
   "cell_type": "markdown",
   "source": [
    "In contrast to what was found from the service years distribution of total resignees, this figure shows that higher proportions of the veteran and established (about half each) resignees did so due to dissatisfaction. Dissatisfaction among the younger employees was expressed by ~30%  of the 'New' and ~35% of the 'Experienced' factions. This implies that a reason other than dissatisfaction might be driving the high resignation rates among the younger resignees.\n",
    "\n",
    "**From the first two plots, analysis question as 1 follows can be answered tentatively as follows: Employees who worked for the institutes for a short period of time (less than 6 years) are not resigning due to of dissatisfaction. Only 30-35% reported that their resignation was due to dissatisfaction. However it is the reason for majority of resignations among employees who had been at the institute for longer. About of half of the experienced and established emploees resigned due to dissatisfaction.**"
   ],
   "metadata": {
    "collapsed": false,
    "pycharm": {
     "name": "#%% md\n"
    }
   }
  },
  {
   "cell_type": "markdown",
   "source": [
    "### Dissatisfaction vs Age Structure"
   ],
   "metadata": {
    "collapsed": false,
    "pycharm": {
     "name": "#%% md\n"
    }
   }
  },
  {
   "cell_type": "code",
   "execution_count": 41,
   "outputs": [
    {
     "data": {
      "text/plain": "<Figure size 360x216 with 1 Axes>",
      "image/png": "[encoded data removed]"
     },
     "metadata": {
      "needs_background": "light"
     },
     "output_type": "display_data"
    }
   ],
   "source": [
    "age_pivot = combined_updated.pivot_table(values='dissatisfied', index='age_structure')\n",
    "age_pivot['dissatisfied'] = age_pivot['dissatisfied']*100\n",
    "\n",
    "ax = age_pivot.plot(kind='barh', figsize=(5,3), legend=False, title='Percentage(%) of Dissatisfied Resignees (%)')\n",
    "for container in ax.containers:\n",
    "    ax.bar_label(container, labels=None, fmt='%.0f', fontsize=13, label_type='edge', color='black', padding=-20)\n",
    "plt.show()"
   ],
   "metadata": {
    "collapsed": false,
    "pycharm": {
     "name": "#%%\n"
    }
   }
  },
  {
   "cell_type": "markdown",
   "source": [
    "Employee dissatisfaction is observed to increase with age.\n",
    "\n",
    "The second analysis question can be answered: **Younger employees are generally not resigning due to some kind of dissatisfaction. However, older employees are  more likely ro resign due to dissatisfaction.**\n",
    "\n",
    "To get more substantiated findings for both analysis questions, the other relationships between dissatisfaction the other relevant properties of the resigned employees are visualised to compute which conditions might be contributing largely to employee dissatisfaction."
   ],
   "metadata": {
    "collapsed": false,
    "pycharm": {
     "name": "#%% md\n"
    }
   }
  },
  {
   "cell_type": "markdown",
   "source": [
    "### 4. Dissatisfaction vs Institute\n"
   ],
   "metadata": {
    "collapsed": false
   }
  },
  {
   "cell_type": "code",
   "execution_count": 42,
   "outputs": [
    {
     "data": {
      "text/plain": "<Figure size 360x144 with 1 Axes>",
      "image/png": "[encoded data removed]"
     },
     "metadata": {
      "needs_background": "light"
     },
     "output_type": "display_data"
    }
   ],
   "source": [
    "institute_pivot = combined_updated.pivot_table(values='dissatisfied', index='institute')\n",
    "institute_pivot['dissatisfied'] = institute_pivot['dissatisfied']*100\n",
    "\n",
    "ax = institute_pivot.plot(kind='barh', figsize=(5,2), legend=False, title='Percentage(%) of Dissatisfied Resignees')\n",
    "for container in ax.containers:\n",
    "    ax.bar_label(container, labels=None, fmt='%.0f', fontsize=13, label_type='edge', color='black', padding=-20)\n",
    "plt.show()"
   ],
   "metadata": {
    "collapsed": false,
    "pycharm": {
     "name": "#%%\n"
    }
   }
  },
  {
   "cell_type": "markdown",
   "source": [],
   "metadata": {
    "collapsed": false
   }
  },
  {
   "cell_type": "markdown",
   "source": [
    "### 5. Dissatisfaction vs Gender"
   ],
   "metadata": {
    "collapsed": false,
    "pycharm": {
     "name": "#%% md\n"
    }
   }
  },
  {
   "cell_type": "code",
   "execution_count": 43,
   "outputs": [
    {
     "data": {
      "text/plain": "<Figure size 360x216 with 1 Axes>",
      "image/png": "[encoded data removed]"
     },
     "metadata": {
      "needs_background": "light"
     },
     "output_type": "display_data"
    }
   ],
   "source": [
    "gender_pivot = combined_updated.pivot_table(values='dissatisfied', index='gender')\n",
    "gender_pivot['dissatisfied'] = gender_pivot['dissatisfied']*100\n",
    "\n",
    "ax = gender_pivot.plot(kind='barh', figsize=(5,3), legend=False, title='Percentage(%) of Dissatisfied Resignees')\n",
    "for container in ax.containers:\n",
    "    ax.bar_label(container, labels=None, fmt='%.0f', fontsize=13, label_type='edge', color='black', padding=-20)\n",
    "plt.show()"
   ],
   "metadata": {
    "collapsed": false,
    "pycharm": {
     "name": "#%%\n"
    }
   }
  },
  {
   "cell_type": "markdown",
   "source": [
    "Since each gender has about 40% resigning die to dissatisfaction it can be concluded that gender does not have a markable influence on dissatisfaction."
   ],
   "metadata": {
    "collapsed": false,
    "pycharm": {
     "name": "#%% md\n"
    }
   }
  },
  {
   "cell_type": "markdown",
   "source": [
    "### 6. Dissatisfaction vs Contract type"
   ],
   "metadata": {
    "collapsed": false,
    "pycharm": {
     "name": "#%% md\n"
    }
   }
  },
  {
   "cell_type": "code",
   "execution_count": 44,
   "outputs": [
    {
     "data": {
      "text/plain": "<Figure size 360x288 with 1 Axes>",
      "image/png": "[encoded data removed]"
     },
     "metadata": {
      "needs_background": "light"
     },
     "output_type": "display_data"
    }
   ],
   "source": [
    "contract_pivot = combined_updated.pivot_table(values='dissatisfied', index='employment_status')\n",
    "contract_pivot['dissatisfied'] = contract_pivot['dissatisfied']*100\n",
    "\n",
    "ax = contract_pivot.plot(kind='barh', figsize=(5,4), legend=False, title='Percentage(%) of Dissatisfied Resignees')\n",
    "for container in ax.containers:\n",
    "    ax.bar_label(container, labels=None, fmt='%.0f', fontsize=13, label_type='edge', color='black', padding=-20)\n",
    "plt.show()"
   ],
   "metadata": {
    "collapsed": false,
    "pycharm": {
     "name": "#%%\n"
    }
   }
  },
  {
   "cell_type": "markdown",
   "source": [
    "Dissastifaction is notably higher among the permanent staff: both the full and part time former permanent workers have ~47% reporting dissatisfaction."
   ],
   "metadata": {
    "collapsed": false,
    "pycharm": {
     "name": "#%% md\n"
    }
   }
  },
  {
   "cell_type": "markdown",
   "source": [
    "### 7. Dissatisfaction vs Position\n"
   ],
   "metadata": {
    "collapsed": false,
    "pycharm": {
     "name": "#%% md\n"
    }
   }
  },
  {
   "cell_type": "code",
   "execution_count": 45,
   "outputs": [
    {
     "data": {
      "text/plain": "<Figure size 360x288 with 1 Axes>",
      "image/png": "[encoded data removed]"
     },
     "metadata": {
      "needs_background": "light"
     },
     "output_type": "display_data"
    }
   ],
   "source": [
    "position_pivot = combined_updated.pivot_table(values='dissatisfied', index='position_cat')\n",
    "position_pivot['dissatisfied'] = position_pivot['dissatisfied']*100\n",
    "\n",
    "ax = position_pivot.plot(kind='barh', figsize=(5,4), legend=False, title='Percentage(%) of Dissatisfied Resignees')\n",
    "for container in ax.containers:\n",
    "    ax.bar_label(container, labels=None, fmt='%.0f', fontsize=13, label_type='edge', color='black', padding=-20)\n",
    "plt.show()"
   ],
   "metadata": {
    "collapsed": false,
    "pycharm": {
     "name": "#%%\n"
    }
   }
  },
  {
   "cell_type": "markdown",
   "source": [
    "Dissatisfaction is lowest among the administration support staff anfd highest in the teaching stuff and non-teaching stuff (other) category which is made up of janitorial staff/cleaners, school based professional staff (therapists, nurses, etc) and other minor roles. The percentages in the other categories aren't significantly lower. It is therefore not a definite relationship between the job positions and dissatisfaction."
   ],
   "metadata": {
    "collapsed": false,
    "pycharm": {
     "name": "#%% md\n"
    }
   }
  },
  {
   "cell_type": "markdown",
   "source": [
    "**Conclusion (Factors Contributing to Dissatisfaction)**: From the analysis, the proportion of dissatisfed resignees from DETE were almost twice as much as those from TAFE. Based on this and given that this data set has detailed dissatisfaction classification, the analysis can carry out with the DETE data to clarify the results further. The other major factors that were found to contribute to dissatisfaction was being a permanent employee of the institution and being a teaching staff or the classification non-teaching staff(other) [please see above for definition]."
   ],
   "metadata": {
    "collapsed": false,
    "pycharm": {
     "name": "#%% md\n"
    }
   }
  },
  {
   "cell_type": "markdown",
   "source": [
    "## Further Analysis with DETE Exit Surveys"
   ],
   "metadata": {
    "collapsed": false,
    "pycharm": {
     "name": "#%% md\n"
    }
   }
  },
  {
   "cell_type": "code",
   "execution_count": null,
   "outputs": [],
   "source": [
    "dete_resignations.head()\n",
    "print(dete_resignations.shape[0])\n",
    "print(dete_resignations.columns)"
   ],
   "metadata": {
    "collapsed": false,
    "pycharm": {
     "name": "#%%\n"
    }
   }
  },
  {
   "cell_type": "markdown",
   "source": [
    "### Data Preparation\n",
    "First only the relevant columns are kept."
   ],
   "metadata": {
    "collapsed": false
   }
  },
  {
   "cell_type": "code",
   "execution_count": null,
   "outputs": [],
   "source": [
    "# defining the fraction of the dete database to be used for further analysis\n",
    "dete_further = dete_resignations.copy()[dete_resignations['dissatisfied']==True]\n",
    "\n",
    "#dropping unrelevant values\n",
    "dete_further = dete_further.drop(['cease_date', 'dete_start_date', 'role_start_date', 'classification','aboriginal', 'torres_strait', 'south_sea', 'disability', 'nesb'], axis=1)\n",
    "dete_further.columns"
   ],
   "metadata": {
    "collapsed": false,
    "pycharm": {
     "name": "#%%\n"
    }
   }
  },
  {
   "cell_type": "code",
   "execution_count": null,
   "outputs": [],
   "source": [
    "# visualising data to easily identify null values\n",
    "sns.heatmap(dete_further.isnull(), cbar=False)\n",
    "plt.show()"
   ],
   "metadata": {
    "collapsed": false,
    "pycharm": {
     "name": "#%%\n"
    }
   }
  },
  {
   "cell_type": "code",
   "execution_count": null,
   "outputs": [],
   "source": [
    "# dropping rows with null age and institute service values\n",
    "dete_further = dete_further.copy()[(dete_further['age'].notnull() & dete_further['institute_service'].notnull())]\n",
    "sns.heatmap(dete_further.isnull(), cbar=False)\n",
    "plt.show()"
   ],
   "metadata": {
    "collapsed": false,
    "pycharm": {
     "name": "#%%\n"
    }
   }
  },
  {
   "cell_type": "code",
   "execution_count": null,
   "outputs": [],
   "source": [
    "# dropping the business unit and region columns since they are mainly made of null values.\n",
    "dete_further = dete_further.drop(['region', 'business_unit'], axis=1)\n",
    "dete_further.isnull().sum()"
   ],
   "metadata": {
    "collapsed": false,
    "pycharm": {
     "name": "#%%\n"
    }
   }
  },
  {
   "cell_type": "code",
   "execution_count": null,
   "outputs": [],
   "source": [
    "# mapping raw age structures to categories defined above\n",
    "dete_further['age_structure'] = dete_further['age'].map(age_structure)\n",
    "dete_further['age_structure'].value_counts(dropna=False)"
   ],
   "metadata": {
    "collapsed": false,
    "pycharm": {
     "name": "#%%\n"
    }
   }
  },
  {
   "cell_type": "markdown",
   "source": [
    "## Data Analysis\n"
   ],
   "metadata": {
    "collapsed": false
   }
  },
  {
   "cell_type": "code",
   "execution_count": 52,
   "outputs": [
    {
     "data": {
      "text/plain": "<Figure size 864x720 with 1 Axes>",
      "image/png": "[encoded data removed]"
     },
     "metadata": {
      "needs_background": "light"
     },
     "output_type": "display_data"
    }
   ],
   "source": [
    "# creating a pivot table & plot to aggregate data by the number of years categories at DETE and compute the % of each category that resigned for each dissatisfaction reason\n",
    "dete_further_pivot_serv = dete_further.pivot_table(values=dissatisfied_dete, index='service_cat')\n",
    "\n",
    "ax = dete_further_pivot_serv.plot(kind='barh', figsize=(12,10), legend=True, title='Percentage(%) of Dissatisfied Resignees')\n",
    "# for container in ax.containers:\n",
    "#     ax.bar_label(container, labels=None, fmt='%.0f', fontsize=13, label_type='edge', color='black', padding=-20)\n",
    "plt.show()\n"
   ],
   "metadata": {
    "collapsed": false,
    "pycharm": {
     "name": "#%%\n"
    }
   }
  },
  {
   "cell_type": "markdown",
   "source": [
    "Accross all categories of number of service years the leading form of dissatisfaction is _worklife balance_ given that 40% or more resigned employees from each category. This is an exceptionally popular reason among New employees as 66% cited this as a reason. A general _job dissastidaction_ is the next leading reason for all service categories."
   ],
   "metadata": {
    "collapsed": false
   }
  },
  {
   "cell_type": "code",
   "execution_count": 53,
   "outputs": [
    {
     "data": {
      "text/plain": "<Figure size 864x576 with 1 Axes>",
      "image/png": "[encoded data removed]"
     },
     "metadata": {
      "needs_background": "light"
     },
     "output_type": "display_data"
    }
   ],
   "source": [
    "dete_further_pivot_age = dete_further.pivot_table(values=dissatisfied_dete, index='age_structure')\n",
    "\n",
    "ax = dete_further_pivot_age.plot(kind='barh', figsize=(12,8), legend=True, title='Percentage(%) of Dissatisfied Resignees')\n",
    "# for container in ax.containers:\n",
    "#     ax.bar_label(container, labels=None, fmt='%.0f', fontsize=13, label_type='edge', color='black', padding=-20)\n",
    "plt.show()"
   ],
   "metadata": {
    "collapsed": false,
    "pycharm": {
     "name": "#%%\n"
    }
   }
  },
  {
   "cell_type": "markdown",
   "source": [
    "The work-life balance is cited as a dissatisfaction point for more than 70 of the early working age employees, followed by a lack of recognition. This is somewhat expected since the employees in their early working age probably make up the most of the 'New Employee' category."
   ],
   "metadata": {
    "collapsed": false,
    "pycharm": {
     "name": "#%% md\n"
    }
   }
  },
  {
   "cell_type": "code",
   "execution_count": 61,
   "outputs": [
    {
     "data": {
      "text/plain": "<Figure size 540x252 with 1 Axes>",
      "image/png": "[encoded data removed]"
     },
     "metadata": {
      "needs_background": "light"
     },
     "output_type": "display_data"
    }
   ],
   "source": [
    "dete_resig_further = combined_updated.query(\"institute == 'DETE'\")\n",
    "\n",
    "sns.heatmap(dete_resig_further.isnull(), cbar=False)\n",
    "plt.show()"
   ],
   "metadata": {
    "collapsed": false,
    "pycharm": {
     "name": "#%%\n"
    }
   }
  },
  {
   "cell_type": "code",
   "execution_count": 62,
   "outputs": [
    {
     "data": {
      "text/plain": "<Figure size 864x576 with 5 Axes>",
      "image/png": "[encoded data removed]"
     },
     "metadata": {
      "needs_background": "light"
     },
     "output_type": "display_data"
    }
   ],
   "source": [
    "factor_columns = ['gender', 'service_cat', 'age_structure','position_cat', 'employment_status']\n",
    "\n",
    "\n",
    "fig, (ax1, ax2, ax3, ax4, ax5) = plt.subplots(len(factor_columns), figsize=(10,len(factor_columns)*6))\n",
    "asses = [ax1, ax2, ax3, ax4, ax5]\n",
    "for ass, column in zip(asses, factor_columns):\n",
    "    piv_plot = dete_resig_further.pivot_table(values='dissatisfied', index=column)\n",
    "    piv_plot['dissatisfied'] = piv_plot['dissatisfied']*100\n",
    "    bl = piv_plot.plot(kind='barh', figsize=(12,8), legend=False, ax=ass, width=0.75)\n",
    "    for container in bl.containers:\n",
    "        ass.bar_label(container, labels=None, fmt='%.0f%%', fontsize=11, label_type='edge', color='black', padding=10)\n",
    "    ass.set_xlim([0,100])\n",
    "    ass.set_xticks([])\n",
    "    # if ass is not ax5:\n",
    "    #     ass.set_xticks([])\n",
    "\n",
    "ax5.text(28, -2.5, 'Percentage of Dissatisfied DETE Resignees', weight='bold', size=17.5)\n",
    "\n",
    "plt.subplots_adjust(left=0.1,\n",
    "                    bottom=0.1,\n",
    "                    right=0.9,\n",
    "                    top=0.9,\n",
    "                    wspace=0.4,\n",
    "                    hspace=0.4)\n",
    "plt.show()"
   ],
   "metadata": {
    "collapsed": false,
    "pycharm": {
     "name": "#%%\n"
    }
   }
  },
  {
   "cell_type": "markdown",
   "source": [
    "All trends are relatively approximate with what was observed with the combine data frame. The positive correlations between dissatisfaction and number of service years and dissatisfaction and age is more pronounced in the DETE survey. It will be interesting to see the corresponding trends for the TAFE survey.\n"
   ],
   "metadata": {
    "collapsed": false,
    "pycharm": {
     "name": "#%% md\n"
    }
   }
  },
  {
   "cell_type": "code",
   "execution_count": 64,
   "outputs": [
    {
     "data": {
      "text/plain": "<Figure size 540x252 with 1 Axes>",
      "image/png": "[encoded data removed]"
     },
     "metadata": {
      "needs_background": "light"
     },
     "output_type": "display_data"
    }
   ],
   "source": [
    "tafe_resig_further = combined_updated.query(\"institute == 'TAFE'\")\n",
    "\n",
    "sns.heatmap(tafe_resig_further.isnull(), cbar=False)\n",
    "plt.show()"
   ],
   "metadata": {
    "collapsed": false,
    "pycharm": {
     "name": "#%%\n"
    }
   }
  },
  {
   "cell_type": "code",
   "execution_count": 65,
   "outputs": [
    {
     "data": {
      "text/plain": "<Figure size 864x576 with 5 Axes>",
      "image/png": "[encoded data removed]"
     },
     "metadata": {
      "needs_background": "light"
     },
     "output_type": "display_data"
    }
   ],
   "source": [
    "fig, (ax1, ax2, ax3, ax4, ax5) = plt.subplots(len(factor_columns), figsize=(10,len(factor_columns)*6))\n",
    "asses = [ax1, ax2, ax3, ax4, ax5]\n",
    "for ass, column in zip(asses, factor_columns):\n",
    "    piv_plot = tafe_resig_further.pivot_table(values='dissatisfied', index=column)\n",
    "    piv_plot['dissatisfied'] = piv_plot['dissatisfied']*100\n",
    "    bl = piv_plot.plot(kind='barh', figsize=(12,8), legend=False, ax=ass, width=0.75)\n",
    "    for container in bl.containers:\n",
    "        ass.bar_label(container, labels=None, fmt='%.0f%%', fontsize=11, label_type='edge', color='black', padding=10)\n",
    "    ass.set_xlim([0,100])\n",
    "    ass.set_xticks([])\n",
    "\n",
    "ax5.text(28, -2.5, 'Percentage of Dissatisfied TAFE Resignees', weight='bold', size=17.5)\n",
    "\n",
    "plt.subplots_adjust(left=0.1,\n",
    "                    bottom=0.1,\n",
    "                    right=0.9,\n",
    "                    top=0.9,\n",
    "                    wspace=0.4,\n",
    "                    hspace=0.4)\n",
    "plt.show()"
   ],
   "metadata": {
    "collapsed": false,
    "pycharm": {
     "name": "#%%\n"
    }
   }
  },
  {
   "cell_type": "markdown",
   "source": [
    "Unlike in the combined database and DETE survey, there is a negative correlation between dissatisafcation and age at TAFE; dissatisfaction is more prominent among early working age employees and least prominent in elderly working age employees.\n",
    "\n",
    "Another contrast is observed in the plot for service category: New TAFE employees are more likely to resign due to dissatisfaction than experienced employees, however the difference is only marginal."
   ],
   "metadata": {
    "collapsed": false,
    "pycharm": {
     "name": "#%% md\n"
    }
   }
  },
  {
   "cell_type": "markdown",
   "source": [
    "# Conclusion and Limitations\n",
    "\n",
    "## Conclusion\n",
    "From our analysis, we learned the relationship between various factors and resignation due to dissatisfaction. These factors included years of service, gender, age, contract type and job role. In general, we observed that 51% of DETE's resigning workforce are leaving dissatisfied while at TAFE this percentage is 27%. Established and veteran employees are more likely to leave dissatisfied. At DETE, dissatisfaction increases with increasing age while at TAFE, dissatisafaction increases with decreasing age.\n",
    "\n",
    "Common to both institutes, gender doesn’t seem to exert much influence on employee dissatisfaction, but males were slightly more likely to be dissatisfied. More employees on permanent contracts  reported dissatisfaction compared to those with temporary or casual contracts. Teaching staff and employees who had held small helper non-teaching roles resigned more due to dissatisfaction, than non-teaching staff in admin and support roles.\n",
    "\n",
    "The employees who had been at the institutions for less than 6 years were more likely to resign compared to their more seasoned counterparts however as mentioned, the resignations due to dissatisfaction was generally more likely for employees who had been at the institution longer. This suggests that resignations which is higher among relatively newer staff is driven by other factors such as poaching or relocation and not dissatisfaction.\n",
    "\n",
    "\n",
    "## Limitations\n",
    " DETE employees were concluded to be almost twice more likely to resign due to dissatisfaction than TAFE employees, however this results may not be a clear representation of the situation as there were simply more survey responses in the DETE poll that correlated to a 'dissatisfied' conclusion. The TAFE survey received fewer responses and this disparity  limits the clarity of the results presented."
   ],
   "metadata": {
    "collapsed": false,
    "pycharm": {
     "name": "#%% md\n"
    }
   }
  }
 ],
 "metadata": {
  "kernelspec": {
   "display_name": "Python 3",
   "language": "python",
   "name": "python3"
  },
  "language_info": {
   "codemirror_mode": {
    "name": "ipython",
    "version": 3
   },
   "file_extension": ".py",
   "mimetype": "text/x-python",
   "name": "python",
   "nbconvert_exporter": "python",
   "pygments_lexer": "ipython3",
   "version": "3.8.2"
  }
 },
 "nbformat": 4,
 "nbformat_minor": 2
}