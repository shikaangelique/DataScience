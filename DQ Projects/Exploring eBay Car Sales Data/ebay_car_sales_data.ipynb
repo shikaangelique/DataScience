{
 "cells": [
  {
   "cell_type": "markdown",
   "metadata": {
    "collapsed": true
   },
   "source": [
    "# eBay Kleinanzeigen Classified Section\n",
    "\n",
    "In this data cleaning and analysis project, a dataset of used cars from eBay Kleinanzeigen, a classifieds section of the German eBay website is assessed with the aim to decipher insights into the nature and popularity of listed cars and how the prices are influenced/determined."
   ]
  },
  {
   "cell_type": "markdown",
   "metadata": {},
   "source": [
    "The dataset has 50,000 entries and 20 colums mostly with ofject-type data. Only 20% of the columns have numeric data specifically int type. The information given in the dataset are marked by the following columns:\n",
    "\n",
    "- **dateCrawled** - When this ad was first crawled. \n",
    "- **name** - Name of the car.\n",
    "- **seller** - Whether the seller is private or a dealer.\n",
    "- **offerType** - The type of listing\n",
    "- **price** - The price on the ad to sell the car.\n",
    "- **abtest** - Whether the listing is included in an A/B test.\n",
    "- **vehicleType** - The vehicle Type.\n",
    "- **yearOfRegistration** - The year in which the car was first registered.\n",
    "- **gearbox** - The transmission type.\n",
    "- **powerPS** - The power of the car in PS.\n",
    "- **model** - The car model name.\n",
    "- **kilometer** - How many kilometers the car has driven.\n",
    "- **monthOfRegistration** - The month in which the car was first registered.\n",
    "- **fuelType** - What type of fuel the car uses.\n",
    "- **brand** - The brand of the car.\n",
    "- **notRepairedDamage** - If the car has a damage which is not yet repaired.\n",
    "- **dateCreated** - The date on which the eBay listing was created.\n",
    "- **nrOfPictures** - The number of pictures in the ad.\n",
    "- **postalCode** - The postal code for the location of the vehicle.\n",
    "- **lastSeenOnline** - When the crawler saw this ad last online.\n",
    "\n",
    "On first, view data seemes to be primarily organised by the date the each entry was crawled (dateCrawled column). All field-values are taken from this date. Car name column looks cubersome."
   ]
  },
  {
   "cell_type": "code",
   "execution_count": 1,
   "metadata": {},
   "outputs": [
    {
     "name": "stdout",
     "output_type": "stream",
     "text": [
      "<class 'pandas.core.frame.DataFrame'>\n",
      "RangeIndex: 50000 entries, 0 to 49999\n",
      "Data columns (total 20 columns):\n",
      " #   Column               Non-Null Count  Dtype \n",
      "---  ------               --------------  ----- \n",
      " 0   dateCrawled          50000 non-null  object\n",
      " 1   name                 50000 non-null  object\n",
      " 2   seller               50000 non-null  object\n",
      " 3   offerType            50000 non-null  object\n",
      " 4   price                50000 non-null  object\n",
      " 5   abtest               50000 non-null  object\n",
      " 6   vehicleType          44905 non-null  object\n",
      " 7   yearOfRegistration   50000 non-null  int64 \n",
      " 8   gearbox              47320 non-null  object\n",
      " 9   powerPS              50000 non-null  int64 \n",
      " 10  model                47242 non-null  object\n",
      " 11  odometer             50000 non-null  object\n",
      " 12  monthOfRegistration  50000 non-null  int64 \n",
      " 13  fuelType             45518 non-null  object\n",
      " 14  brand                50000 non-null  object\n",
      " 15  notRepairedDamage    40171 non-null  object\n",
      " 16  dateCreated          50000 non-null  object\n",
      " 17  nrOfPictures         50000 non-null  int64 \n",
      " 18  postalCode           50000 non-null  int64 \n",
      " 19  lastSeen             50000 non-null  object\n",
      "dtypes: int64(5), object(15)\n",
      "memory usage: 7.6+ MB\n"
     ]
    },
    {
     "data": {
      "text/html": [
       "<div>\n",
       "<style scoped>\n",
       "    .dataframe tbody tr th:only-of-type {\n",
       "        vertical-align: middle;\n",
       "    }\n",
       "\n",
       "    .dataframe tbody tr th {\n",
       "        vertical-align: top;\n",
       "    }\n",
       "\n",
       "    .dataframe thead th {\n",
       "        text-align: right;\n",
       "    }\n",
       "</style>\n",
       "<table border=\"1\" class=\"dataframe\">\n",
       "  <thead>\n",
       "    <tr style=\"text-align: right;\">\n",
       "      <th></th>\n",
       "      <th>dateCrawled</th>\n",
       "      <th>name</th>\n",
       "      <th>seller</th>\n",
       "      <th>offerType</th>\n",
       "      <th>price</th>\n",
       "      <th>abtest</th>\n",
       "      <th>vehicleType</th>\n",
       "      <th>yearOfRegistration</th>\n",
       "      <th>gearbox</th>\n",
       "      <th>powerPS</th>\n",
       "      <th>model</th>\n",
       "      <th>odometer</th>\n",
       "      <th>monthOfRegistration</th>\n",
       "      <th>fuelType</th>\n",
       "      <th>brand</th>\n",
       "      <th>notRepairedDamage</th>\n",
       "      <th>dateCreated</th>\n",
       "      <th>nrOfPictures</th>\n",
       "      <th>postalCode</th>\n",
       "      <th>lastSeen</th>\n",
       "    </tr>\n",
       "  </thead>\n",
       "  <tbody>\n",
       "    <tr>\n",
       "      <th>0</th>\n",
       "      <td>2016-03-26 17:47:46</td>\n",
       "      <td>Peugeot_807_160_NAVTECH_ON_BOARD</td>\n",
       "      <td>privat</td>\n",
       "      <td>Angebot</td>\n",
       "      <td>$5,000</td>\n",
       "      <td>control</td>\n",
       "      <td>bus</td>\n",
       "      <td>2004</td>\n",
       "      <td>manuell</td>\n",
       "      <td>158</td>\n",
       "      <td>andere</td>\n",
       "      <td>150,000km</td>\n",
       "      <td>3</td>\n",
       "      <td>lpg</td>\n",
       "      <td>peugeot</td>\n",
       "      <td>nein</td>\n",
       "      <td>2016-03-26 00:00:00</td>\n",
       "      <td>0</td>\n",
       "      <td>79588</td>\n",
       "      <td>2016-04-06 06:45:54</td>\n",
       "    </tr>\n",
       "    <tr>\n",
       "      <th>1</th>\n",
       "      <td>2016-04-04 13:38:56</td>\n",
       "      <td>BMW_740i_4_4_Liter_HAMANN_UMBAU_Mega_Optik</td>\n",
       "      <td>privat</td>\n",
       "      <td>Angebot</td>\n",
       "      <td>$8,500</td>\n",
       "      <td>control</td>\n",
       "      <td>limousine</td>\n",
       "      <td>1997</td>\n",
       "      <td>automatik</td>\n",
       "      <td>286</td>\n",
       "      <td>7er</td>\n",
       "      <td>150,000km</td>\n",
       "      <td>6</td>\n",
       "      <td>benzin</td>\n",
       "      <td>bmw</td>\n",
       "      <td>nein</td>\n",
       "      <td>2016-04-04 00:00:00</td>\n",
       "      <td>0</td>\n",
       "      <td>71034</td>\n",
       "      <td>2016-04-06 14:45:08</td>\n",
       "    </tr>\n",
       "    <tr>\n",
       "      <th>2</th>\n",
       "      <td>2016-03-26 18:57:24</td>\n",
       "      <td>Volkswagen_Golf_1.6_United</td>\n",
       "      <td>privat</td>\n",
       "      <td>Angebot</td>\n",
       "      <td>$8,990</td>\n",
       "      <td>test</td>\n",
       "      <td>limousine</td>\n",
       "      <td>2009</td>\n",
       "      <td>manuell</td>\n",
       "      <td>102</td>\n",
       "      <td>golf</td>\n",
       "      <td>70,000km</td>\n",
       "      <td>7</td>\n",
       "      <td>benzin</td>\n",
       "      <td>volkswagen</td>\n",
       "      <td>nein</td>\n",
       "      <td>2016-03-26 00:00:00</td>\n",
       "      <td>0</td>\n",
       "      <td>35394</td>\n",
       "      <td>2016-04-06 20:15:37</td>\n",
       "    </tr>\n",
       "    <tr>\n",
       "      <th>3</th>\n",
       "      <td>2016-03-12 16:58:10</td>\n",
       "      <td>Smart_smart_fortwo_coupe_softouch/F1/Klima/Pan...</td>\n",
       "      <td>privat</td>\n",
       "      <td>Angebot</td>\n",
       "      <td>$4,350</td>\n",
       "      <td>control</td>\n",
       "      <td>kleinwagen</td>\n",
       "      <td>2007</td>\n",
       "      <td>automatik</td>\n",
       "      <td>71</td>\n",
       "      <td>fortwo</td>\n",
       "      <td>70,000km</td>\n",
       "      <td>6</td>\n",
       "      <td>benzin</td>\n",
       "      <td>smart</td>\n",
       "      <td>nein</td>\n",
       "      <td>2016-03-12 00:00:00</td>\n",
       "      <td>0</td>\n",
       "      <td>33729</td>\n",
       "      <td>2016-03-15 03:16:28</td>\n",
       "    </tr>\n",
       "    <tr>\n",
       "      <th>4</th>\n",
       "      <td>2016-04-01 14:38:50</td>\n",
       "      <td>Ford_Focus_1_6_Benzin_TÜV_neu_ist_sehr_gepfleg...</td>\n",
       "      <td>privat</td>\n",
       "      <td>Angebot</td>\n",
       "      <td>$1,350</td>\n",
       "      <td>test</td>\n",
       "      <td>kombi</td>\n",
       "      <td>2003</td>\n",
       "      <td>manuell</td>\n",
       "      <td>0</td>\n",
       "      <td>focus</td>\n",
       "      <td>150,000km</td>\n",
       "      <td>7</td>\n",
       "      <td>benzin</td>\n",
       "      <td>ford</td>\n",
       "      <td>nein</td>\n",
       "      <td>2016-04-01 00:00:00</td>\n",
       "      <td>0</td>\n",
       "      <td>39218</td>\n",
       "      <td>2016-04-01 14:38:50</td>\n",
       "    </tr>\n",
       "  </tbody>\n",
       "</table>\n",
       "</div>"
      ],
      "text/plain": [
       "           dateCrawled                                               name  \\\n",
       "0  2016-03-26 17:47:46                   Peugeot_807_160_NAVTECH_ON_BOARD   \n",
       "1  2016-04-04 13:38:56         BMW_740i_4_4_Liter_HAMANN_UMBAU_Mega_Optik   \n",
       "2  2016-03-26 18:57:24                         Volkswagen_Golf_1.6_United   \n",
       "3  2016-03-12 16:58:10  Smart_smart_fortwo_coupe_softouch/F1/Klima/Pan...   \n",
       "4  2016-04-01 14:38:50  Ford_Focus_1_6_Benzin_TÜV_neu_ist_sehr_gepfleg...   \n",
       "\n",
       "   seller offerType   price   abtest vehicleType  yearOfRegistration  \\\n",
       "0  privat   Angebot  $5,000  control         bus                2004   \n",
       "1  privat   Angebot  $8,500  control   limousine                1997   \n",
       "2  privat   Angebot  $8,990     test   limousine                2009   \n",
       "3  privat   Angebot  $4,350  control  kleinwagen                2007   \n",
       "4  privat   Angebot  $1,350     test       kombi                2003   \n",
       "\n",
       "     gearbox  powerPS   model   odometer  monthOfRegistration fuelType  \\\n",
       "0    manuell      158  andere  150,000km                    3      lpg   \n",
       "1  automatik      286     7er  150,000km                    6   benzin   \n",
       "2    manuell      102    golf   70,000km                    7   benzin   \n",
       "3  automatik       71  fortwo   70,000km                    6   benzin   \n",
       "4    manuell        0   focus  150,000km                    7   benzin   \n",
       "\n",
       "        brand notRepairedDamage          dateCreated  nrOfPictures  \\\n",
       "0     peugeot              nein  2016-03-26 00:00:00             0   \n",
       "1         bmw              nein  2016-04-04 00:00:00             0   \n",
       "2  volkswagen              nein  2016-03-26 00:00:00             0   \n",
       "3       smart              nein  2016-03-12 00:00:00             0   \n",
       "4        ford              nein  2016-04-01 00:00:00             0   \n",
       "\n",
       "   postalCode             lastSeen  \n",
       "0       79588  2016-04-06 06:45:54  \n",
       "1       71034  2016-04-06 14:45:08  \n",
       "2       35394  2016-04-06 20:15:37  \n",
       "3       33729  2016-03-15 03:16:28  \n",
       "4       39218  2016-04-01 14:38:50  "
      ]
     },
     "execution_count": 1,
     "metadata": {},
     "output_type": "execute_result"
    }
   ],
   "source": [
    "import numpy as np\n",
    "import pandas as pd\n",
    "\n",
    "## preliminary look at data\n",
    "autos = pd.read_csv('autos.csv', encoding='Latin-1')\n",
    "autos.info()\n",
    "autos.head()"
   ]
  },
  {
   "cell_type": "markdown",
   "metadata": {},
   "source": [
    "### Renaming columns\n",
    "\n",
    "To begin, a few columns are renamed from camelcase to snakecase, to keep with convention and to make it easier to read and understand."
   ]
  },
  {
   "cell_type": "code",
   "execution_count": 2,
   "metadata": {},
   "outputs": [],
   "source": [
    "autos.head()\n",
    "autos.columns = autos.columns = ['date_crawled', 'name', 'seller', 'offer_type', 'price', 'ab_test',\n",
    "               'vehicle_type', 'registration_year', 'gear_box', 'powerPS', 'model',\n",
    "               'odometer', 'registration_month', 'fuel_type', 'brand',\n",
    "               'unrepaired_damage', 'ad_created', 'num_pictures', 'postal_code',\n",
    "               'last_seen']"
   ]
  },
  {
   "cell_type": "markdown",
   "metadata": {},
   "source": [
    "### Data Exploration\n",
    "\n",
    "Next, the data is explored to determine what cleaning tasks will be needed."
   ]
  },
  {
   "cell_type": "code",
   "execution_count": 3,
   "metadata": {},
   "outputs": [
    {
     "data": {
      "text/html": [
       "<div>\n",
       "<style scoped>\n",
       "    .dataframe tbody tr th:only-of-type {\n",
       "        vertical-align: middle;\n",
       "    }\n",
       "\n",
       "    .dataframe tbody tr th {\n",
       "        vertical-align: top;\n",
       "    }\n",
       "\n",
       "    .dataframe thead th {\n",
       "        text-align: right;\n",
       "    }\n",
       "</style>\n",
       "<table border=\"1\" class=\"dataframe\">\n",
       "  <thead>\n",
       "    <tr style=\"text-align: right;\">\n",
       "      <th></th>\n",
       "      <th>date_crawled</th>\n",
       "      <th>name</th>\n",
       "      <th>seller</th>\n",
       "      <th>offer_type</th>\n",
       "      <th>price</th>\n",
       "      <th>ab_test</th>\n",
       "      <th>vehicle_type</th>\n",
       "      <th>registration_year</th>\n",
       "      <th>gear_box</th>\n",
       "      <th>powerPS</th>\n",
       "      <th>model</th>\n",
       "      <th>odometer</th>\n",
       "      <th>registration_month</th>\n",
       "      <th>fuel_type</th>\n",
       "      <th>brand</th>\n",
       "      <th>unrepaired_damage</th>\n",
       "      <th>ad_created</th>\n",
       "      <th>num_pictures</th>\n",
       "      <th>postal_code</th>\n",
       "      <th>last_seen</th>\n",
       "    </tr>\n",
       "  </thead>\n",
       "  <tbody>\n",
       "    <tr>\n",
       "      <th>count</th>\n",
       "      <td>50000</td>\n",
       "      <td>50000</td>\n",
       "      <td>50000</td>\n",
       "      <td>50000</td>\n",
       "      <td>50000</td>\n",
       "      <td>50000</td>\n",
       "      <td>44905</td>\n",
       "      <td>50000.000000</td>\n",
       "      <td>47320</td>\n",
       "      <td>50000.000000</td>\n",
       "      <td>47242</td>\n",
       "      <td>50000</td>\n",
       "      <td>50000.000000</td>\n",
       "      <td>45518</td>\n",
       "      <td>50000</td>\n",
       "      <td>40171</td>\n",
       "      <td>50000</td>\n",
       "      <td>50000.0</td>\n",
       "      <td>50000.000000</td>\n",
       "      <td>50000</td>\n",
       "    </tr>\n",
       "    <tr>\n",
       "      <th>unique</th>\n",
       "      <td>48213</td>\n",
       "      <td>38754</td>\n",
       "      <td>2</td>\n",
       "      <td>2</td>\n",
       "      <td>2357</td>\n",
       "      <td>2</td>\n",
       "      <td>8</td>\n",
       "      <td>NaN</td>\n",
       "      <td>2</td>\n",
       "      <td>NaN</td>\n",
       "      <td>245</td>\n",
       "      <td>13</td>\n",
       "      <td>NaN</td>\n",
       "      <td>7</td>\n",
       "      <td>40</td>\n",
       "      <td>2</td>\n",
       "      <td>76</td>\n",
       "      <td>NaN</td>\n",
       "      <td>NaN</td>\n",
       "      <td>39481</td>\n",
       "    </tr>\n",
       "    <tr>\n",
       "      <th>top</th>\n",
       "      <td>2016-03-16 21:50:53</td>\n",
       "      <td>Ford_Fiesta</td>\n",
       "      <td>privat</td>\n",
       "      <td>Angebot</td>\n",
       "      <td>$0</td>\n",
       "      <td>test</td>\n",
       "      <td>limousine</td>\n",
       "      <td>NaN</td>\n",
       "      <td>manuell</td>\n",
       "      <td>NaN</td>\n",
       "      <td>golf</td>\n",
       "      <td>150,000km</td>\n",
       "      <td>NaN</td>\n",
       "      <td>benzin</td>\n",
       "      <td>volkswagen</td>\n",
       "      <td>nein</td>\n",
       "      <td>2016-04-03 00:00:00</td>\n",
       "      <td>NaN</td>\n",
       "      <td>NaN</td>\n",
       "      <td>2016-04-07 06:17:27</td>\n",
       "    </tr>\n",
       "    <tr>\n",
       "      <th>freq</th>\n",
       "      <td>3</td>\n",
       "      <td>78</td>\n",
       "      <td>49999</td>\n",
       "      <td>49999</td>\n",
       "      <td>1421</td>\n",
       "      <td>25756</td>\n",
       "      <td>12859</td>\n",
       "      <td>NaN</td>\n",
       "      <td>36993</td>\n",
       "      <td>NaN</td>\n",
       "      <td>4024</td>\n",
       "      <td>32424</td>\n",
       "      <td>NaN</td>\n",
       "      <td>30107</td>\n",
       "      <td>10687</td>\n",
       "      <td>35232</td>\n",
       "      <td>1946</td>\n",
       "      <td>NaN</td>\n",
       "      <td>NaN</td>\n",
       "      <td>8</td>\n",
       "    </tr>\n",
       "    <tr>\n",
       "      <th>mean</th>\n",
       "      <td>NaN</td>\n",
       "      <td>NaN</td>\n",
       "      <td>NaN</td>\n",
       "      <td>NaN</td>\n",
       "      <td>NaN</td>\n",
       "      <td>NaN</td>\n",
       "      <td>NaN</td>\n",
       "      <td>2005.073280</td>\n",
       "      <td>NaN</td>\n",
       "      <td>116.355920</td>\n",
       "      <td>NaN</td>\n",
       "      <td>NaN</td>\n",
       "      <td>5.723360</td>\n",
       "      <td>NaN</td>\n",
       "      <td>NaN</td>\n",
       "      <td>NaN</td>\n",
       "      <td>NaN</td>\n",
       "      <td>0.0</td>\n",
       "      <td>50813.627300</td>\n",
       "      <td>NaN</td>\n",
       "    </tr>\n",
       "    <tr>\n",
       "      <th>std</th>\n",
       "      <td>NaN</td>\n",
       "      <td>NaN</td>\n",
       "      <td>NaN</td>\n",
       "      <td>NaN</td>\n",
       "      <td>NaN</td>\n",
       "      <td>NaN</td>\n",
       "      <td>NaN</td>\n",
       "      <td>105.712813</td>\n",
       "      <td>NaN</td>\n",
       "      <td>209.216627</td>\n",
       "      <td>NaN</td>\n",
       "      <td>NaN</td>\n",
       "      <td>3.711984</td>\n",
       "      <td>NaN</td>\n",
       "      <td>NaN</td>\n",
       "      <td>NaN</td>\n",
       "      <td>NaN</td>\n",
       "      <td>0.0</td>\n",
       "      <td>25779.747957</td>\n",
       "      <td>NaN</td>\n",
       "    </tr>\n",
       "    <tr>\n",
       "      <th>min</th>\n",
       "      <td>NaN</td>\n",
       "      <td>NaN</td>\n",
       "      <td>NaN</td>\n",
       "      <td>NaN</td>\n",
       "      <td>NaN</td>\n",
       "      <td>NaN</td>\n",
       "      <td>NaN</td>\n",
       "      <td>1000.000000</td>\n",
       "      <td>NaN</td>\n",
       "      <td>0.000000</td>\n",
       "      <td>NaN</td>\n",
       "      <td>NaN</td>\n",
       "      <td>0.000000</td>\n",
       "      <td>NaN</td>\n",
       "      <td>NaN</td>\n",
       "      <td>NaN</td>\n",
       "      <td>NaN</td>\n",
       "      <td>0.0</td>\n",
       "      <td>1067.000000</td>\n",
       "      <td>NaN</td>\n",
       "    </tr>\n",
       "    <tr>\n",
       "      <th>25%</th>\n",
       "      <td>NaN</td>\n",
       "      <td>NaN</td>\n",
       "      <td>NaN</td>\n",
       "      <td>NaN</td>\n",
       "      <td>NaN</td>\n",
       "      <td>NaN</td>\n",
       "      <td>NaN</td>\n",
       "      <td>1999.000000</td>\n",
       "      <td>NaN</td>\n",
       "      <td>70.000000</td>\n",
       "      <td>NaN</td>\n",
       "      <td>NaN</td>\n",
       "      <td>3.000000</td>\n",
       "      <td>NaN</td>\n",
       "      <td>NaN</td>\n",
       "      <td>NaN</td>\n",
       "      <td>NaN</td>\n",
       "      <td>0.0</td>\n",
       "      <td>30451.000000</td>\n",
       "      <td>NaN</td>\n",
       "    </tr>\n",
       "    <tr>\n",
       "      <th>50%</th>\n",
       "      <td>NaN</td>\n",
       "      <td>NaN</td>\n",
       "      <td>NaN</td>\n",
       "      <td>NaN</td>\n",
       "      <td>NaN</td>\n",
       "      <td>NaN</td>\n",
       "      <td>NaN</td>\n",
       "      <td>2003.000000</td>\n",
       "      <td>NaN</td>\n",
       "      <td>105.000000</td>\n",
       "      <td>NaN</td>\n",
       "      <td>NaN</td>\n",
       "      <td>6.000000</td>\n",
       "      <td>NaN</td>\n",
       "      <td>NaN</td>\n",
       "      <td>NaN</td>\n",
       "      <td>NaN</td>\n",
       "      <td>0.0</td>\n",
       "      <td>49577.000000</td>\n",
       "      <td>NaN</td>\n",
       "    </tr>\n",
       "    <tr>\n",
       "      <th>75%</th>\n",
       "      <td>NaN</td>\n",
       "      <td>NaN</td>\n",
       "      <td>NaN</td>\n",
       "      <td>NaN</td>\n",
       "      <td>NaN</td>\n",
       "      <td>NaN</td>\n",
       "      <td>NaN</td>\n",
       "      <td>2008.000000</td>\n",
       "      <td>NaN</td>\n",
       "      <td>150.000000</td>\n",
       "      <td>NaN</td>\n",
       "      <td>NaN</td>\n",
       "      <td>9.000000</td>\n",
       "      <td>NaN</td>\n",
       "      <td>NaN</td>\n",
       "      <td>NaN</td>\n",
       "      <td>NaN</td>\n",
       "      <td>0.0</td>\n",
       "      <td>71540.000000</td>\n",
       "      <td>NaN</td>\n",
       "    </tr>\n",
       "    <tr>\n",
       "      <th>max</th>\n",
       "      <td>NaN</td>\n",
       "      <td>NaN</td>\n",
       "      <td>NaN</td>\n",
       "      <td>NaN</td>\n",
       "      <td>NaN</td>\n",
       "      <td>NaN</td>\n",
       "      <td>NaN</td>\n",
       "      <td>9999.000000</td>\n",
       "      <td>NaN</td>\n",
       "      <td>17700.000000</td>\n",
       "      <td>NaN</td>\n",
       "      <td>NaN</td>\n",
       "      <td>12.000000</td>\n",
       "      <td>NaN</td>\n",
       "      <td>NaN</td>\n",
       "      <td>NaN</td>\n",
       "      <td>NaN</td>\n",
       "      <td>0.0</td>\n",
       "      <td>99998.000000</td>\n",
       "      <td>NaN</td>\n",
       "    </tr>\n",
       "  </tbody>\n",
       "</table>\n",
       "</div>"
      ],
      "text/plain": [
       "               date_crawled         name  seller offer_type  price ab_test  \\\n",
       "count                 50000        50000   50000      50000  50000   50000   \n",
       "unique                48213        38754       2          2   2357       2   \n",
       "top     2016-03-16 21:50:53  Ford_Fiesta  privat    Angebot     $0    test   \n",
       "freq                      3           78   49999      49999   1421   25756   \n",
       "mean                    NaN          NaN     NaN        NaN    NaN     NaN   \n",
       "std                     NaN          NaN     NaN        NaN    NaN     NaN   \n",
       "min                     NaN          NaN     NaN        NaN    NaN     NaN   \n",
       "25%                     NaN          NaN     NaN        NaN    NaN     NaN   \n",
       "50%                     NaN          NaN     NaN        NaN    NaN     NaN   \n",
       "75%                     NaN          NaN     NaN        NaN    NaN     NaN   \n",
       "max                     NaN          NaN     NaN        NaN    NaN     NaN   \n",
       "\n",
       "       vehicle_type  registration_year gear_box       powerPS  model  \\\n",
       "count         44905       50000.000000    47320  50000.000000  47242   \n",
       "unique            8                NaN        2           NaN    245   \n",
       "top       limousine                NaN  manuell           NaN   golf   \n",
       "freq          12859                NaN    36993           NaN   4024   \n",
       "mean            NaN        2005.073280      NaN    116.355920    NaN   \n",
       "std             NaN         105.712813      NaN    209.216627    NaN   \n",
       "min             NaN        1000.000000      NaN      0.000000    NaN   \n",
       "25%             NaN        1999.000000      NaN     70.000000    NaN   \n",
       "50%             NaN        2003.000000      NaN    105.000000    NaN   \n",
       "75%             NaN        2008.000000      NaN    150.000000    NaN   \n",
       "max             NaN        9999.000000      NaN  17700.000000    NaN   \n",
       "\n",
       "         odometer  registration_month fuel_type       brand unrepaired_damage  \\\n",
       "count       50000        50000.000000     45518       50000             40171   \n",
       "unique         13                 NaN         7          40                 2   \n",
       "top     150,000km                 NaN    benzin  volkswagen              nein   \n",
       "freq        32424                 NaN     30107       10687             35232   \n",
       "mean          NaN            5.723360       NaN         NaN               NaN   \n",
       "std           NaN            3.711984       NaN         NaN               NaN   \n",
       "min           NaN            0.000000       NaN         NaN               NaN   \n",
       "25%           NaN            3.000000       NaN         NaN               NaN   \n",
       "50%           NaN            6.000000       NaN         NaN               NaN   \n",
       "75%           NaN            9.000000       NaN         NaN               NaN   \n",
       "max           NaN           12.000000       NaN         NaN               NaN   \n",
       "\n",
       "                 ad_created  num_pictures   postal_code            last_seen  \n",
       "count                 50000       50000.0  50000.000000                50000  \n",
       "unique                   76           NaN           NaN                39481  \n",
       "top     2016-04-03 00:00:00           NaN           NaN  2016-04-07 06:17:27  \n",
       "freq                   1946           NaN           NaN                    8  \n",
       "mean                    NaN           0.0  50813.627300                  NaN  \n",
       "std                     NaN           0.0  25779.747957                  NaN  \n",
       "min                     NaN           0.0   1067.000000                  NaN  \n",
       "25%                     NaN           0.0  30451.000000                  NaN  \n",
       "50%                     NaN           0.0  49577.000000                  NaN  \n",
       "75%                     NaN           0.0  71540.000000                  NaN  \n",
       "max                     NaN           0.0  99998.000000                  NaN  "
      ]
     },
     "execution_count": 3,
     "metadata": {},
     "output_type": "execute_result"
    }
   ],
   "source": [
    "autos.describe(include='all')"
   ]
  },
  {
   "cell_type": "markdown",
   "metadata": {},
   "source": [
    "- **price** and **odometer** columns are numeric values stored as text\n",
    "- **seller**, **offer_type**, **ab_test**, **gear_box** and **unrepared_damage** have only 2 unique values and would need to be investigated further to determine if they contribute to the data analysis.\n",
    "- **num_pictures** contains all non-num data without any other data description available. It will therefore have to be investigated further."
   ]
  },
  {
   "cell_type": "code",
   "execution_count": 4,
   "metadata": {},
   "outputs": [
    {
     "name": "stdout",
     "output_type": "stream",
     "text": [
      "privat        49999\n",
      "gewerblich        1\n",
      "Name: seller, dtype: int64\n",
      "\n",
      "\n",
      "Angebot    49999\n",
      "Gesuch         1\n",
      "Name: offer_type, dtype: int64\n",
      "\n",
      "\n",
      "test       25756\n",
      "control    24244\n",
      "Name: ab_test, dtype: int64\n",
      "\n",
      "\n",
      "manuell      36993\n",
      "automatik    10327\n",
      "Name: gear_box, dtype: int64\n",
      "\n",
      "\n",
      "nein    35232\n",
      "ja       4939\n",
      "Name: unrepaired_damage, dtype: int64\n",
      "\n",
      "\n",
      "0    0\n",
      "1    0\n",
      "2    0\n",
      "3    0\n",
      "4    0\n",
      "Name: num_pictures, dtype: int64\n",
      "0    50000\n",
      "Name: num_pictures, dtype: int64\n"
     ]
    }
   ],
   "source": [
    "for car in ['seller', 'offer_type', 'ab_test', 'gear_box', 'unrepaired_damage']:\n",
    "    print(autos[car].value_counts())\n",
    "    print('\\n')\n",
    "    \n",
    "print(autos['num_pictures'].head(5))\n",
    "print(autos['num_pictures'].value_counts())"
   ]
  },
  {
   "cell_type": "markdown",
   "metadata": {},
   "source": [
    "For the **seller**, **offer_type**, only one entry varies from the rest (1/50,000), suggesting that this data point does not add much varying and therefore, situanally relevant information. \n",
    "\n",
    "Privat means 'private' and gewerblick means 'public'. Implying that almost all the entries in the dataset were from private sellers.\n",
    "\n",
    "Angebot stands for 'offer', while gesuch stands for 'request'. Implying that almost all entries are sales from offers rather than requests.\n",
    "\n",
    "**num_pictures** is an empty column.\n",
    "\n",
    "These columns will therefore be removed."
   ]
  },
  {
   "cell_type": "code",
   "execution_count": 5,
   "metadata": {},
   "outputs": [
    {
     "data": {
      "text/plain": [
       "(50000, 17)"
      ]
     },
     "execution_count": 5,
     "metadata": {},
     "output_type": "execute_result"
    }
   ],
   "source": [
    "rem_columns = ['seller', 'offer_type', 'num_pictures']\n",
    "\n",
    "autos.drop(rem_columns, axis=1, inplace=True)\n",
    "autos.shape"
   ]
  },
  {
   "cell_type": "markdown",
   "metadata": {},
   "source": [
    "### Converting columns to numeric dtype\n",
    "\n",
    "Non-numeric characters are removed from the **price** and **odometer** columns to convert them to numeric dtype."
   ]
  },
  {
   "cell_type": "code",
   "execution_count": 6,
   "metadata": {
    "scrolled": false
   },
   "outputs": [],
   "source": [
    "autos['price']= autos['price'].str.replace(\"$\",\"\").str.replace(\",\",\"\").astype(int)\n",
    "autos['odometer']=autos['odometer'].str.replace('km','').str.replace(\",\",\"\").astype(int)\n",
    "autos.rename({'odometer':'odometer_km', 'price':'price_usd'}, axis=1, inplace=True)"
   ]
  },
  {
   "cell_type": "markdown",
   "metadata": {},
   "source": [
    "### Identifying outliers and removing them\n",
    "To identify outliers in these columns, they are studied further."
   ]
  },
  {
   "cell_type": "code",
   "execution_count": 7,
   "metadata": {
    "scrolled": true
   },
   "outputs": [
    {
     "name": "stdout",
     "output_type": "stream",
     "text": [
      "          price_usd    odometer_km\n",
      "count  5.000000e+04   50000.000000\n",
      "mean   9.840044e+03  125732.700000\n",
      "std    4.811044e+05   40042.211706\n",
      "min    0.000000e+00    5000.000000\n",
      "25%    1.100000e+03  125000.000000\n",
      "50%    2.950000e+03  150000.000000\n",
      "75%    7.200000e+03  150000.000000\n",
      "max    1.000000e+08  150000.000000\n",
      "\n",
      "\n",
      "0        1421\n",
      "500       781\n",
      "1500      734\n",
      "2500      643\n",
      "1000      639\n",
      "         ... \n",
      "20790       1\n",
      "8970        1\n",
      "846         1\n",
      "2895        1\n",
      "33980       1\n",
      "Name: price_usd, Length: 2357, dtype: int64\n",
      "\n",
      "\n",
      "150000    32424\n",
      "125000     5170\n",
      "100000     2169\n",
      "90000      1757\n",
      "80000      1436\n",
      "70000      1230\n",
      "60000      1164\n",
      "50000      1027\n",
      "5000        967\n",
      "40000       819\n",
      "30000       789\n",
      "20000       784\n",
      "10000       264\n",
      "Name: odometer_km, dtype: int64\n"
     ]
    }
   ],
   "source": [
    "print(autos[['price_usd','odometer_km']].describe())\n",
    "\n",
    "print('\\n')\n",
    "print(autos['price_usd'].value_counts())\n",
    "print('\\n')\n",
    "print(autos['odometer_km'].value_counts())"
   ]
  },
  {
   "cell_type": "markdown",
   "metadata": {},
   "source": [
    "For the price column, the minimum price of 0 suggests a car was given for free and might skew the data unneccesarily. However this might not be as because only 1421(3%) entries were for USD 0. \n",
    "The maximum price is USD 100,000,000  which is significantly higher than even the 75th percentile which is 7,200USD. \n",
    "The standard deviation is also quite high and raises concern. The data may need to be stripped by price outliers. \n",
    "\n",
    "\n",
    "\n",
    "For the odometer readings, the 25th & 75th percentile and maximum are all the same: 150,000km. This makes sense as value_counts shows that 64.8% of the entries have that reading. This might be the maximum odometer reading accepted for this classifieds section."
   ]
  },
  {
   "cell_type": "markdown",
   "metadata": {},
   "source": [
    "#### Removing price outliers\n",
    "A lower limit for removing the price outliers could be 1 to remove no-cost (USD 0) entries. An upper limit is determined using an interquatile range of 25-75%. "
   ]
  },
  {
   "cell_type": "code",
   "execution_count": 8,
   "metadata": {},
   "outputs": [
    {
     "name": "stdout",
     "output_type": "stream",
     "text": [
      "count    44795.000000\n",
      "mean      4089.433620\n",
      "std       3841.429247\n",
      "min          1.000000\n",
      "25%       1150.000000\n",
      "50%       2700.000000\n",
      "75%       5999.000000\n",
      "max      16350.000000\n",
      "Name: price_usd, dtype: float64\n",
      "\n",
      "\n",
      "Removed entries: 5205\n"
     ]
    }
   ],
   "source": [
    "price_25, price_75 = (1100, 7200) # 25th and 75th percentiles\n",
    "\n",
    "IQR = price_75 - price_25 # the interquartile range\n",
    "upper_limit = price_75 + (1.5*IQR) # given by the IQR rule\n",
    "\n",
    "autos = autos[autos['price_usd'].between(1, upper_limit)]\n",
    "\n",
    "print(autos['price_usd'].describe())\n",
    "print('\\n')\n",
    "print('Removed entries:', 50000 - autos.shape[0])"
   ]
  },
  {
   "cell_type": "markdown",
   "metadata": {},
   "source": [
    "It should be noted that the number of entries reduced by 5205. \n",
    "\n",
    "The variation of the dataset has also significantly improved as the standard deviation has reduced from USD 480,000 to 3800. Also the difference between the 75th percentile and max value is more proportionate to the difference between the other percentiles, unlike before."
   ]
  },
  {
   "cell_type": "markdown",
   "metadata": {},
   "source": [
    "### Cleaning the date columns\n",
    "\n",
    "There are 5 columns that should represent date values. Some of these columns were created by the crawler, some came from the website itself. We can differentiate by referring to the data dictionary:\n",
    "\n",
    "\n",
    "- `date_crawled`: added by the crawler\n",
    "- `last_seen`: added by the crawler\n",
    "- `ad_created`: from the website\n",
    "- `registration_month`: from the website\n",
    "- `registration_year`: from the website"
   ]
  },
  {
   "cell_type": "code",
   "execution_count": 9,
   "metadata": {
    "scrolled": false
   },
   "outputs": [
    {
     "name": "stdout",
     "output_type": "stream",
     "text": [
      "          date_crawled           ad_created            last_seen\n",
      "0  2016-03-26 17:47:46  2016-03-26 00:00:00  2016-04-06 06:45:54\n",
      "1  2016-04-04 13:38:56  2016-04-04 00:00:00  2016-04-06 14:45:08\n",
      "2  2016-03-26 18:57:24  2016-03-26 00:00:00  2016-04-06 20:15:37\n",
      "3  2016-03-12 16:58:10  2016-03-12 00:00:00  2016-03-15 03:16:28\n",
      "4  2016-04-01 14:38:50  2016-04-01 00:00:00  2016-04-01 14:38:50\n"
     ]
    },
    {
     "data": {
      "text/html": [
       "<div>\n",
       "<style scoped>\n",
       "    .dataframe tbody tr th:only-of-type {\n",
       "        vertical-align: middle;\n",
       "    }\n",
       "\n",
       "    .dataframe tbody tr th {\n",
       "        vertical-align: top;\n",
       "    }\n",
       "\n",
       "    .dataframe thead th {\n",
       "        text-align: right;\n",
       "    }\n",
       "</style>\n",
       "<table border=\"1\" class=\"dataframe\">\n",
       "  <thead>\n",
       "    <tr style=\"text-align: right;\">\n",
       "      <th></th>\n",
       "      <th>date_crawled</th>\n",
       "      <th>ad_created</th>\n",
       "      <th>last_seen</th>\n",
       "    </tr>\n",
       "  </thead>\n",
       "  <tbody>\n",
       "    <tr>\n",
       "      <th>count</th>\n",
       "      <td>44795</td>\n",
       "      <td>44795</td>\n",
       "      <td>44795</td>\n",
       "    </tr>\n",
       "    <tr>\n",
       "      <th>unique</th>\n",
       "      <td>43358</td>\n",
       "      <td>73</td>\n",
       "      <td>36473</td>\n",
       "    </tr>\n",
       "    <tr>\n",
       "      <th>top</th>\n",
       "      <td>2016-03-08 10:40:35</td>\n",
       "      <td>2016-04-03 00:00:00</td>\n",
       "      <td>2016-04-07 06:17:27</td>\n",
       "    </tr>\n",
       "    <tr>\n",
       "      <th>freq</th>\n",
       "      <td>3</td>\n",
       "      <td>1738</td>\n",
       "      <td>8</td>\n",
       "    </tr>\n",
       "  </tbody>\n",
       "</table>\n",
       "</div>"
      ],
      "text/plain": [
       "               date_crawled           ad_created            last_seen\n",
       "count                 44795                44795                44795\n",
       "unique                43358                   73                36473\n",
       "top     2016-03-08 10:40:35  2016-04-03 00:00:00  2016-04-07 06:17:27\n",
       "freq                      3                 1738                    8"
      ]
     },
     "execution_count": 9,
     "metadata": {},
     "output_type": "execute_result"
    }
   ],
   "source": [
    "print(autos[['date_crawled','ad_created','last_seen']][0:5])\n",
    "autos[['date_crawled','ad_created','last_seen']].describe()"
   ]
  },
  {
   "cell_type": "markdown",
   "metadata": {},
   "source": [
    "It is noticed that the first 10 characters represent the day. To understand the date range, the date values can be extracted."
   ]
  },
  {
   "cell_type": "code",
   "execution_count": 10,
   "metadata": {
    "scrolled": true
   },
   "outputs": [
    {
     "name": "stdout",
     "output_type": "stream",
     "text": [
      "unique dates per column \n",
      "\n",
      "date_crawled : 34\n",
      "ad_created : 73\n",
      "last_seen : 34\n"
     ]
    }
   ],
   "source": [
    "print('unique dates per column \\n')\n",
    "for column in ['date_crawled','ad_created','last_seen']:\n",
    "    print(column,':', autos[column].str[:10].unique().size)\n",
    "    "
   ]
  },
  {
   "cell_type": "markdown",
   "metadata": {},
   "source": [
    "This narrows down the date range significantly and the date range for each column can be studied."
   ]
  },
  {
   "cell_type": "markdown",
   "metadata": {},
   "source": [
    "#### Date Crawled\n",
    "\n",
    "First we observe the counts of the individual dates to see the crawls per day from 2016-03-05 to 2016-04-07."
   ]
  },
  {
   "cell_type": "code",
   "execution_count": 11,
   "metadata": {
    "scrolled": true
   },
   "outputs": [
    {
     "data": {
      "text/plain": [
       "2016-03-05    1143\n",
       "2016-03-06     627\n",
       "2016-03-07    1617\n",
       "2016-03-08    1507\n",
       "2016-03-09    1484\n",
       "2016-03-10    1465\n",
       "2016-03-11    1455\n",
       "2016-03-12    1675\n",
       "2016-03-13     699\n",
       "2016-03-14    1657\n",
       "2016-03-15    1531\n",
       "2016-03-16    1342\n",
       "2016-03-17    1433\n",
       "2016-03-18     572\n",
       "2016-03-19    1532\n",
       "2016-03-20    1689\n",
       "2016-03-21    1666\n",
       "2016-03-22    1466\n",
       "2016-03-23    1455\n",
       "2016-03-24    1316\n",
       "2016-03-25    1434\n",
       "2016-03-26    1460\n",
       "2016-03-27    1376\n",
       "2016-03-28    1558\n",
       "2016-03-29    1532\n",
       "2016-03-30    1517\n",
       "2016-03-31    1415\n",
       "2016-04-01    1469\n",
       "2016-04-02    1567\n",
       "2016-04-03    1726\n",
       "2016-04-04    1629\n",
       "2016-04-05     580\n",
       "2016-04-06     142\n",
       "2016-04-07      59\n",
       "Name: date_crawled, dtype: int64"
      ]
     },
     "execution_count": 11,
     "metadata": {},
     "output_type": "execute_result"
    }
   ],
   "source": [
    "autos['date_crawled'].str[:10].value_counts().sort_index()"
   ]
  },
  {
   "cell_type": "markdown",
   "metadata": {},
   "source": [
    "This data can be better represeneted and appreciated visualised in a time line plot."
   ]
  },
  {
   "cell_type": "code",
   "execution_count": 43,
   "metadata": {},
   "outputs": [
    {
     "data": {
      "text/plain": [
       "Text(0.5, 1.0, 'Date Distribution of Car Ads Crawled')"
      ]
     },
     "execution_count": 43,
     "metadata": {},
     "output_type": "execute_result"
    },
    {
     "data": {
      "image/png": "[encoded data removed]",
      "text/plain": [
       "<Figure size 600x400 with 1 Axes>"
      ]
     },
     "metadata": {},
     "output_type": "display_data"
    }
   ],
   "source": [
    "%matplotlib inline\n",
    "import matplotlib.pyplot as plt\n",
    "\n",
    "date_crawled = (autos['date_crawled']\n",
    "                     .str[:10]\n",
    "                     .value_counts(normalize=True, dropna=False)\n",
    "                     .round(3)\n",
    "                     .sort_index()\n",
    "                )\n",
    "    \n",
    "fig = plt.figure()\n",
    "ax = fig.add_subplot()\n",
    "ax.plot(date_crawled.index, date_crawled.values)\n",
    "# ax.xaxis.set_major_locator(plt.MaxNLocator(7))\n",
    "plt.xticks(rotation=90)\n",
    "ax.set_ylabel(\"Car Ads Crawled \\(%\\)\")\n",
    "ax.set_title(\"Date Distribution of Car Ads Crawled\")"
   ]
  },
  {
   "cell_type": "markdown",
   "metadata": {},
   "source": [
    "The trend of ad crawling for the approximate two month period is observed to be steady between 0.03 and 0.035% representing roughly 1100-1300 ads per day during the week and marked with sharp drops at interval weekends."
   ]
  },
  {
   "cell_type": "markdown",
   "metadata": {},
   "source": [
    "#### Ad created\n",
    "\n",
    "Again, we observe the counts of the individual dates to see the number of ads created per day as a percentage of the total."
   ]
  },
  {
   "cell_type": "code",
   "execution_count": 47,
   "metadata": {},
   "outputs": [
    {
     "data": {
      "text/plain": [
       "Text(0.5, 1.0, 'Date Distribution of Car Ads Created')"
      ]
     },
     "execution_count": 47,
     "metadata": {},
     "output_type": "execute_result"
    },
    {
     "data": {
      "image/png": "[encoded data removed]",
      "text/plain": [
       "<Figure size 600x400 with 1 Axes>"
      ]
     },
     "metadata": {},
     "output_type": "display_data"
    }
   ],
   "source": [
    "%matplotlib inline\n",
    "\n",
    "ad_created = (autos['ad_created']\n",
    "                     .str[:10]\n",
    "                     .value_counts(normalize=True, dropna=False)\n",
    "                     .round(3)\n",
    "                     .sort_index()\n",
    "                )\n",
    "    \n",
    "fig = plt.figure()\n",
    "ax = fig.add_subplot()\n",
    "ax.plot(ad_created.index, ad_created.values)\n",
    "ax.xaxis.set_major_locator(plt.MaxNLocator(20))\n",
    "plt.xticks(rotation=90)\n",
    "ax.set_ylabel(\"Car Ads Created \\(%\\)\")\n",
    "ax.set_title(\"Date Distribution of Car Ads Created\")"
   ]
  },
  {
   "cell_type": "markdown",
   "metadata": {},
   "source": [
    "The ad creation timeline is seen to start and end in August 10 2015, and April 7, 2016 respectively. The listings were relatively sparse until a noticable spike in March 5 2016 (my birthday, yay!). Exoectedly, the ad creation spike date coincides with the date the first group of ads from the website were crawled.\n"
   ]
  },
  {
   "cell_type": "code",
   "execution_count": 49,
   "metadata": {
    "scrolled": false
   },
   "outputs": [
    {
     "data": {
      "text/plain": [
       "Text(0.5, 1.0, 'Date Distribution of Car Ads Crawled')"
      ]
     },
     "execution_count": 49,
     "metadata": {},
     "output_type": "execute_result"
    },
    {
     "data": {
      "image/png": "[encoded data removed]",
      "text/plain": [
       "<Figure size 600x400 with 1 Axes>"
      ]
     },
     "metadata": {},
     "output_type": "display_data"
    }
   ],
   "source": [
    "%matplotlib inline\n",
    "\n",
    "last_seen = (autos['last_seen']\n",
    "                     .str[:10]\n",
    "                     .value_counts(normalize=True, dropna=False)\n",
    "                     .round(3)\n",
    "                     .sort_index()\n",
    "                )\n",
    "    \n",
    "fig = plt.figure()\n",
    "ax = fig.add_subplot()\n",
    "ax.plot(last_seen.index, last_seen.values)\n",
    "ax.xaxis.set_major_locator(plt.MaxNLocator(20))\n",
    "plt.xticks(rotation=90)\n",
    "ax.set_ylabel(\"Car Ads Crawled \\(%\\)\")\n",
    "ax.set_title(\"Date Distribution of Car Ads Crawled\")"
   ]
  },
  {
   "cell_type": "markdown",
   "metadata": {},
   "source": [
    "The number of last seen ads were relatively uniform throughout the crawling period. However, it appears that the crawler noticed an increase in ad disappearances in the last days of the cycle from April 5 - April 7, 2016.\n",
    "This may be an indicator of the crawlers activity rather than the ads themselves a conclusion cannot be drawn from this."
   ]
  },
  {
   "cell_type": "markdown",
   "metadata": {},
   "source": [
    "#### Registration Month and Year"
   ]
  },
  {
   "cell_type": "code",
   "execution_count": 51,
   "metadata": {
    "scrolled": true
   },
   "outputs": [
    {
     "data": {
      "text/html": [
       "<div>\n",
       "<style scoped>\n",
       "    .dataframe tbody tr th:only-of-type {\n",
       "        vertical-align: middle;\n",
       "    }\n",
       "\n",
       "    .dataframe tbody tr th {\n",
       "        vertical-align: top;\n",
       "    }\n",
       "\n",
       "    .dataframe thead th {\n",
       "        text-align: right;\n",
       "    }\n",
       "</style>\n",
       "<table border=\"1\" class=\"dataframe\">\n",
       "  <thead>\n",
       "    <tr style=\"text-align: right;\">\n",
       "      <th></th>\n",
       "      <th>registration_month</th>\n",
       "      <th>registration_year</th>\n",
       "    </tr>\n",
       "  </thead>\n",
       "  <tbody>\n",
       "    <tr>\n",
       "      <th>count</th>\n",
       "      <td>44795.000000</td>\n",
       "      <td>44795.00000</td>\n",
       "    </tr>\n",
       "    <tr>\n",
       "      <th>mean</th>\n",
       "      <td>5.744012</td>\n",
       "      <td>2003.97339</td>\n",
       "    </tr>\n",
       "    <tr>\n",
       "      <th>std</th>\n",
       "      <td>3.707064</td>\n",
       "      <td>74.81955</td>\n",
       "    </tr>\n",
       "    <tr>\n",
       "      <th>min</th>\n",
       "      <td>0.000000</td>\n",
       "      <td>1000.00000</td>\n",
       "    </tr>\n",
       "    <tr>\n",
       "      <th>25%</th>\n",
       "      <td>3.000000</td>\n",
       "      <td>1999.00000</td>\n",
       "    </tr>\n",
       "    <tr>\n",
       "      <th>50%</th>\n",
       "      <td>6.000000</td>\n",
       "      <td>2003.00000</td>\n",
       "    </tr>\n",
       "    <tr>\n",
       "      <th>75%</th>\n",
       "      <td>9.000000</td>\n",
       "      <td>2007.00000</td>\n",
       "    </tr>\n",
       "    <tr>\n",
       "      <th>max</th>\n",
       "      <td>12.000000</td>\n",
       "      <td>9999.00000</td>\n",
       "    </tr>\n",
       "  </tbody>\n",
       "</table>\n",
       "</div>"
      ],
      "text/plain": [
       "       registration_month  registration_year\n",
       "count        44795.000000        44795.00000\n",
       "mean             5.744012         2003.97339\n",
       "std              3.707064           74.81955\n",
       "min              0.000000         1000.00000\n",
       "25%              3.000000         1999.00000\n",
       "50%              6.000000         2003.00000\n",
       "75%              9.000000         2007.00000\n",
       "max             12.000000         9999.00000"
      ]
     },
     "execution_count": 51,
     "metadata": {},
     "output_type": "execute_result"
    }
   ],
   "source": [
    "autos[['registration_month', 'registration_year']].describe()"
   ]
  },
  {
   "cell_type": "markdown",
   "metadata": {},
   "source": [
    "The minimum value is 1000 and then maximum value is 9999 which are both impossible. You really shouldn't ask why. A more realistic timeline would be the invention year of the mordern car and the year the ads were crawled which are 1945 to 2016 respectively."
   ]
  },
  {
   "cell_type": "code",
   "execution_count": 58,
   "metadata": {},
   "outputs": [
    {
     "data": {
      "text/plain": [
       "4.0"
      ]
     },
     "execution_count": 58,
     "metadata": {},
     "output_type": "execute_result"
    }
   ],
   "source": [
    "impossible_years = (~(autos['registration_year'].between(1945,2016))).sum()\n",
    "\n",
    "round(100*(impossible_years/len(autos)))"
   ]
  },
  {
   "cell_type": "markdown",
   "metadata": {},
   "source": [
    "Since this is only 4% of the data, their removal is safe. We can then visualise the valid registration dates."
   ]
  },
  {
   "cell_type": "code",
   "execution_count": 59,
   "metadata": {},
   "outputs": [],
   "source": [
    "autos = autos[autos['registration_year'].between(1945,2016)]"
   ]
  },
  {
   "cell_type": "code",
   "execution_count": 126,
   "metadata": {},
   "outputs": [
    {
     "data": {
      "image/png": "[encoded data removed]",
      "text/plain": [
       "<Figure size 600x400 with 1 Axes>"
      ]
     },
     "metadata": {},
     "output_type": "display_data"
    }
   ],
   "source": [
    "%matplotlib inline\n",
    "\n",
    "registration_year = (autos['registration_year']\n",
    "                     .value_counts(normalize=True, dropna=False)\n",
    "                     .sort_index()\n",
    "                )\n",
    "    \n",
    "fig = plt.figure()\n",
    "ax = fig.add_subplot()\n",
    "ax.plot(registration_year.index, registration_year.values)\n",
    "ax.xaxis.set_major_locator(plt.MaxNLocator(20))\n",
    "plt.xticks(rotation=90)\n",
    "ax.set_ylabel(\"Number of Cars \\(%\\)\")\n",
    "ax.set_title(\"Registration Dates of Cars\")\n",
    "ax.grid()"
   ]
  },
  {
   "cell_type": "markdown",
   "metadata": {},
   "source": [
    "Very few of the cars were registered before 1990 and most of them were registered in the early 2000s (2000-2006). This suggests that the cars are not too old."
   ]
  },
  {
   "cell_type": "markdown",
   "metadata": {},
   "source": [
    "#### Car brand names\n",
    "\n",
    " When working with data on cars, it's natural to explore variations across different car brands. "
   ]
  },
  {
   "cell_type": "code",
   "execution_count": 68,
   "metadata": {},
   "outputs": [
    {
     "data": {
      "text/plain": [
       "volkswagen        0.214828\n",
       "opel              0.115168\n",
       "bmw               0.103549\n",
       "mercedes_benz     0.088134\n",
       "audi              0.077586\n",
       "ford              0.073092\n",
       "renault           0.050761\n",
       "peugeot           0.032180\n",
       "fiat              0.027756\n",
       "seat              0.019094\n",
       "skoda             0.016998\n",
       "mazda             0.016090\n",
       "nissan            0.015787\n",
       "smart             0.015368\n",
       "citroen           0.015042\n",
       "toyota            0.013366\n",
       "hyundai           0.010548\n",
       "volvo             0.009337\n",
       "mitsubishi        0.008709\n",
       "sonstige_autos    0.008383\n",
       "Name: brand, dtype: float64"
      ]
     },
     "execution_count": 68,
     "metadata": {},
     "output_type": "execute_result"
    }
   ],
   "source": [
    "autos['brand'].value_counts(normalize=True).sort_values(ascending=False).head(20)"
   ]
  },
  {
   "cell_type": "code",
   "execution_count": 71,
   "metadata": {},
   "outputs": [
    {
     "data": {
      "text/plain": [
       "0.599265"
      ]
     },
     "execution_count": 71,
     "metadata": {},
     "output_type": "execute_result"
    }
   ],
   "source": [
    "0.214828+0.115168+0.103549+0.088134+0.077586"
   ]
  },
  {
   "cell_type": "markdown",
   "metadata": {},
   "source": [
    "The most popular brands are Volkswagen (21%), Opel (about 12%), BMW (10%), Mercedes Benz (9%) and Audi (8%) which are German brands. They make up 59.9% of the data and can therefore be aggregated. \n",
    "\n",
    "Orrrr.. plot twist... we aggregate the others. Let's look at how the top 10 compare to the rest in terms of average prices."
   ]
  },
  {
   "cell_type": "code",
   "execution_count": 121,
   "metadata": {},
   "outputs": [
    {
     "data": {
      "text/plain": [
       "{'volkswagen': 4183.02,\n",
       " 'opel': 2713.86,\n",
       " 'bmw': 5647.89,\n",
       " 'mercedes_benz': 5260.0,\n",
       " 'audi': 5703.9,\n",
       " 'ford': 2943.51,\n",
       " 'renault': 2282.23,\n",
       " 'peugeot': 2967.95,\n",
       " 'fiat': 2740.82,\n",
       " 'seat': 3747.8}"
      ]
     },
     "execution_count": 121,
     "metadata": {},
     "output_type": "execute_result"
    }
   ],
   "source": [
    "german = (autos['brand'].value_counts().sort_values(ascending=False).head(10).index)\n",
    "\n",
    "mean_dict = {}\n",
    "\n",
    "for brand in german:\n",
    "    mean = autos['price_usd'][autos['brand']==brand].mean()\n",
    "    mean_dict[brand] = round(mean,2)\n",
    "\n",
    "mean_dict"
   ]
  },
  {
   "cell_type": "code",
   "execution_count": 122,
   "metadata": {},
   "outputs": [],
   "source": [
    "other_brands = autos['brand'].value_counts(normalize=True).sort_values(ascending=False).tail(30).index\n",
    "\n",
    "other_mean_dict = {}\n",
    "other_mean_list = []\n",
    "for brand in other_brands:\n",
    "    mean = autos['price_usd'][autos['brand']==brand].mean()\n",
    "    other_mean_dict[brand] = round(mean,2)\n",
    "    other_mean_list.append(mean)\n",
    "\n",
    "other_brands_mean = sum(other_mean_list)/len(other_mean_list)\n",
    "mean_dict['others'] = other_brands_mean"
   ]
  },
  {
   "cell_type": "code",
   "execution_count": 129,
   "metadata": {},
   "outputs": [
    {
     "data": {
      "text/plain": [
       "Text(0, 0.5, 'Mean Price (USD)')"
      ]
     },
     "execution_count": 129,
     "metadata": {},
     "output_type": "execute_result"
    },
    {
     "data": {
      "image/png": "[encoded data removed]",
      "text/plain": [
       "<Figure size 600x400 with 1 Axes>"
      ]
     },
     "metadata": {},
     "output_type": "display_data"
    }
   ],
   "source": [
    "%matplotlib inline\n",
    "\n",
    "mean_price_series = pd.Series(mean_dict)\n",
    "    \n",
    "fig = plt.figure()\n",
    "ax = fig.add_subplot()\n",
    "ax.bar(mean_price_series.index, mean_price_series.values)\n",
    "# ax.xaxis.set_major_locator(plt.MaxNLocator(20))\n",
    "plt.xticks(rotation=65)\n",
    "ax.set_ylabel(\"Mean Price (USD)\")\n",
    "# ax.set_title(\"Registration Dates of Cars\")\n",
    "# ax.grid()"
   ]
  },
  {
   "cell_type": "markdown",
   "metadata": {},
   "source": [
    "The german brands other than Opel (BMW, Mercedes Benz and Audi) are noticably more expensive than the other brands. This is interesting given they are also the most popular. Also, aren't german cars supposed to be cheaper than foreign ones when you're living in germany?"
   ]
  },
  {
   "cell_type": "markdown",
   "metadata": {},
   "source": [
    "#### Car Mileage Values\n",
    "\n",
    "It'll be interesting to see if there's any link with mean price and the car mileage. \n",
    "For the top 6 brands, aggregation  can be used to understand the average mileage for those cars. "
   ]
  },
  {
   "cell_type": "code",
   "execution_count": 138,
   "metadata": {},
   "outputs": [
    {
     "data": {
      "text/html": [
       "<div>\n",
       "<style scoped>\n",
       "    .dataframe tbody tr th:only-of-type {\n",
       "        vertical-align: middle;\n",
       "    }\n",
       "\n",
       "    .dataframe tbody tr th {\n",
       "        vertical-align: top;\n",
       "    }\n",
       "\n",
       "    .dataframe thead th {\n",
       "        text-align: right;\n",
       "    }\n",
       "</style>\n",
       "<table border=\"1\" class=\"dataframe\">\n",
       "  <thead>\n",
       "    <tr style=\"text-align: right;\">\n",
       "      <th></th>\n",
       "      <th>mean_mileage_km</th>\n",
       "      <th>mean_price_usd</th>\n",
       "    </tr>\n",
       "  </thead>\n",
       "  <tbody>\n",
       "    <tr>\n",
       "      <th>volkswagen</th>\n",
       "      <td>132813.25</td>\n",
       "      <td>4183.02</td>\n",
       "    </tr>\n",
       "    <tr>\n",
       "      <th>opel</th>\n",
       "      <td>130527.70</td>\n",
       "      <td>2713.86</td>\n",
       "    </tr>\n",
       "    <tr>\n",
       "      <th>bmw</th>\n",
       "      <td>138863.28</td>\n",
       "      <td>5647.89</td>\n",
       "    </tr>\n",
       "    <tr>\n",
       "      <th>mercedes_benz</th>\n",
       "      <td>138446.50</td>\n",
       "      <td>5260.00</td>\n",
       "    </tr>\n",
       "    <tr>\n",
       "      <th>audi</th>\n",
       "      <td>139701.38</td>\n",
       "      <td>5703.90</td>\n",
       "    </tr>\n",
       "    <tr>\n",
       "      <th>ford</th>\n",
       "      <td>127043.64</td>\n",
       "      <td>2943.51</td>\n",
       "    </tr>\n",
       "  </tbody>\n",
       "</table>\n",
       "</div>"
      ],
      "text/plain": [
       "               mean_mileage_km  mean_price_usd\n",
       "volkswagen           132813.25         4183.02\n",
       "opel                 130527.70         2713.86\n",
       "bmw                  138863.28         5647.89\n",
       "mercedes_benz        138446.50         5260.00\n",
       "audi                 139701.38         5703.90\n",
       "ford                 127043.64         2943.51"
      ]
     },
     "execution_count": 138,
     "metadata": {},
     "output_type": "execute_result"
    }
   ],
   "source": [
    "top_brands = autos['brand'].value_counts(normalize=True).sort_values(ascending=False).head(6).index\n",
    "\n",
    "mile_mean_dict = {}\n",
    "price_mean_dict = {}\n",
    "\n",
    "for brand in top_brands:\n",
    "    mean_price = autos['price_usd'][autos['brand']==brand].mean()\n",
    "    mean_mile = autos['odometer_km'][autos['brand']==brand].mean()\n",
    "    mile_mean_dict[brand] = round(mean_mile,2)\n",
    "    price_mean_dict[brand] = round(mean_price,2)\n",
    "\n",
    "\n",
    "\n",
    "mile_mean_series = pd.Series(mile_mean_dict)\n",
    "price_mean_series = pd.Series(price_mean_dict)\n",
    "\n",
    "new_df = pd.DataFrame(mile_mean_series, columns=['mean_mileage_km'])\n",
    "new_df['mean_price_usd'] = price_mean_series\n",
    "\n",
    "new_df"
   ]
  },
  {
   "cell_type": "code",
   "execution_count": 145,
   "metadata": {},
   "outputs": [
    {
     "data": {
      "text/plain": [
       "Text(0, 0.5, 'Mean Price (USD)')"
      ]
     },
     "execution_count": 145,
     "metadata": {},
     "output_type": "execute_result"
    },
    {
     "data": {
      "image/png": "[encoded data removed]",
      "text/plain": [
       "<Figure size 600x400 with 2 Axes>"
      ]
     },
     "metadata": {},
     "output_type": "display_data"
    }
   ],
   "source": [
    "%matplotlib inline\n",
    "    \n",
    "fig = plt.figure()\n",
    "ax = fig.add_subplot()\n",
    "ax2 = ax.twinx()\n",
    "\n",
    "width = 0.25\n",
    "\n",
    "new_df.mean_mileage_km.plot(kind='bar', color='red', ax=ax, width=width, position=1)\n",
    "new_df.mean_price_usd.plot(kind='bar', color='blue', ax=ax2, width=width, position=0)\n",
    "\n",
    "# ax.xaxis.set_major_locator(plt.MaxNLocator(20))\n",
    "plt.xticks(rotation=65)\n",
    "ax.set_ylabel(\"Mean Mileage (km)\")\n",
    "ax2.set_ylabel(\"Mean Price (USD)\")\n",
    "\n",
    "\n",
    "# ax.set_title(\"Registration Dates of Cars\")\n",
    "# ax.grid()"
   ]
  },
  {
   "cell_type": "markdown",
   "metadata": {},
   "source": [
    "The mileage of the cars do not vary significantly accross the brands. Increasing mileage is expected to be related lower pricing however this interdependency isn't observed. In this scenario, more costly cars have more mileage than cheaper ones. Volkswagen again has a slightly lower mileage and the balance between cost and mileage could be the reason for its high used car market share."
   ]
  },
  {
   "cell_type": "markdown",
   "metadata": {},
   "source": [
    "## Conclusion\n",
    "\n",
    "The analysis of eBay Kleinanzeigen's classifieds section mainly investigated the influence of price and mileage on a car's overall value indicated by its popularity. The most popular car brands on the website were also factored in. \n",
    "\n",
    "German brands were found to be the most popular, especially, Volkswagen cars. This popularity is tentatively attributed to a balance between popularity, mileage and price.\n",
    "\n",
    "Although expected to for most used car deals, milege and price did not have a definitve indirect proportionality relationship. This is a key finding that will be relevant to propective buyers from the site. "
   ]
  }
 ],
 "metadata": {
  "kernelspec": {
   "display_name": "Python 3",
   "language": "python",
   "name": "python3"
  },
  "language_info": {
   "codemirror_mode": {
    "name": "ipython",
    "version": 3
   },
   "file_extension": ".py",
   "mimetype": "text/x-python",
   "name": "python",
   "nbconvert_exporter": "python",
   "pygments_lexer": "ipython3",
   "version": "3.8.2"
  }
 },
 "nbformat": 4,
 "nbformat_minor": 2
}
