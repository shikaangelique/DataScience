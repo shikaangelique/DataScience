{
 "cells": [
  {
   "cell_type": "markdown",
   "source": [
    "Creating a database of all Cosmetic Dentists in the US from a [directory](https://cosmeticdentistdir.com/index.html) using **Selenium** to automate reaching the site and opening links repeatedly **BeautifulSoup** to extract desired details to fill dataset columns.\n",
    "\n",
    "The complexity of this web scraping project lies in the fact that each entry into the database is located about 2 sublinks deep in the main directory in an HTML structure that is not tagged or uniformly labelled."
   ],
   "metadata": {
    "collapsed": false
   }
  },
  {
   "cell_type": "markdown",
   "source": [
    "## Importing Relevant Libraries"
   ],
   "metadata": {
    "collapsed": false,
    "pycharm": {
     "name": "#%% md\n"
    }
   }
  },
  {
   "cell_type": "code",
   "execution_count": 13,
   "outputs": [],
   "source": [
    "import requests\n",
    "from bs4 import BeautifulSoup\n",
    "from selenium import webdriver\n",
    "import pandas as pd\n",
    "import re"
   ],
   "metadata": {
    "collapsed": false,
    "pycharm": {
     "name": "#%%\n"
    }
   }
  },
  {
   "cell_type": "markdown",
   "source": [],
   "metadata": {
    "collapsed": false
   }
  },
  {
   "cell_type": "markdown",
   "source": [
    "## Setting Up Selenium and BeautifulSoup\n",
    "\n",
    "Setting up Selenium to automate Google Chrome and open main URL and Beautiful Soup to create a parse tree and extract data from HTML structure of the web page."
   ],
   "metadata": {
    "collapsed": false
   }
  },
  {
   "cell_type": "code",
   "execution_count": 14,
   "outputs": [],
   "source": [
    "url = 'https://cosmeticdentistdir.com/index.html'\n",
    "\n",
    "# content = requests.get(url)\n",
    "# content.status_code\n",
    "# content.text\n",
    "# soup = BeautifulSoup(content.text, 'html.parser')"
   ],
   "metadata": {
    "collapsed": false,
    "pycharm": {
     "name": "#%%\n"
    }
   }
  },
  {
   "cell_type": "code",
   "execution_count": 15,
   "outputs": [
    {
     "name": "stderr",
     "output_type": "stream",
     "text": [
      "/var/folders/x7/jzsq9_p147140fb1mm83f8_c0000gn/T/ipykernel_52391/1788014163.py:4: DeprecationWarning: executable_path has been deprecated, please pass in a Service object\n",
      "  driver = webdriver.Chrome(ChromeDriverManager().install())\n"
     ]
    }
   ],
   "source": [
    "from webdriver_manager.chrome import ChromeDriverManager\n",
    "# driver = webdriver.Chrome(\"/usr/lib/chromium-browser/chromedriver\")\n",
    "# driver = webdriver.Chrome(ChromeDriverManager())\n",
    "driver = webdriver.Chrome(ChromeDriverManager().install())\n",
    "driver.get(url)\n",
    "content = driver.page_source\n",
    "soup = BeautifulSoup(content)\n",
    "# soup.prettify()"
   ],
   "metadata": {
    "collapsed": false,
    "pycharm": {
     "name": "#%%\n"
    }
   }
  },
  {
   "cell_type": "markdown",
   "source": [
    "## Setting Up Selenium and Beautiful Soup for Sublinks\n",
    "\n",
    "Each Cosmetic Dental in set up as a sublink at the main url. In the next blocks of code, Selenium automates Google Chrome to open up each sublink and BeautifulSoup creates a parse tree and extracts data from HTML structure of the web page."
   ],
   "metadata": {
    "collapsed": false
   }
  },
  {
   "cell_type": "code",
   "execution_count": 16,
   "outputs": [],
   "source": [
    "### extracting all sublinks from main URL and storing them in a txt file\n",
    "for a_href in soup.findAll('a', href=True):\n",
    "    with open(\"h_links.txt\", \"a\") as linkfile:\n",
    "            linkfile.write(a_href[\"href\"]+\"\\n\")"
   ],
   "metadata": {
    "collapsed": false,
    "pycharm": {
     "name": "#%%\n"
    }
   }
  },
  {
   "cell_type": "code",
   "execution_count": 17,
   "outputs": [],
   "source": [
    "hlinks = open('h_links.txt')\n",
    "hyplinks = hlinks.readlines()"
   ],
   "metadata": {
    "collapsed": false,
    "pycharm": {
     "name": "#%%\n"
    }
   }
  },
  {
   "cell_type": "code",
   "execution_count": 18,
   "outputs": [],
   "source": [
    "urlpart = 'https://cosmeticdentistdir.com/'\n",
    "full_link= urlpart+hyplinks[4].strip('\\n') ### full url for each sublink"
   ],
   "metadata": {
    "collapsed": false,
    "pycharm": {
     "name": "#%%\n"
    }
   }
  },
  {
   "cell_type": "code",
   "execution_count": 19,
   "outputs": [],
   "source": [
    "driver.get(full_link)\n",
    "contenteg = driver.page_source\n",
    "soupeg = BeautifulSoup(contenteg)\n",
    "# soupeg"
   ],
   "metadata": {
    "collapsed": false,
    "pycharm": {
     "name": "#%%\n"
    }
   }
  },
  {
   "cell_type": "markdown",
   "source": [
    "## Using regex to extract State, Phone Number and Location\n",
    " The code parses displayed text at the sublink and extracts the state, phone number and location of the cosmetic dental. String matching is the ideal choice here since these texts are not tagged in the HTML structure of the webpage.\n",
    "\n",
    "This is done for each sublink which corresponds to each Cosmetic Dental and extracts the information into a dataset called **dataframe**."
   ],
   "metadata": {
    "collapsed": false
   }
  },
  {
   "cell_type": "code",
   "execution_count": 20,
   "outputs": [],
   "source": [
    "pattern = '(?<=<h3><strong>)(.*)(?=</strong></h3>)'\n",
    "canadian_states = ['Alberta', 'British Columbia', 'Manitoba', 'New Brunswick', 'Newfoundland', 'Newfoundland and Labrador', 'Northwest Territories', 'Nova Scotia', 'Nunavut', 'Ontario', 'Prince Edward Island', 'Quebec', 'Saskatchewan', 'Yukon']\n",
    "zeebs = {}\n",
    "\n",
    "for a_href in soup.findAll('a', href=True):\n",
    "    hrefs = a_href[\"href\"]\n",
    "    state = a_href.findPrevious('h3')\n",
    "    state = re.findall(pattern, str(state))\n",
    "    # hrefs = a_href[\"href\"]\n",
    "    if len(state) > 0:\n",
    "        state = state[0]\n",
    "        if state not in canadian_states:\n",
    "            zeebs[hrefs] = state\n",
    "\n",
    "# zeebs"
   ],
   "metadata": {
    "collapsed": false,
    "pycharm": {
     "name": "#%%\n"
    }
   }
  },
  {
   "cell_type": "code",
   "execution_count": 21,
   "outputs": [],
   "source": [
    "format = '{}, {} \\n'\n",
    "with open(\"h_links_states.txt\", \"a\") as linkfile:\n",
    "    for link in zeebs:\n",
    "        linkfile.write(format.format(link, zeebs[link]))"
   ],
   "metadata": {
    "collapsed": false,
    "pycharm": {
     "name": "#%%\n"
    }
   }
  },
  {
   "cell_type": "code",
   "execution_count": 22,
   "outputs": [],
   "source": [
    "hlinks = open('h_links_states.txt')\n",
    "hyplinks = hlinks.readlines()\n",
    "main_dict = {}\n",
    "\n",
    "urlpart = 'https://cosmeticdentistdir.com/'\n",
    "\n",
    "pattern3 = '(?<=Phone : )(.*)(?=\\n)'\n",
    "pattern4 = '(?<=Location : )(.*)(?=\\n)'\n",
    "for x in range(len(hyplinks)):\n",
    "    state = hyplinks[x].split(',')[1]\n",
    "    full_link = urlpart+hyplinks[x].split(',')[0]\n",
    "    driver.get(full_link)\n",
    "    contenteg = driver.page_source\n",
    "    soupeg = BeautifulSoup(contenteg)\n",
    "    cos_dentists = []\n",
    "    locations = []\n",
    "    phone_numbers = []\n",
    "\n",
    "    for href in soupeg.findAll('a', href=True):\n",
    "        cos_dentists.append(href.contents[0])\n",
    "    cos_dentists = cos_dentists[4:-6]\n",
    "\n",
    "    if soupeg.find(id=\"content\"):\n",
    "        for p in soupeg.find(id=\"content\").find_all(\"p\"):\n",
    "            content = p.get_text()\n",
    "            phnbrs = re.search(pattern3, content)\n",
    "            if phnbrs:\n",
    "                phone_numbers.append(phnbrs[0].strip())\n",
    "            else:\n",
    "                phone_numbers.append(\"n/a\")\n",
    "            lctns = re.search(pattern4, content)\n",
    "            if lctns:\n",
    "                locations.append(lctns[0].strip())\n",
    "            else:\n",
    "                locations.append(\"n/a\")\n",
    "\n",
    "    for x in range(len(cos_dentists)):\n",
    "        main_dict[cos_dentists[x]] = [state.strip('\\n'), phone_numbers[x], locations[x]]\n",
    "\n",
    "dataframe = pd.DataFrame.from_dict(main_dict, orient='index', columns=['state', 'phone', 'location'])"
   ],
   "metadata": {
    "collapsed": false,
    "pycharm": {
     "name": "#%%\n"
    }
   }
  },
  {
   "cell_type": "code",
   "execution_count": 23,
   "outputs": [
    {
     "data": {
      "text/plain": "                              state         phone        location\nVictoria L. Vest, D.M.D.   Alabama   256-536-6860  Huntsville, AL\nYaritza Wright, DMD        Alabama   256-533-1611  Huntsville, AL\nBryant Dental              Alabama   256-217-4121  Huntsville, AL\nDoug Booth, DDS            Alabama   256.533.4770  Huntsville, AL\nSteve W. Murphree, DMD     Alabama   256-852-9878  Huntsville, AL",
      "text/html": "<div>\n<style scoped>\n    .dataframe tbody tr th:only-of-type {\n        vertical-align: middle;\n    }\n\n    .dataframe tbody tr th {\n        vertical-align: top;\n    }\n\n    .dataframe thead th {\n        text-align: right;\n    }\n</style>\n<table border=\"1\" class=\"dataframe\">\n  <thead>\n    <tr style=\"text-align: right;\">\n      <th></th>\n      <th>state</th>\n      <th>phone</th>\n      <th>location</th>\n    </tr>\n  </thead>\n  <tbody>\n    <tr>\n      <th>Victoria L. Vest, D.M.D.</th>\n      <td>Alabama</td>\n      <td>256-536-6860</td>\n      <td>Huntsville, AL</td>\n    </tr>\n    <tr>\n      <th>Yaritza Wright, DMD</th>\n      <td>Alabama</td>\n      <td>256-533-1611</td>\n      <td>Huntsville, AL</td>\n    </tr>\n    <tr>\n      <th>Bryant Dental</th>\n      <td>Alabama</td>\n      <td>256-217-4121</td>\n      <td>Huntsville, AL</td>\n    </tr>\n    <tr>\n      <th>Doug Booth, DDS</th>\n      <td>Alabama</td>\n      <td>256.533.4770</td>\n      <td>Huntsville, AL</td>\n    </tr>\n    <tr>\n      <th>Steve W. Murphree, DMD</th>\n      <td>Alabama</td>\n      <td>256-852-9878</td>\n      <td>Huntsville, AL</td>\n    </tr>\n  </tbody>\n</table>\n</div>"
     },
     "execution_count": 23,
     "metadata": {},
     "output_type": "execute_result"
    }
   ],
   "source": [
    "dataframe.head(5)"
   ],
   "metadata": {
    "collapsed": false,
    "pycharm": {
     "name": "#%%\n"
    }
   }
  },
  {
   "cell_type": "markdown",
   "source": [
    "## Tentative Number of Cosmetic Dentals"
   ],
   "metadata": {
    "collapsed": false
   }
  },
  {
   "cell_type": "code",
   "execution_count": 24,
   "outputs": [
    {
     "name": "stdout",
     "output_type": "stream",
     "text": [
      "Number of Cosmetic Dentals in the US:  1060\n"
     ]
    }
   ],
   "source": [
    "print('Number of Cosmetic Dentals in the US: ', len(dataframe))"
   ],
   "metadata": {
    "collapsed": false,
    "pycharm": {
     "name": "#%%\n"
    }
   }
  }
 ],
 "metadata": {
  "kernelspec": {
   "display_name": "Python 3",
   "language": "python",
   "name": "python3"
  },
  "language_info": {
   "codemirror_mode": {
    "name": "ipython",
    "version": 2
   },
   "file_extension": ".py",
   "mimetype": "text/x-python",
   "name": "python",
   "nbconvert_exporter": "python",
   "pygments_lexer": "ipython2",
   "version": "2.7.6"
  }
 },
 "nbformat": 4,
 "nbformat_minor": 0
}